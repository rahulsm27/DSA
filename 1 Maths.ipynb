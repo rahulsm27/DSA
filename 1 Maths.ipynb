{
 "cells": [
  {
   "cell_type": "code",
   "execution_count": 1,
   "metadata": {},
   "outputs": [
    {
     "name": "stdout",
     "output_type": "stream",
     "text": [
      "4\n"
     ]
    }
   ],
   "source": [
    "# Count digits\n",
    "\n",
    "x = 1234\n",
    "i = 1\n",
    "while x > 9:\n",
    "    x = x // 10\n",
    "    i+=1\n",
    "\n",
    "print(i)\n"
   ]
  },
  {
   "cell_type": "code",
   "execution_count": 31,
   "metadata": {},
   "outputs": [
    {
     "name": "stdout",
     "output_type": "stream",
     "text": [
      "Palindrome\n"
     ]
    }
   ],
   "source": [
    "\n",
    "# Palindrome\n",
    "\n",
    "\n",
    "x = 78987\n",
    "\n",
    "check = x\n",
    "y=0\n",
    "while x>9:\n",
    "    y= y*10 + (x % 10)\n",
    "    x = x//10\n",
    "\n",
    "y = y*10+x   \n",
    "\n",
    "if check == y:\n",
    "    print(\"Palindrome\")\n",
    "\n",
    "else:\n",
    "    print(\"Not palindrome\")"
   ]
  },
  {
   "cell_type": "code",
   "execution_count": 30,
   "metadata": {},
   "outputs": [
    {
     "data": {
      "text/plain": [
       "False"
      ]
     },
     "execution_count": 30,
     "metadata": {},
     "output_type": "execute_result"
    }
   ],
   "source": [
    "x == y"
   ]
  },
  {
   "cell_type": "code",
   "execution_count": 34,
   "metadata": {},
   "outputs": [],
   "source": [
    "def fibo(n):\n",
    "    if n == 1 or n==2:\n",
    "        return 1\n",
    "    else:\n",
    "        return fibo(n-1) + fibo(n-2)"
   ]
  },
  {
   "cell_type": "code",
   "execution_count": 36,
   "metadata": {},
   "outputs": [
    {
     "data": {
      "text/plain": [
       "8"
      ]
     },
     "execution_count": 36,
     "metadata": {},
     "output_type": "execute_result"
    }
   ],
   "source": [
    "fibo(6)"
   ]
  },
  {
   "cell_type": "code",
   "execution_count": 2,
   "metadata": {},
   "outputs": [
    {
     "name": "stdout",
     "output_type": "stream",
     "text": [
      "24\n"
     ]
    }
   ],
   "source": [
    "# Tralling zeros in factorial ***\n",
    "\n",
    "# Naive method\n",
    "\n",
    "def fact(n):\n",
    "    if n == 1:\n",
    "        return n\n",
    "    else :\n",
    "        return n*fact(n-1)\n",
    "x= fact(100)\n",
    "y=0\n",
    "i = -1\n",
    "while y == 0:\n",
    "    y = x % 10\n",
    "    x = x//10\n",
    "    i = i +1\n",
    "\n",
    "print(i)"
   ]
  },
  {
   "cell_type": "code",
   "execution_count": 10,
   "metadata": {},
   "outputs": [
    {
     "data": {
      "text/plain": [
       "24"
      ]
     },
     "execution_count": 10,
     "metadata": {},
     "output_type": "execute_result"
    }
   ],
   "source": [
    "\n",
    "## Efiicient method\n",
    "# We can easily observe that the number of 2s in prime factors is always more than or equal to the number of 5s. So if we count 5s in prime factors, we are done. How to count the total number of 5s in prime factors of n!? A simple way is to calculate floor(n/5). For example, 7! has one 5, 10! has two 5s. It is not done yet, there is one more thing to consider. Numbers like 25, 125, etc have more than one 5. For example, if we consider 28! we get one extra 5 and the number of 0s becomes 6. Handling this is simple, first, divide n by 5 and remove all single 5s, then divide by 25 to remove extra 5s, and so on. Following is the summarized formula for counting trailing 0s.\n",
    "\n",
    "# Trailing 0s in n! = Count of 5s in prime factors of n!\n",
    "#                   = floor(n/5) + floor(n/25) + floor(n/125) + ....\n",
    "\n",
    "## Count numbers of 5\n",
    "\n",
    "\n",
    "\n",
    "def findTrailingZeros(n):\n",
    "\n",
    "    count = 0\n",
    "    i = 5\n",
    "    while (n/i>=1):\n",
    "        count = count + n//i\n",
    "        i = i*5\n",
    "\n",
    "    return count\n",
    "\n",
    "findTrailingZeros(100)\n",
    "\n",
    "\n",
    "\n",
    "        "
   ]
  },
  {
   "cell_type": "code",
   "execution_count": 4,
   "metadata": {},
   "outputs": [
    {
     "data": {
      "text/plain": [
       "373"
      ]
     },
     "execution_count": 4,
     "metadata": {},
     "output_type": "execute_result"
    }
   ],
   "source": [
    "# COUNT NUMBER OF DIGITS IN FACTORIAL ***\n",
    "\n",
    "# Take log - Number of digits is integer part of log + one\n",
    "\n",
    "import math\n",
    "\n",
    "class Solution:\n",
    "    def digitsInFactorial(self,N):\n",
    "        if N == 0 or N == 1:\n",
    "            return 1\n",
    "        digits = 0\n",
    "        \n",
    "        for i in range(2,N+1):\n",
    "            digits = digits + math.log10(i)\n",
    "            \n",
    "        \n",
    "            \n",
    "        \n",
    "        return math.ceil(digits) \n",
    "S = Solution()\n",
    "S.digitsInFactorial(199)"
   ]
  },
  {
   "cell_type": "code",
   "execution_count": 7,
   "metadata": {},
   "outputs": [
    {
     "data": {
      "text/plain": [
       "'No'"
      ]
     },
     "execution_count": 7,
     "metadata": {},
     "output_type": "execute_result"
    }
   ],
   "source": [
    "# Prime check \n",
    "# Only check for numbers less than square root of N\\\n",
    "\n",
    "#Check for 2 and 3 it will elimanite a lot of combination\n",
    "#then we need to start from 5 and 7, 11 and 13 so on\n",
    "\n",
    "\n",
    "    \n",
    "class Solution:\n",
    "    def isPrime(self,N):\n",
    "        \n",
    "        No = 'No'\n",
    "        Yes = 'Yes'\n",
    "        \n",
    "        if N <= 1 :\n",
    "            return No\n",
    "        if N <= 3:\n",
    "            return Yes\n",
    "            \n",
    "        if (N % 2 == 0) or (N % 3 == 0):\n",
    "            return No\n",
    "            \n",
    "        i =5 \n",
    "        while (i*i <= N):\n",
    "            if (N % i == 0) or (N % (i+2) == 0):\n",
    "                return No\n",
    "            i = i +2 \n",
    "            \n",
    "        return Yes\n",
    "    \n",
    "S = Solution()\n",
    "S.isPrime(49)"
   ]
  },
  {
   "cell_type": "code",
   "execution_count": 35,
   "metadata": {},
   "outputs": [
    {
     "name": "stdout",
     "output_type": "stream",
     "text": [
      "2\n",
      "3\n",
      "5\n",
      "7\n",
      "11\n",
      "13\n",
      "17\n",
      "19\n",
      "23\n",
      "29\n"
     ]
    }
   ],
   "source": [
    "# How to find primes less than equal to N\n",
    "\n",
    "# Method of Sieveoferatoshtherns\n",
    "# Check for all numbers less than square of N\n",
    "    # Mark all mutliples of p as not prime\n",
    "# According to the algorithm we will mark all the numbers which are divisible by 2 and are greater than or equal to the square of it\n",
    "# Now we move to our next unmarked number 3 and mark all the numbers which are multiples of 3 and are greater than or equal to the square of it.  \n",
    "\n",
    "# IMP we need to take square of 2 then take multiples in size of 2 and mark\n",
    "\n",
    "def listOfPrime(n):\n",
    "\n",
    "    prime = [True for i in range(n+1)] # imp to match index in below ans part we need to start from 0\n",
    "    i = 2\n",
    "\n",
    "    while (i*i <= n):\n",
    "        if prime[i] == True:\n",
    "            for k in range(i*i,n+1,i):\n",
    "                prime[k] = False\n",
    "        i = i+1\n",
    "\n",
    "    ans = list(filter(lambda x : prime[x],[p for p in range(2,n+1)]))\n",
    "    # Print all prime numbers\n",
    "    for p in range(2, n+1):\n",
    "        if prime[p]:\n",
    "            print(p)    \n",
    "    return(ans)\n",
    "\n",
    "listOfPrime(30)\n",
    "\n"
   ]
  },
  {
   "cell_type": "code",
   "execution_count": 25,
   "metadata": {},
   "outputs": [
    {
     "data": {
      "text/plain": [
       "30"
      ]
     },
     "execution_count": 25,
     "metadata": {},
     "output_type": "execute_result"
    }
   ],
   "source": [
    "# Exact 3 divisor - My solution - Not efficient\n",
    "\n",
    "class Solution:\n",
    "    def exactly3Divisors(self,N):\n",
    "        \n",
    "        ans = []\n",
    "        list_of_numbers = []\n",
    "        list_of_primes = []\n",
    "        \n",
    "        def isPrime(N):\n",
    "        \n",
    "            No = False\n",
    "            Yes = True\n",
    "            \n",
    "            if N <= 1 :\n",
    "                return No\n",
    "            if N <= 3:\n",
    "                return Yes\n",
    "                \n",
    "            if (N % 2 == 0) or (N % 3 == 0):\n",
    "                return No\n",
    "                \n",
    "            i =5 \n",
    "            while (i*i <= N):\n",
    "                if (N % i == 0) or (N % (i+2) == 0):\n",
    "                    return No\n",
    "                i = i +2 \n",
    "                \n",
    "            return Yes\n",
    "            \n",
    "       \n",
    "            \n",
    "        for i in range(2,N+1):\n",
    "            if (i % 2 == 0) and (i % 3 == 0):\n",
    "                continue\n",
    "            if isPrime(i):\n",
    "                list_of_primes.append(i)\n",
    "                continue\n",
    "            list_of_numbers.append(i)\n",
    "               \n",
    "        for i in list_of_numbers:\n",
    "            check = i//2\n",
    "            count = 0\n",
    "            if count <= 1:\n",
    "                for x in list_of_primes:\n",
    "                    if x <= check:\n",
    "                        if i%x == 0 :\n",
    "                            count = count + 1\n",
    "                        if x*x < i and (i % (x*x)) == 0:\n",
    "                            count = count + 1\n",
    "    \n",
    "                    else:\n",
    "                        break\n",
    "\n",
    "\n",
    "            if count == 1:\n",
    "                ans.append(i)\n",
    "        return(len(ans))        \n",
    "        return(ans,list_of_numbers,list_of_primes)\n",
    "    \n",
    "\n",
    "S = Solution()\n",
    "S.exactly3Divisors(15000)"
   ]
  },
  {
   "cell_type": "code",
   "execution_count": 42,
   "metadata": {},
   "outputs": [
    {
     "data": {
      "text/plain": [
       "446"
      ]
     },
     "execution_count": 42,
     "metadata": {},
     "output_type": "execute_result"
    }
   ],
   "source": [
    "# Eaxact 3 divisor\n",
    "# Answers are square of prime numbers\n",
    "#for example upto 50 - 4,9,25,49\n",
    "\n",
    "\n",
    "# Find all the prime numbers upto square root of the given number\n",
    "# All such prime numbers will be the answer\n",
    "\n",
    "class Solution:\n",
    "    def exactly3Divisors(self,N):\n",
    "        \n",
    "        n = N ** 0.5\n",
    "        n = math.floor(n) # Take the square root of number we need to find prime numbers upt\n",
    "        # square root of number\n",
    "        \n",
    "        def listOfPrime(n):\n",
    "        \n",
    "            prime = [True ] *(n+1) # imp to match index in below ans part we need to start from 0\n",
    "            prime[0] == False\n",
    "            prime[1] == False\n",
    "            i = 2\n",
    "        \n",
    "            while (i*i <= n):\n",
    "                if prime[i] == True:\n",
    "                    for k in range(i*i,n+1,i):\n",
    "                        prime[k] = False\n",
    "                i = i+1\n",
    "        \n",
    "            ans = list(filter(lambda x : prime[x],[p for p in range(2,n+1)]))\n",
    "       \n",
    "            return(ans)\n",
    "            \n",
    "        list_of_primes = listOfPrime(n)\n",
    "        \n",
    "        \n",
    "        return (len(list_of_primes))    \n",
    "     \n",
    "\n",
    "s =Solution()\n",
    "s.exactly3Divisors(10000000) \n",
    "            "
   ]
  },
  {
   "cell_type": "code",
   "execution_count": 43,
   "metadata": {},
   "outputs": [
    {
     "data": {
      "text/plain": [
       "92233719.72291172"
      ]
     },
     "execution_count": 43,
     "metadata": {},
     "output_type": "execute_result"
    }
   ],
   "source": [
    "# Number of digit\n",
    "\n",
    "# Better Solution: A better solution is to use mathematics to solve this problem. The number of digits in a number say N can be easily obtained by using the formula:\n",
    " \n",
    "\n",
    "# number of digits in N = log10(N) + 1."
   ]
  },
  {
   "cell_type": "code",
   "execution_count": 57,
   "metadata": {},
   "outputs": [
    {
     "data": {
      "text/plain": [
       "[1, 2, 4, 5, 10, 10, 20, 25, 50, 100]"
      ]
     },
     "execution_count": 57,
     "metadata": {},
     "output_type": "execute_result"
    }
   ],
   "source": [
    "# Divisors of a number\n",
    "# Will always occur in pair\n",
    "\n",
    "# 30 : 1,30  2,15  3,10   5,6\n",
    "\n",
    "#one of the divison will be emall than or equal to sqrt(n)\n",
    "\n",
    "def divisors(n):\n",
    "    ans = []\n",
    "    i = 1\n",
    "    while (i*i <= n):\n",
    "        if n % i == 0:\n",
    "            ans.append(i)\n",
    "        i = i+1\n",
    "\n",
    "    while (i>=1):\n",
    "        if n % i == 0:\n",
    "            ans.append(int(n/i))\n",
    "        i = i-1\n",
    "    return ans\n",
    "\n",
    "divisors(100)\n"
   ]
  },
  {
   "cell_type": "code",
   "execution_count": 2,
   "metadata": {},
   "outputs": [
    {
     "data": {
      "text/plain": [
       "2"
      ]
     },
     "execution_count": 2,
     "metadata": {},
     "output_type": "execute_result"
    }
   ],
   "source": [
    "# GCD\n",
    "\n",
    "# method 1\n",
    "\n",
    "def gcd1(a,b):\n",
    "\n",
    "    if (a == 0):\n",
    "        return b\n",
    "    \n",
    "    if (b==0):\n",
    "        return a\n",
    "    if (a==b):\n",
    "        return a\n",
    "    \n",
    "    if a>b:\n",
    "        return gcd1(a-b,b)\n",
    "    else:\n",
    "        return gcd1(a,b-a)\n",
    "    \n",
    "gcd1(148,26)"
   ]
  },
  {
   "cell_type": "code",
   "execution_count": 8,
   "metadata": {},
   "outputs": [
    {
     "data": {
      "text/plain": [
       "4"
      ]
     },
     "execution_count": 8,
     "metadata": {},
     "output_type": "execute_result"
    }
   ],
   "source": [
    "def gcd2(a,b):\n",
    "\n",
    "    if (b == 0) :\n",
    "        return a\n",
    "\n",
    "    if (a>b):\n",
    "        return gcd2(b,a%b)\n",
    "    else:\n",
    "        return gcd2(a,b%a)  \n",
    "\n",
    "gcd2(148,26*2)"
   ]
  },
  {
   "cell_type": "code",
   "execution_count": 1,
   "metadata": {},
   "outputs": [
    {
     "data": {
      "text/plain": [
       "[3, 3, 5, 7]"
      ]
     },
     "execution_count": 1,
     "metadata": {},
     "output_type": "execute_result"
    }
   ],
   "source": [
    "# Prime factors\n",
    "\n",
    "# 1) While n is divisible by 2, print 2 and divide n by 2 till it becomes odd.\n",
    "# 2) After step 1, n must be odd. Now start a loop from i = 3 to square root of n. While i divides n, print i and divide n by i, increment i by 2 and continue.\n",
    "# 3) If n is a prime number and is greater than 2, then n will not become 1 by above two steps. So print n if it is greater than 2.\n",
    "\n",
    "\n",
    "def primeFactors(n):\n",
    "\n",
    "    ans = []\n",
    "\n",
    "    while (n%2 == 0):\n",
    "        ans.append(2)\n",
    "        n = n/2\n",
    "    \n",
    "    for i in range(3,n+1,2):\n",
    "        while (n%i == 0):\n",
    "            ans.append(i)\n",
    "            n = n/i\n",
    "        \n",
    "    if n>2: # n will not be 1 if it is prime\n",
    "        ans.append(n)\n",
    "\n",
    "    return(ans)   \n",
    "\n",
    "\n",
    "n = 315\n",
    "primeFactors(n)\n",
    "\n"
   ]
  },
  {
   "cell_type": "code",
   "execution_count": 27,
   "metadata": {},
   "outputs": [
    {
     "data": {
      "text/plain": [
       "81"
      ]
     },
     "execution_count": 27,
     "metadata": {},
     "output_type": "execute_result"
    }
   ],
   "source": [
    "# power x raise to n\n",
    "\n",
    "# if x is even =  power (x * n/2) . Multiplpy by 2\n",
    "# if x is odd = power(x* (n-1)/2)  * x. Multipye by2\n",
    "\n",
    "\n",
    "def pow(x,n):\n",
    "    if n == 1:\n",
    "        return x\n",
    "    \n",
    "    temp = pow(x,n//2) # floor division\n",
    "    temp = temp*temp\n",
    "    if n % 2 == 0:\n",
    "        return(temp)\n",
    "    else:\n",
    "        return (x*temp)\n",
    "    \n",
    "\n",
    "\n",
    "pow(3,4)\n",
    "\n",
    "\n",
    "\n"
   ]
  },
  {
   "cell_type": "code",
   "execution_count": 26,
   "metadata": {},
   "outputs": [
    {
     "data": {
      "text/plain": [
       "729"
      ]
     },
     "execution_count": 26,
     "metadata": {},
     "output_type": "execute_result"
    }
   ],
   "source": [
    "# more efficient mehtod\n",
    "\n",
    "# 3 ^19 = 3^16   * 3^2 * 3^1\n",
    "\n",
    "# 19 : 10011\n",
    "# 3(16) 3(8) 3(4) 3(2) 3(1)\n",
    "\n",
    "# Every number can be written in powers of 2:\n",
    "# we cna traverse throgh the bits of 19. If 1 multiply by x otherwise ignore but keep multiplying x by x\n",
    "\n",
    "def  pow2(x,n):\n",
    "\n",
    "    i = x\n",
    "    ans = 1\n",
    "\n",
    "    while( n > 0):\n",
    "        \n",
    "        if n%2 == 1:\n",
    "            ans = ans*i\n",
    "\n",
    "        i = i*i\n",
    "        \n",
    "        n = n //2\n",
    " \n",
    "    return ans\n",
    "\n",
    "\n",
    "pow2(9,3)\n",
    "\n",
    "            \n",
    "\n"
   ]
  },
  {
   "cell_type": "code",
   "execution_count": null,
   "metadata": {},
   "outputs": [],
   "source": [
    "# 1 Sum of natural numbers = n(n+1)/2\n",
    "# 2 . Count digits = log10(N) + 1.\n",
    "# 3 Plaindrome = reverse using % and // taking use of temp\n",
    "#4  Factor of a number - recursion / iterative\n",
    "#5 Trailling zeros in factorial - count number of 5"
   ]
  },
  {
   "cell_type": "code",
   "execution_count": null,
   "metadata": {},
   "outputs": [],
   "source": []
  },
  {
   "cell_type": "code",
   "execution_count": null,
   "metadata": {},
   "outputs": [],
   "source": [
    "# Addition under moudle\n",
    "# Multiplication under Modulo\n",
    "# Modulear multiplictive inverse"
   ]
  }
 ],
 "metadata": {
  "kernelspec": {
   "display_name": "Python 3",
   "language": "python",
   "name": "python3"
  },
  "language_info": {
   "codemirror_mode": {
    "name": "ipython",
    "version": 3
   },
   "file_extension": ".py",
   "mimetype": "text/x-python",
   "name": "python",
   "nbconvert_exporter": "python",
   "pygments_lexer": "ipython3",
   "version": "3.11.3"
  },
  "orig_nbformat": 4
 },
 "nbformat": 4,
 "nbformat_minor": 2
}
