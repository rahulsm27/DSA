{
 "cells": [
  {
   "cell_type": "code",
   "execution_count": null,
   "metadata": {},
   "outputs": [],
   "source": [
    "\"\"\"\n",
    "What is Recursion? \n",
    "The process in which a function calls itself directly or indirectly is called recursion and the corresponding function is called a recursive function. Using a recursive algorithm, certain problems can be solved quite easily. Examples of such problems are Towers of Hanoi (TOH), Inorder/Preorder/Postorder Tree Traversals, DFS of Graph, etc. A recursive function solves a particular problem by calling a copy of itself and solving smaller subproblems of the original problems. Many more recursive calls can be generated as and when required. It is essential to know that we should provide a certain case in order to terminate this recursion process. So we can say that every time the function calls itself with a simpler version of the original problem.\n",
    "\"\"\""
   ]
  },
  {
   "cell_type": "code",
   "execution_count": 2,
   "metadata": {},
   "outputs": [
    {
     "name": "stdout",
     "output_type": "stream",
     "text": [
      "Tail recurs\n",
      "Tail recurs\n",
      "Tail recurs\n",
      "Tail recurs\n",
      "Tail recurs\n"
     ]
    }
   ],
   "source": [
    "# 3. Recursion\n",
    "\n",
    "# Tail Recursion: A recursive function is said to be following Tail Recursion if it invokes itself at the end of the function. That is, if all of the statements are executed before the function invokes itself then it is said to be following Tail Recursion.\n",
    "\n",
    "# ex\n",
    "\n",
    "def func(n):\n",
    "    if n == 0:\n",
    "        return\n",
    "    print(\"Tail recurs\")\n",
    "    func(n-1)\n",
    "\n",
    "func(5)    \n"
   ]
  },
  {
   "cell_type": "code",
   "execution_count": 4,
   "metadata": {},
   "outputs": [
    {
     "data": {
      "text/plain": [
       "120"
      ]
     },
     "execution_count": 4,
     "metadata": {},
     "output_type": "execute_result"
    }
   ],
   "source": [
    "#Not a tail recursion\n",
    "# Here after calling fact(n-1) it is used to calcualte n*\n",
    "\n",
    "def fact(n):\n",
    "    if n==0:\n",
    "        return 1\n",
    "    return n*fact(n-1)\n",
    "\n",
    "fact(5)"
   ]
  },
  {
   "cell_type": "code",
   "execution_count": null,
   "metadata": {},
   "outputs": [],
   "source": [
    "\"\"\"\n",
    "Which one is Better-Tail Recursive or Non Tail-Recursive?\n",
    "\n",
    "\n",
    "The tail-recursive functions are considered better than non-tail recursive functions as tail-recursion can be optimized by the compiler. The idea used by compilers to optimize tail-recursive functions is simple, since the recursive call is the last statement, there is nothing left to do in the current function, so saving the current function’s stack frame is of no use.\n",
    "\n",
    "Can a non-tail recursive function be written as tail-recursive to optimize it?\n",
    "\n",
    "->It is not possible for every non tail recursive function to be written as tail recursive.\n",
    "\"\"\""
   ]
  },
  {
   "cell_type": "code",
   "execution_count": 10,
   "metadata": {},
   "outputs": [
    {
     "data": {
      "text/plain": [
       "120"
      ]
     },
     "execution_count": 10,
     "metadata": {},
     "output_type": "execute_result"
    }
   ],
   "source": [
    "# Tail recursive func are optimized by complike in c and java..not in python\n",
    "# they delelte the function in stack as nothing needs to be done\n",
    "\n",
    "# Converting factorial to tail recursive\n",
    "def factTR(N,a):\n",
    "    if (N == 0):  \n",
    "        return a \n",
    "  \n",
    "    return factTR(N-1, N*a)\n",
    "\n",
    "factTR(5,1)"
   ]
  },
  {
   "cell_type": "code",
   "execution_count": 12,
   "metadata": {},
   "outputs": [
    {
     "name": "stdout",
     "output_type": "stream",
     "text": [
      "5\n"
     ]
    }
   ],
   "source": [
    "# Below function return floor of logn (base 2)\n",
    "\n",
    "def func(n):\n",
    "    if n<=1:\n",
    "        return 0\n",
    "    else:\n",
    "        return 1 + func(n//2)\n",
    "\n",
    "ans = func(32)\n",
    "print(ans)"
   ]
  },
  {
   "cell_type": "code",
   "execution_count": 13,
   "metadata": {},
   "outputs": [
    {
     "name": "stdout",
     "output_type": "stream",
     "text": [
      "1\n",
      "1\n",
      "0\n",
      "1\n"
     ]
    }
   ],
   "source": [
    "# Below function returns binary\n",
    "\n",
    "def func(n):\n",
    "    if n == 0:\n",
    "        return\n",
    "    func(n//2)\n",
    "    print(n%2)\n",
    "\n",
    "func(13)"
   ]
  },
  {
   "cell_type": "code",
   "execution_count": 14,
   "metadata": {},
   "outputs": [
    {
     "name": "stdout",
     "output_type": "stream",
     "text": [
      "1\n",
      "2\n",
      "3\n",
      "4\n"
     ]
    }
   ],
   "source": [
    "# print 1 to 4...print comes after func call...if there is print after func call...it gets exectue first for innermost\n",
    "n=4\n",
    "\n",
    "def func(n):\n",
    "    if n == 0:\n",
    "        return\n",
    "    func(n-1)\n",
    "    print(n)\n",
    "\n",
    "func(4)\n",
    "\n"
   ]
  },
  {
   "cell_type": "code",
   "execution_count": 15,
   "metadata": {},
   "outputs": [
    {
     "name": "stdout",
     "output_type": "stream",
     "text": [
      "4\n",
      "3\n",
      "2\n",
      "1\n"
     ]
    }
   ],
   "source": [
    "# print 4 to 1...print before recursive call..this is kind of tail recursion\n",
    "def func(n):\n",
    "    if n == 0:\n",
    "        return\n",
    "\n",
    "    print(n)\n",
    "    func(n-1)\n",
    "\n",
    "func(4)\n"
   ]
  },
  {
   "cell_type": "code",
   "execution_count": 19,
   "metadata": {},
   "outputs": [
    {
     "data": {
      "text/plain": [
       "17"
      ]
     },
     "execution_count": 19,
     "metadata": {},
     "output_type": "execute_result"
    }
   ],
   "source": [
    "# sum of digits using recursion\n",
    "\n",
    "def func(n):\n",
    "    if n//10 == 0:\n",
    "        return n%10\n",
    "\n",
    "    return (n%10) +func(n//10)\n",
    "\n",
    "func(5246)"
   ]
  },
  {
   "cell_type": "code",
   "execution_count": 31,
   "metadata": {},
   "outputs": [
    {
     "data": {
      "text/plain": [
       "True"
      ]
     },
     "execution_count": 31,
     "metadata": {},
     "output_type": "execute_result"
    }
   ],
   "source": [
    "# palindrome check using recursion\n",
    "\n",
    "def palindrome(x):\n",
    "\n",
    "    if len(x) ==1 :\n",
    "        return True\n",
    "    if len(x) == 2:\n",
    "        return x[0] == x[1]\n",
    "\n",
    "    return (x[0] == x[-1]) and palindrome (x[1:-1])\n",
    "x= 'geeksskeeg'\n",
    "palindrome(x)"
   ]
  },
  {
   "cell_type": "code",
   "execution_count": 24,
   "metadata": {},
   "outputs": [
    {
     "data": {
      "text/plain": [
       "['a', 'b', 'c', 'd', 'e', 'f']"
      ]
     },
     "execution_count": 24,
     "metadata": {},
     "output_type": "execute_result"
    }
   ],
   "source": [
    "\"a b c d e f\".split()"
   ]
  },
  {
   "cell_type": "code",
   "execution_count": 40,
   "metadata": {},
   "outputs": [
    {
     "name": "stdout",
     "output_type": "stream",
     "text": [
      "1 2 3 4"
     ]
    }
   ],
   "source": [
    "class Solution:\n",
    "    def printArrayRecursively(self,arr,n):\n",
    "        if n == 1:\n",
    "            print (arr[0], end=\"\")\n",
    "            return\n",
    "        print (arr[0], end=\" \")\n",
    "        self.printArrayRecursively(arr[1:],n-1)\n",
    "\n",
    "s =Solution()\n",
    "s.printArrayRecursively([1,2,3,4],4)"
   ]
  },
  {
   "cell_type": "code",
   "execution_count": 41,
   "metadata": {},
   "outputs": [],
   "source": [
    "# You are given two numbers n and r. You need to find nCr.\n",
    "# nCr = (n!) / ((n-r)!*(r!))\n",
    "# In recursive way, we can write nCr as nCr = (n-1)C(r-1) + (n-1)Cr\n",
    "def nCr(n,r):\n",
    "    if n == r:\n",
    "        return 1\n",
    "    if r == 0 :\n",
    "        return 1\n",
    "    if r == 1:\n",
    "        return n\n",
    "        \n",
    "    return nCr(n-1,r-1) + nCr(n-1,r)\n",
    "    #code here\n",
    "    "
   ]
  },
  {
   "cell_type": "code",
   "execution_count": null,
   "metadata": {},
   "outputs": [],
   "source": [
    "# FDibonacci\n",
    "class Solution:\n",
    "    def fibonacci(self,n):\n",
    "        if n == 0:\n",
    "            return 0\n",
    "        if n == 1:\n",
    "            return 1\n",
    "            \n",
    "        return self.fibonacci(n-1) + self.fibonacci(n-2)"
   ]
  }
 ],
 "metadata": {
  "kernelspec": {
   "display_name": "Python 3",
   "language": "python",
   "name": "python3"
  },
  "language_info": {
   "codemirror_mode": {
    "name": "ipython",
    "version": 3
   },
   "file_extension": ".py",
   "mimetype": "text/x-python",
   "name": "python",
   "nbconvert_exporter": "python",
   "pygments_lexer": "ipython3",
   "version": "3.11.3"
  },
  "orig_nbformat": 4
 },
 "nbformat": 4,
 "nbformat_minor": 2
}
