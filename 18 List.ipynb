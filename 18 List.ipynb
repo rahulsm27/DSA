{
 "cells": [
  {
   "cell_type": "code",
   "execution_count": null,
   "metadata": {},
   "outputs": [],
   "source": [
    "# Left rotate by d places\n"
   ]
  },
  {
   "cell_type": "code",
   "execution_count": 4,
   "metadata": {},
   "outputs": [
    {
     "name": "stdout",
     "output_type": "stream",
     "text": [
      "Original list : [1, 4, 6, 7, 2]\n",
      "List after left rotate by 3 : [7, 2, 1, 4, 6]\n"
     ]
    }
   ],
   "source": [
    "# DIRECT SOLUTION : Method 1: Rotate a list using Slicing \n",
    "test_list = [1, 4, 6, 7, 2]\n",
    "\n",
    "# printing original list\n",
    "print (\"Original list : \" + str(test_list))\n",
    "\n",
    "# using slicing to left rotate by 3\n",
    "test_list = test_list[3:]+ test_list[:3]\n",
    "# Printing list after left rotate\n",
    "print (\"List after left rotate by 3 : \" + str(test_list))"
   ]
  },
  {
   "cell_type": "code",
   "execution_count": null,
   "metadata": {},
   "outputs": [],
   "source": [
    "# Method 2: Rotate a list using collections.deque.rotate() "
   ]
  },
  {
   "cell_type": "code",
   "execution_count": 8,
   "metadata": {},
   "outputs": [
    {
     "name": "stdout",
     "output_type": "stream",
     "text": [
      "[1, 2, 3, 4, 5, 6, 7, 8]\n",
      "[4, 5, 6, 7, 8, 1, 2, 3]\n",
      "[6, 7, 8, 1, 2, 3, 4, 5]\n"
     ]
    }
   ],
   "source": [
    "from collections import deque\n",
    "test_list = [1, 2,3,4,5,6,7,8]\n",
    "print(test_list)\n",
    "\n",
    "test_list_d = deque(test_list)\n",
    "test_list_d.rotate(-3) # Left rotate\n",
    "print(list(test_list_d))\n",
    "\n",
    "test_list_d = deque(test_list)\n",
    "test_list_d.rotate(3)  # Right rotate\n",
    "print(list(test_list_d))"
   ]
  },
  {
   "cell_type": "code",
   "execution_count": 9,
   "metadata": {},
   "outputs": [
    {
     "name": "stdout",
     "output_type": "stream",
     "text": [
      "[40, 50, 10, 20, 30]\n"
     ]
    }
   ],
   "source": [
    "#Method 3: Using Pop/Append# \n",
    "def leftRotate(l,d):\n",
    "    for i in range(0,d):\n",
    "        l.append(l.pop(0))\n",
    "\n",
    "l=[10,20,30,40,50]\n",
    "d=3\n",
    "leftRotate(l,d)\n",
    "print(l)"
   ]
  },
  {
   "cell_type": "code",
   "execution_count": null,
   "metadata": {},
   "outputs": [],
   "source": []
  }
 ],
 "metadata": {
  "kernelspec": {
   "display_name": "Python 3",
   "language": "python",
   "name": "python3"
  },
  "language_info": {
   "codemirror_mode": {
    "name": "ipython",
    "version": 3
   },
   "file_extension": ".py",
   "mimetype": "text/x-python",
   "name": "python",
   "nbconvert_exporter": "python",
   "pygments_lexer": "ipython3",
   "version": "3.11.3"
  },
  "orig_nbformat": 4
 },
 "nbformat": 4,
 "nbformat_minor": 2
}
