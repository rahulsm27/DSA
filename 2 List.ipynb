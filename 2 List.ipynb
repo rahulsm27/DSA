{
 "cells": [
  {
   "cell_type": "code",
   "execution_count": null,
   "metadata": {},
   "outputs": [],
   "source": [
    "# Storing of list\n",
    "# Refernce are stored in countinuous bytes of memmory\n",
    "# We can access elements which are stored somewhere else\n",
    "# List are dynamic. That is a block of memory is reserved. During insertion or deletion if the block gets occupied the list is copied to another memory location with bigger block of memory\n",
    "\n",
    "# Accessing is O(1)\n",
    "# Insertion is O(n)\n",
    "\n",
    "# Complexities for Creating Lists\n",
    "\n",
    "\n",
    "# Time Complexity: O(1)\n",
    "# Space Complexity: O(n)\n",
    "\n",
    "\n",
    "# Complexities for Adding elements in a Lists(append() method):\n",
    "# Time Complexity: O(1) \n",
    "\n",
    "# Space Complexity: O(1)\n",
    "\n",
    "\n",
    "# Using insert() method\n",
    "# append() method only works for the addition of elements at the end of the List, for the addition of elements at the desired position, insert() method is used. Unlike append() which takes only one argument, the insert() method requires two arguments(position, value). \n",
    "\n",
    "\n",
    "# Method 3: Using extend() method\n",
    "# Other than append() and insert() methods, there's one more method for the Addition of elements, extend(), this method is used to add multiple elements at the same time at the end of the list.\n",
    "\n",
    "# Note: append() and extend() methods can only add elements at the end\n",
    "\n",
    "\n",
    "# A list can be reversed by using the reverse() method in Python.\n",
    " "
   ]
  },
  {
   "cell_type": "code",
   "execution_count": null,
   "metadata": {},
   "outputs": [],
   "source": [
    "# Function vs method\n",
    "\n",
    "# Method are specific to class.\n",
    "\n",
    "# mylist.reverse() # specific to list class\n",
    "# len(mylist) # functiona are universal..can be used for other classes"
   ]
  },
  {
   "cell_type": "code",
   "execution_count": null,
   "metadata": {},
   "outputs": [],
   "source": [
    "# # Note: Remove method in List will only remove the first occurrence of the searched element.\n",
    "\n",
    "# Complexities for Deleting elements in a Lists(remove() method):\n",
    "# Time Complexity: O(n)\n",
    "\n",
    "# Space Complexity: O(1)\n",
    "\n",
    "# #Method 2: Using pop() method\n",
    "# pop() function can also be used to remove and return an element from the list, but by default it removes only the last element of the list, to remove an element from a specific position of the List, the index of the element is passed as an argument to the pop() method.\n",
    " "
   ]
  },
  {
   "cell_type": "code",
   "execution_count": null,
   "metadata": {},
   "outputs": [],
   "source": [
    "# List Methods\n",
    "# Function\tDescription\n",
    "# Append()\tAdd an element to the end of the list\n",
    "# Extend()\tAdd all elements of a list to another list\n",
    "# Insert()\tInsert an item at the defined index\n",
    "# Remove()\tRemoves an item from the list\n",
    "# Clear()\tRemoves all items from the list\n",
    "# Index()\tReturns the index of the first matched item\n",
    "# Count()\tReturns the count of the number of items passed as an argument\n",
    "# Sort()\tSort items in a list in ascending order\n",
    "# Reverse()\tReverse the order of items in the list\n",
    "# copy()\tReturns a copy of the list\n"
   ]
  },
  {
   "cell_type": "code",
   "execution_count": null,
   "metadata": {},
   "outputs": [],
   "source": [
    "# reduce()\tapply a particular function passed in its argument to all of the list elements stores the intermediate result and only returns the final summation value\n",
    "# sum()\tSums up the numbers in the list\n",
    "# ord()\tReturns an integer representing the Unicode code point of the given Unicode character\n",
    "# cmp()\tThis function returns 1 if the first list is “greater” than the second list\n",
    "# max()\treturn maximum element of a given list\n",
    "# min()\treturn minimum element of a given list\n",
    "# all()\tReturns true if all element is true or if the list is empty\n",
    "# any()\treturn true if any element of the list is true. if the list is empty, return false\n",
    "# len()\tReturns length of the list or size of the list\n",
    "# enumerate()\tReturns enumerate object of the list\n",
    "# accumulate()\tapply a particular function passed in its argument to all of the list elements returns a list containing the intermediate results\n",
    "# filter()\ttests if each element of a list is true or not\n",
    "# map()\treturns a list of the results after applying the given function to each item of a given iterable\n",
    "# lambda()\tThis function can have any number of arguments but only one expression, which is evaluated and returned."
   ]
  },
  {
   "cell_type": "code",
   "execution_count": null,
   "metadata": {},
   "outputs": [],
   "source": [
    "# Average "
   ]
  },
  {
   "cell_type": "code",
   "execution_count": null,
   "metadata": {},
   "outputs": [],
   "source": [
    "#Comprehensions in Python provide us with a short and concise way to construct new sequences (such as lists, set, dictionary etc.) using sequences which have been already defined. Python supports the following 4 types of comprehensions:\n",
    "\n",
    "# List Comprehensions\n",
    "# Dictionary Comprehensions\n",
    "# Set Comprehensions\n",
    "# Generator Comprehensions"
   ]
  },
  {
   "cell_type": "code",
   "execution_count": null,
   "metadata": {},
   "outputs": [],
   "source": [
    "# Generator Comprehensions:\n",
    "# Generator Comprehensions are very similar to list comprehensions. One difference between them is that generator comprehensions use circular brackets whereas list comprehensions use square brackets. The major difference between them is that generators don’t allocate memory for the whole list. Instead, they generate each value one by one which is why they are memory efficient. Let’s look at the following example to understand generator comprehension:"
   ]
  },
  {
   "cell_type": "code",
   "execution_count": 3,
   "metadata": {},
   "outputs": [
    {
     "data": {
      "text/plain": [
       "2"
      ]
     },
     "execution_count": 3,
     "metadata": {},
     "output_type": "execute_result"
    }
   ],
   "source": [
    "# Iter, Iterable and Generator\n",
    "\n",
    "# list is iterable\n",
    "\n",
    "l1=[1,2,3,4,5]\n",
    "\n",
    "# to make it iterator use iter function\n",
    "\n",
    "x = iter(l1)\n",
    "\n",
    "next(x)\n",
    "next(x)"
   ]
  },
  {
   "cell_type": "code",
   "execution_count": 5,
   "metadata": {},
   "outputs": [],
   "source": [
    "# Generator using yield or geneator comprehension\n",
    "\n",
    "input_list = [1, 2, 3, 4, 4, 5, 6, 7, 7]\n",
    "\n",
    "output_gen = (var for var in input_list if var % 2 == 0)"
   ]
  },
  {
   "cell_type": "code",
   "execution_count": 7,
   "metadata": {},
   "outputs": [
    {
     "data": {
      "text/plain": [
       "4"
      ]
     },
     "execution_count": 7,
     "metadata": {},
     "output_type": "execute_result"
    }
   ],
   "source": [
    "next(output_gen)"
   ]
  },
  {
   "cell_type": "code",
   "execution_count": null,
   "metadata": {},
   "outputs": [],
   "source": [
    "# Python program to find largest\n",
    "# number in a list\n",
    " \n",
    " \n",
    "def myMax(list1):\n",
    " \n",
    "    # Assume first number in list is largest\n",
    "    # initially and assign it to variable \"max\"\n",
    "    max = list1[0]\n",
    "# Now traverse through the list and compare\n",
    "    # each number with \"max\" value. Whichever is\n",
    "    # largest assign that value to \"max'.\n",
    "    for x in list1:\n",
    "        if x > max:\n",
    "            max = x\n",
    " \n",
    "    # after complete traversing the list\n",
    "    # return the \"max\" value\n",
    "    return max\n",
    " \n",
    " \n",
    "# Driver code\n",
    "list1 = [10, 20, 4, 45, 99]\n",
    "print(\"Largest element is:\", myMax(list1))"
   ]
  },
  {
   "cell_type": "code",
   "execution_count": null,
   "metadata": {},
   "outputs": [],
   "source": [
    "# Second largest\n",
    "\n",
    "# 1) Initialize the first as 0(i.e, index of arr[0] element\n",
    "# 2) Start traversing the array from array[1],\n",
    "#    a) If the current element in array say arr[i] is greater\n",
    "#       than first. Then update first and second as,\n",
    "#       second = first\n",
    "#       first = arr[i]\n",
    "#    b) If the current element is in between first and second,\n",
    "#       then update second to store the value of current variable as\n",
    "#       second = arr[i]\n",
    "# 3) Return the value stored in second."
   ]
  },
  {
   "cell_type": "code",
   "execution_count": null,
   "metadata": {},
   "outputs": [],
   "source": [
    "# Sorted\n",
    "\n",
    "# Python3 program to check if an\n",
    "# Array is sorted or not\n",
    "\n",
    "# Function that returns true if array is\n",
    "# sorted in non-decreasing order.\n",
    "def arraySortedOrNot(arr, n):\n",
    "\n",
    "\t# Array has one or no element\n",
    "\tif (n == 0 or n == 1):\n",
    "\t\treturn True\n",
    "\n",
    "\tfor i in range(1, n):\n",
    "\n",
    "\t\t# Unsorted pair found\n",
    "\t\tif (arr[i-1] > arr[i]):\n",
    "\t\t\treturn False\n",
    "\n",
    "\t# No unsorted pair found\n",
    "\treturn True\n",
    "\n",
    "\n",
    "# Driver code\n",
    "arr = [20, 23, 23, 45, 78, 88]\n",
    "n = len(arr)\n",
    "if (arraySortedOrNot(arr, n)):\n",
    "\tprint(\"Yes\")\n",
    "else:\n",
    "\tprint(\"No\")\n",
    "\t\n"
   ]
  },
  {
   "cell_type": "code",
   "execution_count": null,
   "metadata": {},
   "outputs": [],
   "source": [
    "# reverse using two pointer approach\n",
    "\n",
    "def reverseList(l):\n",
    "    s = 0\n",
    "    e = len(l) - 1\n",
    "\n",
    "    while s < e:\n",
    "        l[s], l[e] = l[e], l[s] # swapping left element to right and right element to left\n",
    "        s = s + 1\n",
    "        e = e - 1"
   ]
  },
  {
   "cell_type": "code",
   "execution_count": 2,
   "metadata": {},
   "outputs": [],
   "source": [
    "# Remove duplicate imp***\n",
    "\n",
    "# Given a sorted array, the task is to remove the duplicate elements from the array.\n",
    "\n",
    "# Input  : arr[] = {2, 2, 2, 2, 2}\n",
    "# Output : arr[] = {2}\n",
    "#          new size = 1\n",
    "\n",
    "# Input  : arr[] = {1, 2, 2, 3, 4, 4, 4, 5, 5}\n",
    "# Output : arr[] = {1, 2, 3, 4, 5}\n",
    "#          new size = 5"
   ]
  },
  {
   "cell_type": "code",
   "execution_count": 1,
   "metadata": {},
   "outputs": [],
   "source": [
    "# Solution\n",
    "\n",
    "inp = [1,2,2,3,3,3,3,4,4,5,6,7,7,8]"
   ]
  },
  {
   "cell_type": "code",
   "execution_count": 3,
   "metadata": {},
   "outputs": [
    {
     "name": "stdout",
     "output_type": "stream",
     "text": [
      "[1, 2, 3, 4, 5, 6, 7, 8, 4, 5, 6, 7, 7, 8]\n"
     ]
    }
   ],
   "source": [
    "\n",
    "index = 0\n",
    "\n",
    "for i in range(len(inp)):\n",
    "    if inp[i] == inp[index]:\n",
    "        continue\n",
    "    if inp[i] > inp[index] and index == i-1:\n",
    "        index = index +1\n",
    "        continue\n",
    "    if inp[i] > inp[index] and index < i-1:\n",
    "        inp[index+1]  = inp[i]\n",
    "        index = index +1\n",
    "\n",
    "print(inp)"
   ]
  },
  {
   "cell_type": "code",
   "execution_count": 4,
   "metadata": {},
   "outputs": [
    {
     "name": "stdout",
     "output_type": "stream",
     "text": [
      "[1, 2, 3, 4, 5, 6, 7, 8, 4, 5, 6, 7, 7, 8]\n"
     ]
    }
   ],
   "source": [
    "arr = [1,2,2,3,3,3,3,4,4,5,6,7,7,8]\n",
    "n = len(arr)\n",
    "j=0\n",
    "for i in range(0, n-1):\n",
    "    if arr[i] != arr[i+1]:\n",
    "        arr[j] = arr[i]\n",
    "        j += 1\n",
    "arr[j] = arr[n-1]\n",
    "j += 1\n",
    "\n",
    "print(arr)"
   ]
  },
  {
   "cell_type": "code",
   "execution_count": 29,
   "metadata": {},
   "outputs": [
    {
     "data": {
      "text/plain": [
       "0"
      ]
     },
     "execution_count": 29,
     "metadata": {},
     "output_type": "execute_result"
    }
   ],
   "source": [
    "2^2"
   ]
  },
  {
   "cell_type": "code",
   "execution_count": 33,
   "metadata": {},
   "outputs": [],
   "source": [
    "# &\tBitwise AND\tResult bit 1,if both operand bits are 1;otherwise results bit 0.\tx & y\n",
    "# |\tBitwise OR\tResult bit 1,if any of the operand bit is 1; otherwise results bit 0.\tx | y\n",
    "# ~\tBitwise NOT\tinverts individual bits\t~x\n",
    "# ^\tBitwise XOR\t Results bit 1,if any of the operand bit is 1 but not both, otherwise results bit 0.x ^ y\n",
    "\n",
    "# >>\tEffect of dividing by two . Bitwise right shift\t The left operand’s value is moved toward right by the number of bits  specified by the right operand.\n",
    "# x>>\n",
    "\n",
    "# <<\tEffect of multiplying by two Bitwise left shift\tThe left operand’s value is moved toward left by the number of bits specified by the right operand.\n",
    "# x<<\n",
    "\n",
    "\n"
   ]
  },
  {
   "cell_type": "code",
   "execution_count": 32,
   "metadata": {},
   "outputs": [
    {
     "name": "stdout",
     "output_type": "stream",
     "text": [
      "5\n"
     ]
    }
   ],
   "source": [
    "# Given an array of positive integers. All numbers occur an even number of times except one number which occurs an odd number of times. Find the number in O(n) time & constant space.\n",
    "\n",
    "\n",
    "# Examples : \n",
    "\n",
    "# Input : arr = {1, 2, 3, 2, 3, 1, 3}\n",
    "# Output : 3\n",
    "\n",
    "# Input : arr = {5, 7, 2, 7, 5, 2, 5}\n",
    "# Output : 5\n",
    "# Python program to find the element occurring odd number of times\n",
    "\n",
    "def getOddOccurrence(arr):\n",
    "\n",
    "\t# Initialize result\n",
    "\tres = 0\n",
    "\t\n",
    "\t# Traverse the array\n",
    "\tfor element in arr:\n",
    "\t\t# XOR with the result\n",
    "\t\tres = res ^ element\n",
    "\n",
    "\treturn res\n",
    "\n",
    "# Test array\n",
    "arr = [ 2, 3, 5, 4, 5, 2, 4, 3, 5, 2, 4, 4, 2]\n",
    "\n",
    "print(\"%d\" % getOddOccurrence(arr))"
   ]
  },
  {
   "cell_type": "code",
   "execution_count": 34,
   "metadata": {},
   "outputs": [],
   "source": [
    "# elements greater than x , smaller than x .. run a loop..initialize a varialbe keep checking and udpate\n",
    "\n",
    "class Solution:\n",
    "    def greaterThanX(self,arr,n,x):\n",
    "        \n",
    "        count = 0\n",
    "        for i in arr:\n",
    "            if i>x:\n",
    "                count += 1\n",
    "        return count\n",
    "        #return required result\n",
    "        #code here\n"
   ]
  },
  {
   "cell_type": "code",
   "execution_count": 5,
   "metadata": {},
   "outputs": [
    {
     "name": "stdout",
     "output_type": "stream",
     "text": [
      "[4, 5, 3, 1, 2] -3 -5\n",
      "[4, 3, 5, 1, 2]\n",
      "[3, 4, 5, 1, 2]\n",
      "[3, 4, 5, 1, 2]\n"
     ]
    }
   ],
   "source": [
    "class Solution:\n",
    "    #Function to rotate an array by d elements in counter-clockwise direction. \n",
    "    def rotateArr(self,A,D,N):\n",
    "        l = -N\n",
    "        N = - N\n",
    "        D = -D\n",
    "        while D != 0:\n",
    "            A[N] ,A[D] = A[D], A[N]\n",
    "            D = D + 1\n",
    "            N = N + 1\n",
    "            \n",
    "        print(A , N , l)\n",
    "        while N>l:\n",
    "            A[N],A[N-1] = A[N-1],A[N]\n",
    "            N = N-1\n",
    "            print(A)\n",
    "        print(A)\n",
    "S = Solution()\n",
    "S.rotateArr([1,2,3,4,5],2,5)"
   ]
  },
  {
   "cell_type": "code",
   "execution_count": 66,
   "metadata": {},
   "outputs": [
    {
     "name": "stdout",
     "output_type": "stream",
     "text": [
      "[[1, 2], 2, 3, 4]\n",
      "[[1, 2], 2, 3, 4]\n",
      "[[1, 4], 2, 3, 4]\n",
      "[[1, 4], 2, 3, 4]\n"
     ]
    }
   ],
   "source": [
    "# A shallow copy means constructing a new collection object and then populating it with references to the child objects found in the original. In essence, a shallow copy is only one level deep. The copying process does not recurse and therefore won’t create copies of the child objects themselves.\n",
    "\n",
    "# A deep copy makes the copying process recursive. It means first constructing a new collection object and then recursively populating it with copies of the child objects found in the original. Copying an object this way walks the whole object tree to create a fully independent clone of the original object and all of its children.\n",
    "# if we modify a integer only one of the list is modified . int is inmmutable.so it will reference to another memory object\n",
    "# however if we modify a list withing a list..both list will get modified .\n",
    "\n",
    "a = [[1,2],2,3,4]\n",
    "b = a[:] # or b = list(a) or b = a.copy()\n",
    "\n",
    "print(a)\n",
    "print(b)\n",
    "\n",
    "a[0][1] = 4\n",
    "\n",
    "print(a)\n",
    "print(b)"
   ]
  },
  {
   "cell_type": "code",
   "execution_count": 67,
   "metadata": {},
   "outputs": [
    {
     "name": "stdout",
     "output_type": "stream",
     "text": [
      "4461039872\n",
      "4461039872\n",
      "4349308024\n",
      "4349308024\n",
      "4349308056\n",
      "4349308056\n",
      "4349308088\n",
      "4349308088\n"
     ]
    }
   ],
   "source": [
    "for i in range(4):\n",
    "    print (id(a[i]))\n",
    "    print (id(b[i]))"
   ]
  },
  {
   "cell_type": "code",
   "execution_count": 71,
   "metadata": {},
   "outputs": [
    {
     "name": "stdout",
     "output_type": "stream",
     "text": [
      "[[1, 2], 2, 3, 4]\n",
      "[[1, 2], 2, 3, 4]\n",
      "----------\n",
      "[[1, 2], 2, 4, 4]\n",
      "[[1, 2], 2, 3, 4]\n"
     ]
    }
   ],
   "source": [
    "\n",
    "a1 = [[1,2],2,3,4]\n",
    "b1 = a1[:]\n",
    "\n",
    "print(a1)\n",
    "print(b1)\n",
    "print(\"-\"*10)\n",
    "a1[2] = 4\n",
    "\n",
    "print(a1)\n",
    "print(b1)"
   ]
  },
  {
   "cell_type": "code",
   "execution_count": 76,
   "metadata": {},
   "outputs": [
    {
     "name": "stdout",
     "output_type": "stream",
     "text": [
      "[1, 2, 3, 4, 5]\n",
      "[2, 3, 4, 5, 5]\n",
      "[1, 2, 3, 4, 5]\n"
     ]
    }
   ],
   "source": [
    "# each list gets traveresed\n",
    "a=[1,2,3,4,5]\n",
    "b=[2,3,4,5,5]\n",
    "c=[1,2,3,4,5]\n",
    "\n",
    "for i in (a,b,c):\n",
    "    print (i)"
   ]
  },
  {
   "cell_type": "code",
   "execution_count": null,
   "metadata": {},
   "outputs": [],
   "source": [
    "## VERY IMPT\n",
    "\n",
    "[[]]*7\n",
    "\n",
    "\n",
    "#this will reference to same list \n",
    "#instead use \n",
    "[[] for x in range(7)]"
   ]
  }
 ],
 "metadata": {
  "kernelspec": {
   "display_name": "Python 3",
   "language": "python",
   "name": "python3"
  },
  "language_info": {
   "codemirror_mode": {
    "name": "ipython",
    "version": 3
   },
   "file_extension": ".py",
   "mimetype": "text/x-python",
   "name": "python",
   "nbconvert_exporter": "python",
   "pygments_lexer": "ipython3",
   "version": "3.11.3"
  },
  "orig_nbformat": 4
 },
 "nbformat": 4,
 "nbformat_minor": 2
}
