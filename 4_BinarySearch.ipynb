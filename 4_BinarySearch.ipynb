{
 "cells": [
  {
   "cell_type": "code",
   "execution_count": null,
   "metadata": {},
   "outputs": [],
   "source": [
    "# Binary search\n",
    "# # take mid .\n",
    "# check if mid is equal if yes return the index.\n",
    "# if not equal lower hihg or low depending on comparison of mid with x\n",
    "\n"
   ]
  },
  {
   "cell_type": "code",
   "execution_count": null,
   "metadata": {},
   "outputs": [],
   "source": [
    "# # Binary search\n",
    "# 1. Begin with the mid element of the whole array as search key.\n",
    "# 2. If the value of the search key is equal to the item then return index of the search key.\n",
    "# 3. Or if the value of the search key is less than the item in the middle of the interval, narrow the interval to the lower half.\n",
    "# 4. Otherwise, narrow it to the upper half.\n",
    "# 5. Repeatedly check from the second point until the value is found or the interval is empty.\n",
    "\n",
    "# Step-by-step Binary Search Algorithm: We basically ignore half of the elements just after one comparison.\n",
    "\n",
    "# 1. Compare x with the middle element.\n",
    "# 2. If x matches with the middle element, we return the mid index.\n",
    "# 3. Else If x is greater than the mid element, then x can only lie in the right half subarray after the mid element. So we recur for the right half.\n",
    "# 4. Else (x is smaller) recur for the left half."
   ]
  },
  {
   "cell_type": "code",
   "execution_count": null,
   "metadata": {},
   "outputs": [],
   "source": []
  },
  {
   "cell_type": "code",
   "execution_count": null,
   "metadata": {},
   "outputs": [],
   "source": []
  },
  {
   "cell_type": "code",
   "execution_count": 16,
   "metadata": {},
   "outputs": [
    {
     "data": {
      "text/plain": [
       "0"
      ]
     },
     "execution_count": 16,
     "metadata": {},
     "output_type": "execute_result"
    }
   ],
   "source": [
    "#1 binary search\n",
    "l = [10,10,20,25,28,30,40,50,60,80,100]\n",
    "x = 10\n",
    "\n",
    "def bsearch(l,x):\n",
    "    low = 0\n",
    "    high = len(l) - 1\n",
    "\n",
    "    while low<=high:\n",
    "        mid = (low+high)//2\n",
    "        if l[mid] == x:\n",
    "            return mid\n",
    "        elif l[mid] > x:\n",
    "            high = mid-1\n",
    "        else:\n",
    "            low = mid+1\n",
    "    return -1\n",
    "\n",
    "bsearch(l,x)\n"
   ]
  },
  {
   "cell_type": "code",
   "execution_count": null,
   "metadata": {},
   "outputs": [],
   "source": []
  },
  {
   "cell_type": "code",
   "execution_count": null,
   "metadata": {},
   "outputs": [],
   "source": []
  },
  {
   "cell_type": "code",
   "execution_count": 13,
   "metadata": {},
   "outputs": [
    {
     "data": {
      "text/plain": [
       "8"
      ]
     },
     "execution_count": 13,
     "metadata": {},
     "output_type": "execute_result"
    }
   ],
   "source": [
    "# Binary serach using recursion\n",
    "\n",
    "def bsearchRec(l,x,low,high):\n",
    "    \n",
    "    if low>high:\n",
    "        return-1\n",
    "    mid = (low+high)//2\n",
    "    if l[mid] == x:\n",
    "        return mid\n",
    "    if l[mid] > x:\n",
    "        return bsearchRec(l,x,low,mid-1)\n",
    "    if l[mid] < x:\n",
    "        return bsearchRec(l,x,mid+1,high)\n",
    "\n",
    "\n",
    "bsearchRec(l,80,0,len(l))\n",
    "\n"
   ]
  },
  {
   "cell_type": "code",
   "execution_count": null,
   "metadata": {},
   "outputs": [],
   "source": []
  },
  {
   "cell_type": "code",
   "execution_count": null,
   "metadata": {},
   "outputs": [],
   "source": [
    "# 2 Index of first occurance and last ocuurance in a sorte array\n",
    "\n",
    "# in case of returing first occurance. check if l[mid] = =x : then do extra check. if mid == 0 return mid\n",
    "# if immediate element before mid i.e mid-1 == mid change high to mid-1  else return mid\n",
    "\n",
    "# in case of returing last occurance. check if l[mid] = =x : then do extra check. if mid == 0 return mid\n",
    "# if immediate element after mid i.e mid+1 == mid change low to mid+1  else return mid\n",
    "\n"
   ]
  },
  {
   "cell_type": "code",
   "execution_count": 27,
   "metadata": {},
   "outputs": [
    {
     "data": {
      "text/plain": [
       "4"
      ]
     },
     "execution_count": 27,
     "metadata": {},
     "output_type": "execute_result"
    }
   ],
   "source": [
    "# 2.1 Index of first occurance in a sorted array\n",
    "\n",
    "\n",
    "def searchfirst(l,x):\n",
    "    low = 0\n",
    "    high = len(l) - 1\n",
    "\n",
    "    while low <= high:\n",
    "        mid = (low + high)//2\n",
    "\n",
    "        if l[mid] > x:\n",
    "            high = mid-1\n",
    "        elif l[mid] < x:\n",
    "            low = mid +1\n",
    "        elif mid == 0 :\n",
    "            return mid \n",
    "        elif l[mid-1] != l[mid]: # this will executed if mid == x..check if element before mid is equal to mid or not if not return mid..elese check in low to mid-1\n",
    "            return mid\n",
    "        else:\n",
    "            high = mid-1\n",
    "    return -1\n",
    "\n",
    "searchfirst([1,15,15,15,20,20,30],20)           \n"
   ]
  },
  {
   "cell_type": "code",
   "execution_count": 20,
   "metadata": {},
   "outputs": [
    {
     "data": {
      "text/plain": [
       "6"
      ]
     },
     "execution_count": 20,
     "metadata": {},
     "output_type": "execute_result"
    }
   ],
   "source": [
    "# 2.2 Index of last occurance in a sorted array\n",
    "\n",
    "\n",
    "def searchfirst(l,x):\n",
    "    low = 0\n",
    "    high = len(l) - 1\n",
    "\n",
    "    while low <= high:\n",
    "        mid = (low + high)//2\n",
    "\n",
    "        if l[mid] > x:\n",
    "            high = mid-1\n",
    "        elif l[mid] < x:\n",
    "            low = mid +1\n",
    "        elif mid == 0 :\n",
    "            return mid \n",
    "        elif l[mid+1] != l[mid]: # this will executed if mid == x..check if element before mid is equal to mid or not if not return mid..elese check in low to mid-1\n",
    "            return mid\n",
    "        else:\n",
    "            low = mid+1\n",
    "    return -1\n",
    "\n",
    "searchfirst([1,15,15,15,20,20,20,30],20)           \n"
   ]
  },
  {
   "cell_type": "code",
   "execution_count": null,
   "metadata": {},
   "outputs": [],
   "source": [
    "# 3 Count no of couences in sorted array\n",
    "\n",
    "# calculate first and last occurance\n",
    "# check if first is -1 then return 0 else\n",
    "# return last-first +1\n",
    "\n",
    "\n",
    "# A list contains only 0 and 1 - Count number of one\n",
    "# check for first occurance of 1.\n",
    "# return len-first index"
   ]
  },
  {
   "cell_type": "markdown",
   "metadata": {},
   "source": [
    "![Alt text](image-181.png)"
   ]
  },
  {
   "cell_type": "code",
   "execution_count": null,
   "metadata": {},
   "outputs": [],
   "source": []
  },
  {
   "cell_type": "code",
   "execution_count": null,
   "metadata": {},
   "outputs": [],
   "source": [
    "# 4 Count 1s in a sorted binary list -> use binary search\n",
    "\n",
    "\n",
    "def countOnes(arr, n):\n",
    "    low = 0\n",
    "    high = n - 1\n",
    "    while (low <= high):  # get the middle index\n",
    "        mid = (low + high) // 2\n",
    "\n",
    "        # check if the element at middle index is last 1\n",
    "        if ((mid == n - 1 or arr[mid + 1] == 0) and arr[mid] == 1):\n",
    "            return mid + 1\n",
    "\n",
    "        # check for 1 on left side\n",
    "        if (arr[mid] == 0):\n",
    "            high = mid - 1\n",
    "\n",
    "        # check for 1 on right side\n",
    "        elif(arr[mid] == 1):\n",
    "            low = mid + 1\n",
    "\n",
    "    return 0\n",
    "\n"
   ]
  },
  {
   "cell_type": "code",
   "execution_count": 3,
   "metadata": {},
   "outputs": [
    {
     "name": "stdout",
     "output_type": "stream",
     "text": [
      "16\n"
     ]
    }
   ],
   "source": [
    "# 5 Square root ..14 return 3 ...26 return 5\n",
    "# use binary search\n",
    "\n",
    "def floorSqrt(x): \n",
    "    \n",
    "    if x == 0 or x==1  :\n",
    "        return x\n",
    "    \n",
    "    \n",
    "\n",
    "    low = 1\n",
    "    high = x//2\n",
    "    \n",
    "    \n",
    "    while(low<=high):\n",
    "        mid = (low+high)//2\n",
    "        if mid * mid == x:\n",
    "            ans = mid\n",
    "            break\n",
    "        elif mid*mid < x:\n",
    "            ans = mid\n",
    "            low = mid+1\n",
    "        else :          # l[mid] * l[mid]>x:\n",
    "            high = mid-1\n",
    "        \n",
    "            \n",
    "    return ans\n",
    "\n",
    "print(floorSqrt(261))\n",
    "\n"
   ]
  },
  {
   "cell_type": "code",
   "execution_count": null,
   "metadata": {},
   "outputs": [],
   "source": []
  },
  {
   "cell_type": "code",
   "execution_count": null,
   "metadata": {},
   "outputs": [],
   "source": [
    "# 6 Find floor or ceil or number"
   ]
  },
  {
   "cell_type": "code",
   "execution_count": null,
   "metadata": {},
   "outputs": [],
   "source": [
    "# # The below solution works for both findfloor and findceil\n",
    "# if you reeturn high it is ceiling\n",
    "# if you return low it is floor\n",
    "\n",
    "# important is two things. first while low != high-1 \n",
    "# and decorese low  = mid or high = mid ..do not decrease low = mid-1 and high = mid+1"
   ]
  },
  {
   "cell_type": "code",
   "execution_count": 15,
   "metadata": {},
   "outputs": [],
   "source": [
    "class Solution:\n",
    "    #User function Template for python3\n",
    "    \n",
    "    #Complete this function\n",
    "    def findFloor(self,A,N,X):\n",
    "        \n",
    "        left = 0\n",
    "        right = N -1\n",
    "        \n",
    "        if A[left] > X:\n",
    "            return -1\n",
    "        if A[right] <= X:\n",
    "            return right\n",
    "        \n",
    "        while left != right-1:\n",
    "            mid = (left+right)//2\n",
    "            \n",
    "            if A[mid] > X:\n",
    "                right =mid\n",
    "                \n",
    "            elif A[mid] < X:\n",
    "                left =mid\n",
    "                \n",
    "            else :\n",
    "                return A[mid]\n",
    "        \n",
    "        return A[left],A[right]"
   ]
  },
  {
   "cell_type": "code",
   "execution_count": 19,
   "metadata": {},
   "outputs": [
    {
     "data": {
      "text/plain": [
       "(100, 300)"
      ]
     },
     "execution_count": 19,
     "metadata": {},
     "output_type": "execute_result"
    }
   ],
   "source": [
    "l = [12,67,90,100,300,399]\n",
    "x = 299\n",
    "y= Solution()\n",
    "y.findFloor(l,len(l),x)"
   ]
  },
  {
   "cell_type": "code",
   "execution_count": null,
   "metadata": {},
   "outputs": [],
   "source": []
  },
  {
   "cell_type": "code",
   "execution_count": 66,
   "metadata": {},
   "outputs": [
    {
     "name": "stdout",
     "output_type": "stream",
     "text": [
      "[(4, 8, 10)]\n"
     ]
    }
   ],
   "source": [
    "# 7 find a triplet that sum to a given value\n",
    "\n",
    "# By Sorting the array the efficiency of the algorithm can be improved. This efficient approach uses the two-pointer technique. Traverse the array and fix the first element of the triplet. Now use the Two Pointers algorithm to find if there is a pair whose sum is equal to x – array[i]. Two pointers algorithm take linear time so it is better than a nested loop.\n",
    "# three loops (O n3) - inefficient\n",
    "# better solution o n2...fix one element..use two point approve\n",
    "\n",
    "\n",
    "def find3Numbers(A,sum):\n",
    "    ans = []    \n",
    "\n",
    "    for i in range(0,len(A)-2):\n",
    "\n",
    "        left = i+1\n",
    "        right = len(A)-1\n",
    "        \n",
    "        while left<right:\n",
    "            \n",
    "            if (A[i] + A[left] + A[right]) == sum:\n",
    "                ans.append((A[i],A[left],A[right]))\n",
    "            #    print(\"found\")\n",
    "                break\n",
    "            elif (A[i] + A[left] + A[right]) < sum:\n",
    "                left = left +1\n",
    "            else: \n",
    "                right = right-1 \n",
    "\n",
    "    \n",
    "\n",
    "    return ans\n",
    "\n",
    "\n",
    "\n",
    "A = [1, 4, 6, 8, 10, 45]\n",
    "sum = 22\n",
    "  \n",
    "ans1 = find3Numbers(A,sum)\n",
    "print(ans1)"
   ]
  },
  {
   "cell_type": "code",
   "execution_count": null,
   "metadata": {},
   "outputs": [],
   "source": [
    "\n",
    "class Solution:\n",
    "    ##Complete this code\n",
    "    def countOnes(self,arr, N):\n",
    "        \n",
    "        low = 0\n",
    "        high = N - 1\n",
    "\n",
    "        while low <= high:\n",
    "            mid = (low + high)//2\n",
    "    \n",
    "            if arr[mid] > 1:\n",
    "                high = mid-1\n",
    "            elif arr[mid] < 1:\n",
    "                low = mid +1\n",
    "            elif mid == 0 :\n",
    "                return mid + 1\n",
    "            elif arr[mid+1] != arr[mid]: # this will executed if mid == x..check if element before mid is equal to mid or not if not return mid..elese check in low to mid-1\n",
    "                return mid + 1\n",
    "            else:\n",
    "                low = mid+1\n",
    "        return 0\n",
    "\n",
    "        #Your code here\n",
    "\n",
    "s = Solution()\n",
    "s.([1,1,1,1,1,0,0,0])"
   ]
  },
  {
   "cell_type": "code",
   "execution_count": null,
   "metadata": {},
   "outputs": [],
   "source": []
  },
  {
   "cell_type": "code",
   "execution_count": 2,
   "metadata": {},
   "outputs": [
    {
     "data": {
      "text/plain": [
       "2"
      ]
     },
     "execution_count": 2,
     "metadata": {},
     "output_type": "execute_result"
    }
   ],
   "source": [
    "# # Peak element - An element is called a peak element if its value is not smaller than the value of its adjacent elements(if they exists).\n",
    "#IMp -The array is guaranteed to be in ascending order before the peak element and in descending order after it.\n",
    "\n",
    "# The following corner cases give a better idea about the problem. \n",
    "\n",
    "# If the input array is sorted in a strictly increasing order, the last element is always a peak element. For example, 50 is peak element in {10, 20, 30, 40, 50}.\n",
    "# If the input array is sorted in a strictly decreasing order, the first element is always a peak element. 100 is the peak element in {100, 80, 60, 50, 20}.\n",
    "# If all elements of the input array are the same, every element is a peak element.\n",
    "# It is clear from the above examples that there is always a peak element in the input array.\n",
    "\n",
    "# Follow the steps below to implement the idea:\n",
    "\n",
    "# Create two variables, l and r, initialize l = 0 and r = n-1\n",
    "# Recursively perform the below steps till l <= r, i.e. lowerbound is less than the upperbound\n",
    "# Check if the mid value or index mid = low + (high - low) / 2,          is the peak element or not, if yes then print the element and terminate.\n",
    "# Else if the element on the left side of the middle element is greater then check for peak element on the left side, i.e. update r = mid – 1\n",
    "# Else if the element on the right side of the middle element is greater then check for peak element on the right side, i.e. update l = mid + 1\n",
    "\n",
    "\n",
    "class Solution:   \n",
    "    def peakElement(self,arr, n):\n",
    "        l = 0\n",
    "        r=n-1\n",
    "        \n",
    "        if arr[0] > arr[1]:\n",
    "            return 0\n",
    "            \n",
    "        if arr[-1] > arr[-2]:\n",
    "            return n-1\n",
    "        \n",
    "        while l<=r:\n",
    "            \n",
    "            mid = (l+r)//2\n",
    "            \n",
    "            if arr[mid]>arr[mid-1] and arr[mid]>arr[mid+1]:\n",
    "                return mid\n",
    "            elif arr[mid] < arr[mid-1]:\n",
    "                r = mid-1\n",
    "            else:\n",
    "                l = mid + 1\n",
    "        return mid\n",
    "s = Solution()\n",
    "s.peakElement([1,2,3,4,1],3)"
   ]
  },
  {
   "cell_type": "code",
   "execution_count": null,
   "metadata": {},
   "outputs": [],
   "source": []
  }
 ],
 "metadata": {
  "kernelspec": {
   "display_name": "Python 3",
   "language": "python",
   "name": "python3"
  },
  "language_info": {
   "codemirror_mode": {
    "name": "ipython",
    "version": 3
   },
   "file_extension": ".py",
   "mimetype": "text/x-python",
   "name": "python",
   "nbconvert_exporter": "python",
   "pygments_lexer": "ipython3",
   "version": "3.11.3"
  },
  "orig_nbformat": 4
 },
 "nbformat": 4,
 "nbformat_minor": 2
}
