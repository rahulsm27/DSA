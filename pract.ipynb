{
 "cells": [
  {
   "cell_type": "code",
   "execution_count": 15,
   "metadata": {},
   "outputs": [],
   "source": [
    "def trappingWater(arr,n):\n",
    "    Lmax = [0]*n\n",
    "    Rmax = [0]*n\n",
    "        \n",
    "    Lmax[0] = arr[0]\n",
    "    Rmax[n-1] = arr[n-1]\n",
    "        \n",
    "    for i in range(1,n):\n",
    "        Lmax[i] = max(Lmax[i-1],arr[i])\n",
    "        \n",
    "    for j in range(n-2,-1,-1):\n",
    "        Rmax[j] = max(Rmax[j+1],arr[j])\n",
    " #   print(Lmax,Rmax)    \n",
    "    ans = 0\n",
    "    for k in (1,n-1):\n",
    "        print(ans,n-1,k)\n",
    "        ans = ans + min(Lmax[k],Rmax[k]) - arr[k]\n",
    "            \n",
    "    return ans"
   ]
  },
  {
   "cell_type": "code",
   "execution_count": 16,
   "metadata": {},
   "outputs": [
    {
     "name": "stdout",
     "output_type": "stream",
     "text": [
      "0 3 1\n",
      "3 3 3\n"
     ]
    },
    {
     "data": {
      "text/plain": [
       "3"
      ]
     },
     "execution_count": 16,
     "metadata": {},
     "output_type": "execute_result"
    }
   ],
   "source": [
    "trappingWater([7,4,0,9],4)"
   ]
  },
  {
   "cell_type": "code",
   "execution_count": 5,
   "metadata": {},
   "outputs": [
    {
     "name": "stdout",
     "output_type": "stream",
     "text": [
      "a\n",
      "b\n",
      "c\n"
     ]
    }
   ],
   "source": [
    "d = {\n",
    "            2 : 'abc',\n",
    "            3 : 'def',\n",
    "            4 : 'GHI',\n",
    "            5 : 'JKL',\n",
    "            6 : 'MNO',\n",
    "            7 : 'PQRS',\n",
    "            8 : 'TUV',\n",
    "            9 : 'WXYZ'\n",
    "        }\n",
    "a=[2,3,4]\n",
    "i=0\n",
    "for j in list(d[a[i]]):\n",
    "    print(str(j))"
   ]
  },
  {
   "cell_type": "code",
   "execution_count": 23,
   "metadata": {},
   "outputs": [],
   "source": [
    "def possibleWords(a,N):\n",
    "        #Your code here\n",
    "        \n",
    "        \n",
    "        \n",
    "        \n",
    "        \n",
    "    d = {\n",
    "            2 : 'abc',\n",
    "            3 : 'def',\n",
    "            4 : 'GHI',\n",
    "            5 : 'JKL',\n",
    "            6 : 'MNO',\n",
    "            7 : 'PQRS',\n",
    "            8 : 'TUV',\n",
    "            9 : 'WXYZ'\n",
    "        }\n",
    "        \n",
    "            \n",
    "            \n",
    "    def subset(a,i,ans):\n",
    "        if i == N:\n",
    "            print (ans)\n",
    "        else:\n",
    "            for j in list(d[a[i]]):\n",
    "                new = str(j) + ans\n",
    "                print(new)\n",
    "                subset(a,i+1,new)\n",
    "                    \n",
    "    ans = ' '\n",
    "    subset(a,0,ans)"
   ]
  },
  {
   "cell_type": "code",
   "execution_count": 24,
   "metadata": {},
   "outputs": [
    {
     "name": "stdout",
     "output_type": "stream",
     "text": [
      "a \n",
      "da \n",
      "Gda \n",
      "Gda \n",
      "Hda \n",
      "Hda \n",
      "Ida \n",
      "Ida \n",
      "ea \n",
      "Gea \n",
      "Gea \n",
      "Hea \n",
      "Hea \n",
      "Iea \n",
      "Iea \n",
      "fa \n",
      "Gfa \n",
      "Gfa \n",
      "Hfa \n",
      "Hfa \n",
      "Ifa \n",
      "Ifa \n",
      "b \n",
      "db \n",
      "Gdb \n",
      "Gdb \n",
      "Hdb \n",
      "Hdb \n",
      "Idb \n",
      "Idb \n",
      "eb \n",
      "Geb \n",
      "Geb \n",
      "Heb \n",
      "Heb \n",
      "Ieb \n",
      "Ieb \n",
      "fb \n",
      "Gfb \n",
      "Gfb \n",
      "Hfb \n",
      "Hfb \n",
      "Ifb \n",
      "Ifb \n",
      "c \n",
      "dc \n",
      "Gdc \n",
      "Gdc \n",
      "Hdc \n",
      "Hdc \n",
      "Idc \n",
      "Idc \n",
      "ec \n",
      "Gec \n",
      "Gec \n",
      "Hec \n",
      "Hec \n",
      "Iec \n",
      "Iec \n",
      "fc \n",
      "Gfc \n",
      "Gfc \n",
      "Hfc \n",
      "Hfc \n",
      "Ifc \n",
      "Ifc \n"
     ]
    }
   ],
   "source": [
    "possibleWords([2,3,4],3)"
   ]
  },
  {
   "cell_type": "code",
   "execution_count": 30,
   "metadata": {},
   "outputs": [
    {
     "name": "stdout",
     "output_type": "stream",
     "text": [
      "21\n"
     ]
    }
   ],
   "source": [
    "rev = 0\n",
    "N=12\n",
    "while (N != 0):\n",
    "    rev = rev*10 + N%10\n",
    "    N = N//10\n",
    "            \n",
    "#rev = rev*10 + N\n",
    "\n",
    "print(rev)\n"
   ]
  },
  {
   "cell_type": "code",
   "execution_count": null,
   "metadata": {},
   "outputs": [],
   "source": []
  }
 ],
 "metadata": {
  "kernelspec": {
   "display_name": "Python 3",
   "language": "python",
   "name": "python3"
  },
  "language_info": {
   "codemirror_mode": {
    "name": "ipython",
    "version": 3
   },
   "file_extension": ".py",
   "mimetype": "text/x-python",
   "name": "python",
   "nbconvert_exporter": "python",
   "pygments_lexer": "ipython3",
   "version": "3.11.3"
  },
  "orig_nbformat": 4
 },
 "nbformat": 4,
 "nbformat_minor": 2
}
