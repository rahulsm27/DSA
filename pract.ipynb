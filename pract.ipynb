{
 "cells": [
  {
   "cell_type": "code",
   "execution_count": 15,
   "metadata": {},
   "outputs": [],
   "source": [
    "def trappingWater(arr,n):\n",
    "    Lmax = [0]*n\n",
    "    Rmax = [0]*n\n",
    "        \n",
    "    Lmax[0] = arr[0]\n",
    "    Rmax[n-1] = arr[n-1]\n",
    "        \n",
    "    for i in range(1,n):\n",
    "        Lmax[i] = max(Lmax[i-1],arr[i])\n",
    "        \n",
    "    for j in range(n-2,-1,-1):\n",
    "        Rmax[j] = max(Rmax[j+1],arr[j])\n",
    " #   print(Lmax,Rmax)    \n",
    "    ans = 0\n",
    "    for k in (1,n-1):\n",
    "        print(ans,n-1,k)\n",
    "        ans = ans + min(Lmax[k],Rmax[k]) - arr[k]\n",
    "            \n",
    "    return ans"
   ]
  },
  {
   "cell_type": "code",
   "execution_count": 16,
   "metadata": {},
   "outputs": [
    {
     "name": "stdout",
     "output_type": "stream",
     "text": [
      "0 3 1\n",
      "3 3 3\n"
     ]
    },
    {
     "data": {
      "text/plain": [
       "3"
      ]
     },
     "execution_count": 16,
     "metadata": {},
     "output_type": "execute_result"
    }
   ],
   "source": [
    "trappingWater([7,4,0,9],4)"
   ]
  },
  {
   "cell_type": "code",
   "execution_count": null,
   "metadata": {},
   "outputs": [],
   "source": []
  }
 ],
 "metadata": {
  "kernelspec": {
   "display_name": "Python 3",
   "language": "python",
   "name": "python3"
  },
  "language_info": {
   "codemirror_mode": {
    "name": "ipython",
    "version": 3
   },
   "file_extension": ".py",
   "mimetype": "text/x-python",
   "name": "python",
   "nbconvert_exporter": "python",
   "pygments_lexer": "ipython3",
   "version": "3.11.3"
  },
  "orig_nbformat": 4
 },
 "nbformat": 4,
 "nbformat_minor": 2
}
