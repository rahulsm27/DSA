{
 "cells": [
  {
   "cell_type": "code",
   "execution_count": null,
   "metadata": {},
   "outputs": [],
   "source": [
    "# 1 Sum of natural numbers = n(n+1)/2\n",
    "# 2 . Count digits = log10(N) + 1.\n",
    "# 3 Plaindrome = reverse using % and // taking use of temp\n",
    "#4  Factor of a number - recursion / iterative\n",
    "#5 Trailling zeros in factorial - count number of 5"
   ]
  },
  {
   "cell_type": "code",
   "execution_count": null,
   "metadata": {},
   "outputs": [],
   "source": [
    "# 1 Sum of natural numbers\n",
    "\n",
    "# sum of natural numbers = n(n+1)/2\n",
    "\n",
    "# To avoid overflow..better divide by 2 first...either of n or n+1 will be even.\n"
   ]
  },
  {
   "cell_type": "code",
   "execution_count": null,
   "metadata": {},
   "outputs": [],
   "source": [
    "def findSum(n) :\n",
    "\tif (n % 2 == 0) :\n",
    "\t\treturn (n / 2) * (n + 1)\n",
    "\n",
    "# If n is odd, (n+1) must be even\n",
    "\telse :\n",
    "\t    return ((n + 1) / 2) * n"
   ]
  },
  {
   "cell_type": "code",
   "execution_count": 1,
   "metadata": {},
   "outputs": [
    {
     "name": "stdout",
     "output_type": "stream",
     "text": [
      "4\n"
     ]
    }
   ],
   "source": [
    "#2. Count digits\n",
    "\n",
    "#number of digits in N = log10(N) + 1.\n",
    "\n",
    "# Naive approach\n",
    "x = 1234\n",
    "i = 1\n",
    "while x > 9:\n",
    "    x = x // 10\n",
    "    i+=1\n",
    "\n",
    "print(i)\n"
   ]
  },
  {
   "cell_type": "code",
   "execution_count": 31,
   "metadata": {},
   "outputs": [
    {
     "name": "stdout",
     "output_type": "stream",
     "text": [
      "Palindrome\n"
     ]
    }
   ],
   "source": [
    "\n",
    "#3. Palindrome\n",
    "#To check whether the given number is palindrome or not we will just reverse the digits of the given number and check if the reverse of that number is equal to the original number or not\n",
    "\n",
    "x = 78987\n",
    "\n",
    "check = x\n",
    "y=0\n",
    "while x>9:\n",
    "    y= y*10 + (x % 10)\n",
    "    x = x//10\n",
    "\n",
    "y = y*10+x   \n",
    "\n",
    "if check == y:\n",
    "    print(\"Palindrome\")\n",
    "\n",
    "else:\n",
    "    print(\"Not palindrome\")"
   ]
  },
  {
   "cell_type": "code",
   "execution_count": 30,
   "metadata": {},
   "outputs": [
    {
     "data": {
      "text/plain": [
       "False"
      ]
     },
     "execution_count": 30,
     "metadata": {},
     "output_type": "execute_result"
    }
   ],
   "source": [
    "x == y"
   ]
  },
  {
   "cell_type": "code",
   "execution_count": 34,
   "metadata": {},
   "outputs": [],
   "source": [
    "def fibo(n):\n",
    "    if n == 1 or n==2:\n",
    "        return 1\n",
    "    else:\n",
    "        return fibo(n-1) + fibo(n-2)"
   ]
  },
  {
   "cell_type": "code",
   "execution_count": 36,
   "metadata": {},
   "outputs": [
    {
     "data": {
      "text/plain": [
       "8"
      ]
     },
     "execution_count": 36,
     "metadata": {},
     "output_type": "execute_result"
    }
   ],
   "source": [
    "fibo(6)"
   ]
  },
  {
   "cell_type": "code",
   "execution_count": null,
   "metadata": {},
   "outputs": [],
   "source": [
    "#4 Factorial of a number"
   ]
  },
  {
   "cell_type": "code",
   "execution_count": 1,
   "metadata": {},
   "outputs": [],
   "source": [
    "def fact(n):\n",
    "    if n==1 or n==0:\n",
    "        return 1\n",
    "    \n",
    "    else:\n",
    "        n*fact(n-1)"
   ]
  },
  {
   "cell_type": "code",
   "execution_count": 2,
   "metadata": {},
   "outputs": [
    {
     "name": "stdout",
     "output_type": "stream",
     "text": [
      "24\n"
     ]
    }
   ],
   "source": [
    "#5. Tralling zeros in factorial ***\n",
    "# Trailing 0s in n! = Count of 5s in prime factors of n!\n",
    "#                   = floor(n/5) + floor(n/25) + floor(n/125) + ....\n",
    "\n",
    "# Naive method\n",
    "\n",
    "def fact(n):\n",
    "    if n == 1:\n",
    "        return n\n",
    "    else :\n",
    "        return n*fact(n-1)\n",
    "x= fact(100)\n",
    "y=0\n",
    "i = -1\n",
    "while y == 0:\n",
    "    y = x % 10\n",
    "    x = x//10\n",
    "    i = i +1\n",
    "\n",
    "print(i)"
   ]
  },
  {
   "cell_type": "code",
   "execution_count": 10,
   "metadata": {},
   "outputs": [
    {
     "data": {
      "text/plain": [
       "24"
      ]
     },
     "execution_count": 10,
     "metadata": {},
     "output_type": "execute_result"
    }
   ],
   "source": [
    "\n",
    "## Efiicient method\n",
    "# We can easily observe that the number of 2s in prime factors is always more than or equal to the number of 5s. So if we count 5s in prime factors, we are done. How to count the total number of 5s in prime factors of n!? A simple way is to calculate floor(n/5). For example, 7! has one 5, 10! has two 5s. It is not done yet, there is one more thing to consider. Numbers like 25, 125, etc have more than one 5. For example, if we consider 28! we get one extra 5 and the number of 0s becomes 6. Handling this is simple, first, divide n by 5 and remove all single 5s, then divide by 25 to remove extra 5s, and so on. Following is the summarized formula for counting trailing 0s.\n",
    "\n",
    "\n",
    "\n",
    "## Count numbers of 5\n",
    "\n",
    "\n",
    "\n",
    "def findTrailingZeros(n):\n",
    "\n",
    "    count = 0\n",
    "    i = 5\n",
    "    while (n/i>=1):\n",
    "        count = count + n//i\n",
    "        i = i*5\n",
    "\n",
    "    return count\n",
    "\n",
    "findTrailingZeros(100)\n",
    "\n",
    "\n",
    "\n",
    "        "
   ]
  },
  {
   "cell_type": "code",
   "execution_count": 4,
   "metadata": {},
   "outputs": [
    {
     "data": {
      "text/plain": [
       "373"
      ]
     },
     "execution_count": 4,
     "metadata": {},
     "output_type": "execute_result"
    }
   ],
   "source": [
    "# COUNT NUMBER OF DIGITS IN FACTORIAL ***\n",
    "\n",
    "# Take log - Number of digits is integer part of log + one\n",
    "# log(factorial(n)) = log(1*2*3*4...N)= log(1) + log(2)+log(3)+...\n",
    "# so take\n",
    "\n",
    "import math\n",
    "\n",
    "class Solution:\n",
    "    def digitsInFactorial(self,N):\n",
    "        if N == 0 or N == 1:\n",
    "            return 1\n",
    "        digits = 0\n",
    "        \n",
    "        for i in range(2,N+1):\n",
    "            digits = digits + math.log10(i)\n",
    "            \n",
    "        \n",
    "            \n",
    "        \n",
    "        return math.ceil(digits) \n",
    "S = Solution()\n",
    "S.digitsInFactorial(199)"
   ]
  },
  {
   "cell_type": "code",
   "execution_count": null,
   "metadata": {},
   "outputs": [],
   "source": [
    "# 6 GCD \n",
    "\n",
    "\n",
    "def hcf(a, b):\n",
    "\tif(b == 0):\n",
    "\t\treturn a\n",
    "\telse:\n",
    "\t\treturn hcf(b, a % b)\n",
    "\n",
    "a = 60\n",
    "b = 48\n",
    "\n",
    "# prints 12\n",
    "print(\"The gcd of 60 and 48 is : \", end=\"\")\n",
    "print(hcf(60, 48))\n",
    "\n",
    "# another method 1\n",
    "\n",
    "def gcd1(a,b):\n",
    "\n",
    "    if (a == 0):\n",
    "        return b\n",
    "    \n",
    "    if (b==0):\n",
    "        return a\n",
    "    if (a==b):\n",
    "        return a\n",
    "    \n",
    "    if a>b:\n",
    "        return gcd1(a-b,b)\n",
    "    else:\n",
    "        return gcd1(a,b-a)\n",
    "    \n",
    "gcd1(148,26)"
   ]
  },
  {
   "cell_type": "code",
   "execution_count": null,
   "metadata": {},
   "outputs": [],
   "source": [
    "#7 LCM\n",
    "\"\"\"\n",
    "  a x b = LCM(a, b) * GCD (a, b)\n",
    "\n",
    "   LCM(a, b) = (a x b) / GCD(a, b)\n",
    "\n",
    "   \"\"\""
   ]
  },
  {
   "cell_type": "code",
   "execution_count": 1,
   "metadata": {},
   "outputs": [
    {
     "data": {
      "text/plain": [
       "'No'"
      ]
     },
     "execution_count": 1,
     "metadata": {},
     "output_type": "execute_result"
    }
   ],
   "source": [
    "# 8 Prime check \n",
    "# Only check for numbers less than square root of N\\\n",
    "\n",
    "#Check for 2 and 3 it will elimanite a lot of combination\n",
    "#then we need to start from 5 and 7, 11 and 13 so on\n",
    "\n",
    "#Time complexity of this solution is O(sqrt(n))\n",
    "    \n",
    "class Solution:\n",
    "    def isPrime(self,N):\n",
    "        \n",
    "        No = 'No'\n",
    "        Yes = 'Yes'\n",
    "        \n",
    "        if N <= 1 :\n",
    "            return No\n",
    "        if N <= 3:\n",
    "            return Yes\n",
    "            \n",
    "        if (N % 2 == 0) or (N % 3 == 0):\n",
    "            return No\n",
    "            \n",
    "        i =5 \n",
    "        while (i*i <= N):\n",
    "            if (N % i == 0) or (N % (i+2) == 0):\n",
    "                return No\n",
    "            i = i +6 \n",
    "            \n",
    "        return Yes\n",
    "    \n",
    "S = Solution()\n",
    "S.isPrime(49)"
   ]
  },
  {
   "cell_type": "code",
   "execution_count": 35,
   "metadata": {},
   "outputs": [
    {
     "name": "stdout",
     "output_type": "stream",
     "text": [
      "2\n",
      "3\n",
      "5\n",
      "7\n",
      "11\n",
      "13\n",
      "17\n",
      "19\n",
      "23\n",
      "29\n"
     ]
    }
   ],
   "source": [
    "# How to find primes less than equal to N\n",
    "\n",
    "# Method of Sieveoferatoshtherns\n",
    "# Check for all numbers less than square of N\n",
    "    # Mark all mutliples of p as not prime\n",
    "# According to the algorithm we will mark all the numbers which are divisible by 2 and are greater than or equal to the square of it\n",
    "# Now we move to our next unmarked number 3 and mark all the numbers which are multiples of 3 and are greater than or equal to the square of it.  \n",
    "\n",
    "# IMP we need to take square of 2 then take multiples in size of 2 and mark\n",
    "\n",
    "def listOfPrime(n):\n",
    "\n",
    "    prime = [True for i in range(n+1)] # imp to match index in below ans part we need to start from 0\n",
    "    i = 2\n",
    "\n",
    "    while (i*i <= n):\n",
    "        if prime[i] == True:\n",
    "            for k in range(i*i,n+1,i):\n",
    "                prime[k] = False\n",
    "        i = i+1\n",
    "\n",
    "    ans = list(filter(lambda x : prime[x],[p for p in range(2,n+1)]))\n",
    "    # Print all prime numbers\n",
    "    for p in range(2, n+1):\n",
    "        if prime[p]:\n",
    "            print(p)    \n",
    "    return(ans)\n",
    "\n",
    "listOfPrime(30)\n",
    "\n"
   ]
  },
  {
   "cell_type": "code",
   "execution_count": null,
   "metadata": {},
   "outputs": [],
   "source": [
    "# 9 Prime factorization\n",
    "\"\"\"\n",
    "Following are the steps to find all prime factors.\n",
    "1) While n is divisible by 2, print 2 and divide n by 2.\n",
    "2) After step 1, n must be odd. Now start a loop from i = 3 to square root of n. While i divides n, print i and divide n by i, increment i by 2 and continue.\n",
    "3) If n is a prime number and is greater than 2, then n will not become 1 by above two steps. So print n if it is greater than 2.\n",
    "\n",
    "\"\"\""
   ]
  },
  {
   "cell_type": "code",
   "execution_count": 3,
   "metadata": {},
   "outputs": [
    {
     "name": "stdout",
     "output_type": "stream",
     "text": [
      "3\n",
      "3\n",
      "5\n",
      "7\n"
     ]
    }
   ],
   "source": [
    "\n",
    "import math\n",
    "\n",
    "# A function to print all prime factors of\n",
    "# a given number n\n",
    "def primeFactors(n):\n",
    "\t\n",
    "\t# Print the number of two\\'s that divide n\n",
    "\twhile n % 2 == 0:\n",
    "\t\tprint (2)\n",
    "\t\tn = n / 2\n",
    "\t\t\n",
    "\t# n must be odd at this point\n",
    "\t# so a skip of 2 ( i = i + 2) can be used\n",
    "\tfor i in range(3,int(math.sqrt(n))+1,2):\n",
    "\t\t\n",
    "\t\t# while i divides n , print i ad divide n\n",
    "\t\twhile n % i== 0:\n",
    "\t\t\tprint (i)\n",
    "\t\t\tn = n / i\n",
    "\t\t\t\n",
    "\t# Condition if n is a prime\n",
    "\t# number greater than 2\n",
    "\tif n > 2:\n",
    "\t\tprint (n)\n",
    "\t\t\n",
    "# Driver Program to test above function\n",
    "\n",
    "n = 315\n",
    "primeFactors(n)"
   ]
  },
  {
   "cell_type": "code",
   "execution_count": 25,
   "metadata": {},
   "outputs": [
    {
     "data": {
      "text/plain": [
       "30"
      ]
     },
     "execution_count": 25,
     "metadata": {},
     "output_type": "execute_result"
    }
   ],
   "source": []
  },
  {
   "cell_type": "code",
   "execution_count": 42,
   "metadata": {},
   "outputs": [
    {
     "data": {
      "text/plain": [
       "446"
      ]
     },
     "execution_count": 42,
     "metadata": {},
     "output_type": "execute_result"
    }
   ],
   "source": [
    "# Eaxact 3 divisor\n",
    "#Given a positive integer value N. The task is to find how many numbers less than or equal to N have numbers of divisors exactly equal to 3.\n",
    "# Answers are square of prime numbers\n",
    "#for example upto 50 - 4,9,25,49\n",
    "\n",
    "\n",
    "# Find all the prime numbers upto square root of the given number\n",
    "# All the prime numbers will be the answer\n",
    "\n",
    "class Solution:\n",
    "    def exactly3Divisors(self,N):\n",
    "        \n",
    "        n = N ** 0.5\n",
    "        n = math.floor(n) # Take the square root of number we need to find prime numbers upt\n",
    "        # square root of number\n",
    "        \n",
    "        def listOfPrime(n):\n",
    "        \n",
    "            prime = [True ] *(n+1) # imp to match index in below ans part we need to start from 0\n",
    "            prime[0] == False\n",
    "            prime[1] == False\n",
    "            i = 2\n",
    "        \n",
    "            while (i*i <= n):\n",
    "                if prime[i] == True:\n",
    "                    for k in range(i*i,n+1,i):\n",
    "                        prime[k] = False\n",
    "                i = i+1\n",
    "        \n",
    "            ans = list(filter(lambda x : prime[x],[p for p in range(2,n+1)]))\n",
    "       \n",
    "            return(ans)\n",
    "            \n",
    "        list_of_primes = listOfPrime(n)\n",
    "        \n",
    "        \n",
    "        return (len(list_of_primes))    \n",
    "     \n",
    "\n",
    "s =Solution()\n",
    "s.exactly3Divisors(10000000) \n",
    "            "
   ]
  },
  {
   "cell_type": "code",
   "execution_count": 4,
   "metadata": {},
   "outputs": [
    {
     "name": "stdout",
     "output_type": "stream",
     "text": [
      "The divisors of 100 are: \n",
      "1 100 2 50 4 25 5 20 10 "
     ]
    }
   ],
   "source": [
    "# 10 Divisors of a number\n",
    "# Will always occur in pair\n",
    "\n",
    "# 30 : 1,30  2,15  3,10   5,6\n",
    "\n",
    "#one of the divison will be emall than or equal to sqrt(n)\n",
    "\n",
    "# A Better (than Naive) Solution to find all divisors\n",
    "import math\n",
    "\n",
    "# method to print the divisors\n",
    "def printDivisors(n) :\n",
    "\t\n",
    "\t# Note that this loop runs till square root\n",
    "\ti = 1\n",
    "\twhile i <= math.sqrt(n):\n",
    "\t\t\n",
    "\t\tif (n % i == 0) :\n",
    "\t\t\t\n",
    "\t\t\t# If divisors are equal, print only one\n",
    "\t\t\tif (n / i == i) :\n",
    "\t\t\t\tprint (i,end=\" \")\n",
    "\t\t\telse :\n",
    "\t\t\t\t# Otherwise print both\n",
    "\t\t\t\tprint (i , int(n/i), end=\" \")\n",
    "\t\ti = i + 1\n",
    "\n",
    "# Driver method\n",
    "print (\"The divisors of 100 are: \")\n",
    "printDivisors(100)\n"
   ]
  },
  {
   "cell_type": "code",
   "execution_count": 1,
   "metadata": {},
   "outputs": [
    {
     "data": {
      "text/plain": [
       "[3, 3, 5, 7]"
      ]
     },
     "execution_count": 1,
     "metadata": {},
     "output_type": "execute_result"
    }
   ],
   "source": []
  },
  {
   "cell_type": "code",
   "execution_count": 27,
   "metadata": {},
   "outputs": [
    {
     "data": {
      "text/plain": [
       "81"
      ]
     },
     "execution_count": 27,
     "metadata": {},
     "output_type": "execute_result"
    }
   ],
   "source": [
    "#11 power x raise to n\n",
    "\n",
    "# if x is even =  power (x * n/2) . Multiplpy by 2\n",
    "# if x is odd = power(x* (n-1)/2)  * x. Multipye by2\n",
    "\n",
    "\n",
    "def pow(x,n):\n",
    "    if n == 1:\n",
    "        return x\n",
    "    \n",
    "    temp = pow(x,n//2) # floor division\n",
    "    temp = temp*temp\n",
    "    if n % 2 == 0:\n",
    "        return(temp)\n",
    "    else:\n",
    "        return (x*temp)\n",
    "    \n",
    "\n",
    "\n",
    "pow(3,4)\n",
    "\n",
    "\n",
    "\n"
   ]
  },
  {
   "cell_type": "code",
   "execution_count": 26,
   "metadata": {},
   "outputs": [
    {
     "data": {
      "text/plain": [
       "729"
      ]
     },
     "execution_count": 26,
     "metadata": {},
     "output_type": "execute_result"
    }
   ],
   "source": [
    "# more efficient mehtod\n",
    "\n",
    "# 3 ^19 = 3^16   * 3^2 * 3^1\n",
    "\n",
    "# 19 : 10011\n",
    "# 3(16) 3(8) 3(4) 3(2) 3(1)\n",
    "\n",
    "# Every number can be written in powers of 2:\n",
    "# we cna traverse throgh the bits of 19. If 1 multiply by x otherwise ignore but keep multiplying x by x\n",
    "\n",
    "def  pow2(x,n):\n",
    "\n",
    "    i = x\n",
    "    ans = 1\n",
    "\n",
    "    while( n > 0):\n",
    "        \n",
    "        if n%2 == 1:\n",
    "            ans = ans*i\n",
    "\n",
    "        i = i*i\n",
    "        \n",
    "        n = n //2\n",
    " \n",
    "    return ans\n",
    "\n",
    "\n",
    "pow2(9,3)\n",
    "\n",
    "            \n",
    "\n"
   ]
  },
  {
   "cell_type": "code",
   "execution_count": null,
   "metadata": {},
   "outputs": [],
   "source": []
  },
  {
   "cell_type": "code",
   "execution_count": null,
   "metadata": {},
   "outputs": [],
   "source": []
  },
  {
   "cell_type": "code",
   "execution_count": null,
   "metadata": {},
   "outputs": [],
   "source": []
  },
  {
   "cell_type": "code",
   "execution_count": null,
   "metadata": {},
   "outputs": [],
   "source": []
  },
  {
   "cell_type": "code",
   "execution_count": null,
   "metadata": {},
   "outputs": [],
   "source": []
  },
  {
   "cell_type": "code",
   "execution_count": null,
   "metadata": {},
   "outputs": [],
   "source": []
  },
  {
   "cell_type": "code",
   "execution_count": null,
   "metadata": {},
   "outputs": [],
   "source": [
    "# Addition under moudle\n",
    "# Multiplication under Modulo\n",
    "# Modulear multiplictive inverse"
   ]
  },
  {
   "cell_type": "code",
   "execution_count": 2,
   "metadata": {},
   "outputs": [
    {
     "data": {
      "text/plain": [
       "16"
      ]
     },
     "execution_count": 2,
     "metadata": {},
     "output_type": "execute_result"
    }
   ],
   "source": [
    " 4 * 3 + 2 ** 2"
   ]
  },
  {
   "cell_type": "code",
   "execution_count": 68,
   "metadata": {},
   "outputs": [],
   "source": [
    "def mySqrt_up(x: int) -> int:\n",
    "    low = 1\n",
    "    high = x //2 + 1\n",
    "   \n",
    "\n",
    "    while low <= high:\n",
    "        \n",
    "        mid = (low + high) // 2\n",
    "        ans = mid\n",
    "        print(low,mid,high,ans)\n",
    "        if mid ** 2 == x:\n",
    "            return mid\n",
    "        if mid ** 2 > x:\n",
    "            ans = mid\n",
    "            high = mid - 1\n",
    "        else :\n",
    "            low = mid +1\n",
    "\n",
    "\n",
    "    return ans"
   ]
  },
  {
   "cell_type": "code",
   "execution_count": 73,
   "metadata": {},
   "outputs": [
    {
     "name": "stdout",
     "output_type": "stream",
     "text": [
      "1 5 9 5\n",
      "1 2 4 2\n",
      "3 3 4 3\n",
      "4 4 4 4\n"
     ]
    },
    {
     "data": {
      "text/plain": [
       "4"
      ]
     },
     "execution_count": 73,
     "metadata": {},
     "output_type": "execute_result"
    }
   ],
   "source": [
    "mySqrt_up(17)"
   ]
  },
  {
   "cell_type": "code",
   "execution_count": 115,
   "metadata": {},
   "outputs": [],
   "source": [
    "def main(func):\n",
    "    def inner(*args,**kwargs):\n",
    "        print(\"first\")\n",
    "        func(1,2)\n",
    "        print(\"second\")\n",
    "        return\n",
    "\n",
    "    return inner()\n",
    "\n"
   ]
  },
  {
   "cell_type": "code",
   "execution_count": 116,
   "metadata": {},
   "outputs": [
    {
     "name": "stdout",
     "output_type": "stream",
     "text": [
      "first\n",
      "achild\n",
      "second\n"
     ]
    }
   ],
   "source": [
    "@main\n",
    "def dec(a,b):\n",
    "    print(\"achild\")"
   ]
  },
  {
   "cell_type": "code",
   "execution_count": 114,
   "metadata": {},
   "outputs": [
    {
     "name": "stdout",
     "output_type": "stream",
     "text": [
      "first\n",
      "achild\n",
      "second\n"
     ]
    }
   ],
   "source": [
    "dec(1,2)\n"
   ]
  },
  {
   "cell_type": "code",
   "execution_count": 105,
   "metadata": {},
   "outputs": [
    {
     "name": "stdout",
     "output_type": "stream",
     "text": [
      "before Execution\n",
      "Inside the function\n",
      "after Execution\n",
      "3\n"
     ]
    }
   ],
   "source": [
    "def hello_decorator(func):\n",
    "  \n",
    "    \n",
    "    print(\"before Execution\")\n",
    "         \n",
    "        # getting the returned value\n",
    "    returned_value = func(a,b)\n",
    "    print(\"after Execution\")\n",
    "\n",
    "    print(returned_value)\n",
    "         \n",
    "        # returning the value to the original frame\n",
    "    \n",
    " \n",
    "# adding decorator to the function\n",
    "@hello_decorator\n",
    "def sum_two_numbers(a, b):\n",
    "    print(\"Inside the function\")\n",
    "    return (a+b)\n",
    "    \n",
    "  #  return a + b\n"
   ]
  },
  {
   "cell_type": "code",
   "execution_count": 104,
   "metadata": {},
   "outputs": [
    {
     "ename": "TypeError",
     "evalue": "'NoneType' object is not callable",
     "output_type": "error",
     "traceback": [
      "\u001b[0;31m---------------------------------------------------------------------------\u001b[0m",
      "\u001b[0;31mTypeError\u001b[0m                                 Traceback (most recent call last)",
      "\u001b[1;32m/Users/rahulmahajan/Desktop/Projects/DS/7 Machine Learning Codes/200.DSA/GEEKS for GEEKS/DSA/1 Maths.ipynb Cell 35\u001b[0m line \u001b[0;36m4\n\u001b[1;32m      <a href='vscode-notebook-cell:/Users/rahulmahajan/Desktop/Projects/DS/7%20Machine%20Learning%20Codes/200.DSA/GEEKS%20for%20GEEKS/DSA/1%20Maths.ipynb#X46sZmlsZQ%3D%3D?line=0'>1</a>\u001b[0m a, b \u001b[39m=\u001b[39m \u001b[39m1\u001b[39m, \u001b[39m2\u001b[39m\n\u001b[1;32m      <a href='vscode-notebook-cell:/Users/rahulmahajan/Desktop/Projects/DS/7%20Machine%20Learning%20Codes/200.DSA/GEEKS%20for%20GEEKS/DSA/1%20Maths.ipynb#X46sZmlsZQ%3D%3D?line=2'>3</a>\u001b[0m \u001b[39m# getting the value through return of the function\u001b[39;00m\n\u001b[0;32m----> <a href='vscode-notebook-cell:/Users/rahulmahajan/Desktop/Projects/DS/7%20Machine%20Learning%20Codes/200.DSA/GEEKS%20for%20GEEKS/DSA/1%20Maths.ipynb#X46sZmlsZQ%3D%3D?line=3'>4</a>\u001b[0m \u001b[39mprint\u001b[39m(\u001b[39m\"\u001b[39m\u001b[39mSum =\u001b[39m\u001b[39m\"\u001b[39m, sum_two_numbers(a, b))\n",
      "\u001b[0;31mTypeError\u001b[0m: 'NoneType' object is not callable"
     ]
    }
   ],
   "source": [
    " \n",
    "a, b = 1, 2\n",
    " \n",
    "# getting the value through return of the function\n",
    "print(\"Sum =\", sum_two_numbers(a, b))"
   ]
  },
  {
   "cell_type": "code",
   "execution_count": 125,
   "metadata": {},
   "outputs": [],
   "source": [
    "\n",
    "\n",
    "# defining a decorator\n",
    "def hello_decorator(func):\n",
    " \n",
    "    # inner1 is a Wrapper function in \n",
    "  \n",
    "    def inner1(*args, **kwargs): # *args, * kwargs required to pass values to func\n",
    "        print(\"Hello, this is before function execution\")\n",
    " \n",
    "        # calling the actual function now\n",
    "        # inside the wrapper function.\n",
    "        value = func(*args,**kwargs)\n",
    "        print(value)\n",
    "        print(\"This is after function execution\")\n",
    "\n",
    "        return value # if we want to return oringal function value\n",
    "         \n",
    "    return inner1 # returning wrapper function\n",
    " \n",
    " \n",
    "# defining a function, to be called inside wrapper\n",
    "@hello_decorator\n",
    "def function_to_be_used(a,b):\n",
    "    \n",
    "    print(\"This is inside the function !!\")\n",
    "    return (a+b)\n",
    " \n",
    " \n",
    "# passing 'function_to_be_used' inside the\n",
    "# decorator to control its behaviour\n"
   ]
  },
  {
   "cell_type": "code",
   "execution_count": 126,
   "metadata": {},
   "outputs": [
    {
     "name": "stdout",
     "output_type": "stream",
     "text": [
      "Hello, this is before function execution\n",
      "This is inside the function !!\n",
      "3\n",
      "This is after function execution\n"
     ]
    },
    {
     "data": {
      "text/plain": [
       "3"
      ]
     },
     "execution_count": 126,
     "metadata": {},
     "output_type": "execute_result"
    }
   ],
   "source": [
    "function_to_be_used(1,2)  \n",
    "\n",
    "#without decorator we need to use as below\n",
    "# x = hello_decorator(functio_to_be_used) # note it returns a function\n",
    "# x becomes function\n",
    "# x (1,2)"
   ]
  },
  {
   "cell_type": "code",
   "execution_count": null,
   "metadata": {},
   "outputs": [],
   "source": []
  }
 ],
 "metadata": {
  "kernelspec": {
   "display_name": "Python 3",
   "language": "python",
   "name": "python3"
  },
  "language_info": {
   "codemirror_mode": {
    "name": "ipython",
    "version": 3
   },
   "file_extension": ".py",
   "mimetype": "text/x-python",
   "name": "python",
   "nbconvert_exporter": "python",
   "pygments_lexer": "ipython3",
   "version": "3.11.3"
  },
  "orig_nbformat": 4
 },
 "nbformat": 4,
 "nbformat_minor": 2
}
