{
 "cells": [
  {
   "cell_type": "code",
   "execution_count": 1,
   "metadata": {},
   "outputs": [],
   "source": [
    "# 1 INTRODUCTION\n",
    "# In last video we had covered binary tree\n",
    "\n",
    "# Binary Search Tree is a node-based binary tree data structure which has the following properties:\n",
    " \n",
    "\n",
    "# The left subtree of a node contains only nodes with keys lesser than or equal to the node's key.\n",
    "# The right subtree of a node contains only nodes with keys greater than the node's key.\n",
    "# The left and right subtree each must also be a binary search tree. There must be no duplicate nodes."
   ]
  },
  {
   "cell_type": "markdown",
   "metadata": {},
   "source": [
    "![Alt text](image-14.png)"
   ]
  },
  {
   "cell_type": "markdown",
   "metadata": {},
   "source": [
    "![Alt text](image-15.png)"
   ]
  },
  {
   "cell_type": "code",
   "execution_count": null,
   "metadata": {},
   "outputs": [],
   "source": [
    "# 2 SEARCH IN BST\n",
    "\n",
    "def search(root,data):\n",
    "\n",
    "    if root == None:\n",
    "        return False\n",
    "    elif root.data == data :\n",
    "        return True\n",
    "    else:\n",
    "        if root.data<data:\n",
    "            return search(root.left)\n",
    "        else:\n",
    "            return search(root.right)\n",
    "    \n"
   ]
  },
  {
   "cell_type": "markdown",
   "metadata": {},
   "source": [
    "![Alt text](image-16.png)"
   ]
  },
  {
   "cell_type": "code",
   "execution_count": null,
   "metadata": {},
   "outputs": [],
   "source": [
    "# Iterative solution..no auxillary space requried"
   ]
  },
  {
   "cell_type": "markdown",
   "metadata": {},
   "source": [
    "![Alt text](image-17.png)"
   ]
  },
  {
   "cell_type": "markdown",
   "metadata": {},
   "source": []
  },
  {
   "cell_type": "code",
   "execution_count": null,
   "metadata": {},
   "outputs": [],
   "source": [
    "# 2 INSERT IN BST"
   ]
  },
  {
   "cell_type": "markdown",
   "metadata": {},
   "source": [
    "![Alt text](image-18.png)"
   ]
  },
  {
   "cell_type": "markdown",
   "metadata": {},
   "source": [
    "![Alt text](image-19.png)"
   ]
  },
  {
   "cell_type": "code",
   "execution_count": null,
   "metadata": {},
   "outputs": [],
   "source": []
  },
  {
   "cell_type": "code",
   "execution_count": null,
   "metadata": {},
   "outputs": [],
   "source": [
    "# DELETION \n",
    "\n",
    "# if leaf node..delete it.. example 200 below\n",
    "# if one side is none...replace the other side...example 20 replace..it with 30\n",
    "# if both side is not none..find the closet number..delete it...and replace that number...example 40...find 60(greatest closest)...delete 60 and replace 40 with 60\n",
    "\n",
    "\n"
   ]
  },
  {
   "cell_type": "markdown",
   "metadata": {},
   "source": [
    "![Alt text](image-20.png)"
   ]
  },
  {
   "cell_type": "code",
   "execution_count": null,
   "metadata": {},
   "outputs": [],
   "source": [
    "def delete(root,key):\n",
    "    if root == None:\n",
    "        return\n",
    "\n",
    "    elif root.data == key:\n",
    "        if root.left == None and root.right == None:\n",
    "            root.data = None\n",
    "            return\n",
    "        elif root.left!= None and root.right == None:\n",
    "            root = root.left\n",
    "            return\n",
    "        elif root.left == None and root.right != None:\n",
    "            root = root.right\n",
    "            return\n",
    "        else:\n",
    "            curr = root.right\n",
    "            while curr.left != None:\n",
    "                curr = curr.left\n",
    "            root.data = curr.data\n",
    "            curr.data = None\n",
    "            \n",
    "\n",
    "    else:\n",
    "        if root.data < key:\n",
    "            delete(root.right)\n",
    "        else:\n",
    "            delete(root.left) \n",
    "            \n",
    "\n",
    "\n"
   ]
  },
  {
   "cell_type": "markdown",
   "metadata": {},
   "source": [
    "![Alt text](image-21.png)"
   ]
  },
  {
   "cell_type": "code",
   "execution_count": 2,
   "metadata": {},
   "outputs": [],
   "source": [
    "class Node:\n",
    "    def __init__(self, key):\n",
    "        self.left = None\n",
    "        self.key = key\n",
    "        self.right = None\n",
    "\n",
    "\n",
    "\n",
    "def getSucc(curr, key):\n",
    "    while curr.left != None:\n",
    "        curr = curr.left\n",
    "\n",
    "    return curr.key\n",
    "\n",
    "\n",
    "def deleteNode(root, key):\n",
    "    if root == None:\n",
    "        return\n",
    "\n",
    "    if root.key > key:\n",
    "        root.left = deleteNode(root.left, key)\n",
    "\n",
    "    if root.key < key:\n",
    "        root.right = deleteNode(root.right, key)\n",
    "\n",
    "    else:\n",
    "        if root.left == None:\n",
    "            return root.right\n",
    "        elif root.right == None:\n",
    "            return root.left\n",
    "        else:\n",
    "            succ = getSucc(root.right, key)\n",
    "            root.key = succ\n",
    "            root.right = deleteNode(root.right, succ)\n",
    "\n",
    "    return root"
   ]
  },
  {
   "cell_type": "markdown",
   "metadata": {},
   "source": []
  },
  {
   "cell_type": "code",
   "execution_count": null,
   "metadata": {},
   "outputs": [],
   "source": []
  },
  {
   "cell_type": "code",
   "execution_count": null,
   "metadata": {},
   "outputs": [],
   "source": []
  },
  {
   "cell_type": "code",
   "execution_count": null,
   "metadata": {},
   "outputs": [],
   "source": [
    "# FLOOR \n",
    "\n",
    "# gretest value  less than or equal key in \n",
    "# for example for 58 55 is the floor\n",
    "\n"
   ]
  },
  {
   "cell_type": "code",
   "execution_count": null,
   "metadata": {},
   "outputs": [],
   "source": [
    "# 1 Start at the root Node.\n",
    "# 2 If root->data == key, \n",
    "#      floor of the key is equal \n",
    "#      to the root.\n",
    "# 3 Else if root->data > key, then \n",
    "#      floor of the key must lie in the\n",
    "#      left subtree.\n",
    "# 4 Else floor may lie in the right subtree \n",
    "#   but only if there is a value lesser than \n",
    "#   or equal to the key.If not, then root is\n",
    "#   the key.\n",
    "\n"
   ]
  },
  {
   "cell_type": "markdown",
   "metadata": {},
   "source": [
    "![Alt text](image-22.png)"
   ]
  },
  {
   "cell_type": "code",
   "execution_count": null,
   "metadata": {},
   "outputs": [],
   "source": [
    "# Celing"
   ]
  },
  {
   "cell_type": "code",
   "execution_count": 9,
   "metadata": {},
   "outputs": [
    {
     "name": "stdout",
     "output_type": "stream",
     "text": [
      "3\n"
     ]
    }
   ],
   "source": [
    "# Python3 code to find floor of a key in BST\n",
    "INT_MAX = 2147483647\n",
    "\n",
    "# Binary Tree Node \n",
    "\"\"\" A utility function to create a\n",
    "new BST node \"\"\"\n",
    "class newNode: \n",
    "\n",
    "    # Construct to create a newNode \n",
    "    def __init__(self, data): \n",
    "        self.data = data\n",
    "        self.left = None\n",
    "        self.right = None\n",
    "\n",
    "\"\"\" This function is used to insert \n",
    "new values in BST\"\"\"\n",
    "def insert(root, key): \n",
    "\n",
    "    if (not root):\n",
    "        return newNode(key) \n",
    "    if (key < root.data): \n",
    "        root.left = insert(root.left, key) \n",
    "    else:\n",
    "        root.right = insert(root.right, key) \n",
    "    return root \n",
    "\n",
    "\n",
    "def ceil(root, key) :\n",
    "\n",
    "    res = None\n",
    "\n",
    "    while root != None:\n",
    "        if root.data == key:\n",
    "            return root\n",
    "        elif root.data>key:\n",
    "            res = root.data\n",
    "            root = root.left\n",
    "\n",
    "        else:\n",
    "            root = root.right\n",
    "\n",
    "    return res\n",
    "\n",
    "\n",
    "\n",
    "# Driver Code \n",
    "if __name__ == '__main__':\n",
    "\n",
    "    \"\"\" Let us create following BST \n",
    "            7 \n",
    "            / \\ \n",
    "        5     10 \n",
    "        / \\ / \\ \n",
    "        3 6 8 12 \"\"\"\n",
    "    root = None\n",
    "    root = insert(root, 7) \n",
    "    insert(root, 10) \n",
    "    insert(root, 5) \n",
    "    insert(root, 3) \n",
    "    insert(root, 6) \n",
    "    insert(root, 8) \n",
    "    insert(root, 12) \n",
    "    print(ceil(root, 0))\n",
    "\n",
    "# This code is contributed by\n",
    "# Shubham Singh(SHUBHAMSINGH10)\n"
   ]
  },
  {
   "cell_type": "code",
   "execution_count": null,
   "metadata": {},
   "outputs": [],
   "source": []
  },
  {
   "cell_type": "code",
   "execution_count": null,
   "metadata": {},
   "outputs": [],
   "source": []
  },
  {
   "cell_type": "code",
   "execution_count": null,
   "metadata": {},
   "outputs": [],
   "source": [
    "# SELF BALANCING BST\n",
    "\n",
    "# ALl operations are O(h) i.e heigh of tree..how to keep height as o (logn) ?? minimum possilbe height given a set of keys...becuase same set of keys can make differetn height..see below example...order of insertion deepends ..\n",
    "\n",
    "# left is linear..height is O(n)\n",
    "\n",
    "\n",
    "\n"
   ]
  },
  {
   "cell_type": "markdown",
   "metadata": {},
   "source": [
    "![Alt text](image-23.png)"
   ]
  },
  {
   "cell_type": "code",
   "execution_count": null,
   "metadata": {},
   "outputs": [],
   "source": [
    "# if we know in advance the keys...we can make a perfecly balanced bst..take midlle and make it root...then follow same logic for left half and right half..that is take middle of the left ..make it node of left..take mideel of right..make it node of right..keeep repeating recursively\n",
    "\n",
    "# How to ensure if there are random insertions/deletions"
   ]
  },
  {
   "cell_type": "markdown",
   "metadata": {},
   "source": [
    "![Alt text](image-24.png)"
   ]
  },
  {
   "cell_type": "markdown",
   "metadata": {},
   "source": []
  }
 ],
 "metadata": {
  "kernelspec": {
   "display_name": "Python 3",
   "language": "python",
   "name": "python3"
  },
  "language_info": {
   "codemirror_mode": {
    "name": "ipython",
    "version": 3
   },
   "file_extension": ".py",
   "mimetype": "text/x-python",
   "name": "python",
   "nbconvert_exporter": "python",
   "pygments_lexer": "ipython3",
   "version": "3.11.3"
  },
  "orig_nbformat": 4
 },
 "nbformat": 4,
 "nbformat_minor": 2
}
