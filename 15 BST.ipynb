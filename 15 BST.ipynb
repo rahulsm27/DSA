{
 "cells": [
  {
   "cell_type": "code",
   "execution_count": 1,
   "metadata": {},
   "outputs": [],
   "source": [
    "# 1 INTRODUCTION\n",
    "# In last video we had covered binary tree\n",
    "\n",
    "# Binary Search Tree is a node-based binary tree data structure which has the following properties:\n",
    " \n",
    "\n",
    "# The left subtree of a node contains only nodes with keys lesser than or equal to the node's key.\n",
    "# The right subtree of a node contains only nodes with keys greater than the node's key.\n",
    "# The left and right subtree each must also be a binary search tree. There must be no duplicate nodes."
   ]
  },
  {
   "cell_type": "markdown",
   "metadata": {},
   "source": [
    "![Alt text](image-14.png)"
   ]
  },
  {
   "cell_type": "markdown",
   "metadata": {},
   "source": [
    "![Alt text](image-15.png)"
   ]
  },
  {
   "cell_type": "code",
   "execution_count": null,
   "metadata": {},
   "outputs": [],
   "source": [
    "# 2 SEARCH IN BST\n",
    "\n",
    "def search(root,data):\n",
    "\n",
    "    if root == None:\n",
    "        return False\n",
    "    elif root.data == data :\n",
    "        return True\n",
    "    else:\n",
    "        if root.data<data:\n",
    "            return search(root.left)\n",
    "        else:\n",
    "            return search(root.right)\n",
    "    \n"
   ]
  },
  {
   "cell_type": "markdown",
   "metadata": {},
   "source": [
    "![Alt text](image-16.png)"
   ]
  },
  {
   "cell_type": "code",
   "execution_count": null,
   "metadata": {},
   "outputs": [],
   "source": [
    "# Iterative solution..no auxillary space requried"
   ]
  },
  {
   "cell_type": "markdown",
   "metadata": {},
   "source": [
    "![Alt text](image-17.png)"
   ]
  },
  {
   "cell_type": "markdown",
   "metadata": {},
   "source": []
  },
  {
   "cell_type": "code",
   "execution_count": null,
   "metadata": {},
   "outputs": [],
   "source": [
    "# 2 INSERT IN BST"
   ]
  },
  {
   "cell_type": "markdown",
   "metadata": {},
   "source": [
    "![Alt text](image-18.png)"
   ]
  },
  {
   "cell_type": "markdown",
   "metadata": {},
   "source": [
    "![Alt text](image-19.png)"
   ]
  },
  {
   "cell_type": "code",
   "execution_count": null,
   "metadata": {},
   "outputs": [],
   "source": []
  },
  {
   "cell_type": "code",
   "execution_count": null,
   "metadata": {},
   "outputs": [],
   "source": [
    "while True:\n",
    "\n",
    "    if cuur.data == key:\n",
    "        break\n",
    "    elif curr.data > key \n",
    "        if curr.left == None:\n",
    "            curr.left = Node(key)\n",
    "            break\n",
    "        else curr  = curr.left\n",
    "    elif curr.data < key and curr.right == None:\n",
    "        curr.right = Node(key)\n",
    "        break\n",
    "    else"
   ]
  },
  {
   "cell_type": "code",
   "execution_count": null,
   "metadata": {},
   "outputs": [],
   "source": []
  }
 ],
 "metadata": {
  "kernelspec": {
   "display_name": "Python 3",
   "language": "python",
   "name": "python3"
  },
  "language_info": {
   "codemirror_mode": {
    "name": "ipython",
    "version": 3
   },
   "file_extension": ".py",
   "mimetype": "text/x-python",
   "name": "python",
   "nbconvert_exporter": "python",
   "pygments_lexer": "ipython3",
   "version": "3.11.3"
  },
  "orig_nbformat": 4
 },
 "nbformat": 4,
 "nbformat_minor": 2
}
