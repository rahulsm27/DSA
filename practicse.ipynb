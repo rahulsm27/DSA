{
 "cells": [
  {
   "cell_type": "code",
   "execution_count": 4,
   "metadata": {},
   "outputs": [
    {
     "data": {
      "text/plain": [
       "-1"
      ]
     },
     "execution_count": 4,
     "metadata": {},
     "output_type": "execute_result"
    }
   ],
   "source": [
    "l = [1,2,3,4,5,6,6,6,7,8,9]\n",
    "n = 6\n",
    "\n",
    "def searchfirst(l,n):\n",
    "    low = 0\n",
    "    high = len(l) - 1\n",
    "\n",
    "    while low<=high:\n",
    "        mid = (low+high)//2\n",
    "        if l[mid] > n:\n",
    "            high = mid-1\n",
    "        elif l[mid] <n:\n",
    "            low = mid +1\n",
    "        elif l[mid-1] == l[mid]:\n",
    "            high = mid-1\n",
    "        else:\n",
    "            return mid\n",
    "    else:\n",
    "        return -1\n",
    "    \n",
    "searchfirst(l,23)\n"
   ]
  },
  {
   "cell_type": "code",
   "execution_count": null,
   "metadata": {},
   "outputs": [],
   "source": []
  }
 ],
 "metadata": {
  "kernelspec": {
   "display_name": "Python 3",
   "language": "python",
   "name": "python3"
  },
  "language_info": {
   "codemirror_mode": {
    "name": "ipython",
    "version": 3
   },
   "file_extension": ".py",
   "mimetype": "text/x-python",
   "name": "python",
   "nbconvert_exporter": "python",
   "pygments_lexer": "ipython3",
   "version": "3.11.3"
  },
  "orig_nbformat": 4
 },
 "nbformat": 4,
 "nbformat_minor": 2
}
