{
 "cells": [
  {
   "cell_type": "code",
   "execution_count": 1,
   "metadata": {},
   "outputs": [
    {
     "name": "stdout",
     "output_type": "stream",
     "text": [
      "{10, 20, 30}\n",
      "{40, 20, 30}\n",
      "expected type set <class 'dict'>\n",
      "<class 'set'>\n",
      "set()\n"
     ]
    }
   ],
   "source": [
    "# SET\n",
    "\n",
    "# Creation \n",
    "s1 = {10, 20, 30}\n",
    "\n",
    "print(s1)\n",
    "\n",
    "s2 = set([20, 30, 40])\n",
    "\n",
    "print(s2)\n",
    "\n",
    "s3 = {} # this is dict not set\n",
    "\n",
    "print('expected type set',type(s3))\n",
    "\n",
    "s4 = set()\n",
    "\n",
    "print(type(s4))\n",
    "\n",
    "print(s4)"
   ]
  },
  {
   "cell_type": "code",
   "execution_count": null,
   "metadata": {},
   "outputs": [],
   "source": [
    "# Adding\n",
    "\n",
    "#add accepts an element and put it in the set if it is not already there but update takes an iterable and makes a unions of the set with that iterable. It's kind of like append and extend for the lists\n",
    "\n",
    "s = {10, 20}\n",
    "\n",
    "s.add(30)\n",
    "\n",
    "print(s)\n",
    "\n",
    "s.add(30)  # adding duplicate items\n",
    "print(s)\n",
    "\n",
    "s.update([40, 50])\n",
    "\n",
    "print(s)\n",
    "\n",
    "s.update([60, 70], [80, 90])  # inserting multiple list\n",
    "\n",
    "print(s)"
   ]
  },
  {
   "cell_type": "code",
   "execution_count": 5,
   "metadata": {},
   "outputs": [
    {
     "name": "stdout",
     "output_type": "stream",
     "text": [
      "{40, 10, 20}\n",
      "{40, 10}\n",
      "set()\n"
     ]
    },
    {
     "ename": "NameError",
     "evalue": "name 's' is not defined",
     "output_type": "error",
     "traceback": [
      "\u001b[0;31m---------------------------------------------------------------------------\u001b[0m",
      "\u001b[0;31mNameError\u001b[0m                                 Traceback (most recent call last)",
      "Cell \u001b[0;32mIn[5], line 19\u001b[0m\n\u001b[1;32m     15\u001b[0m \u001b[39mprint\u001b[39m(s)\n\u001b[1;32m     17\u001b[0m \u001b[39mdel\u001b[39;00m s\n\u001b[0;32m---> 19\u001b[0m s\n",
      "\u001b[0;31mNameError\u001b[0m: name 's' is not defined"
     ]
    }
   ],
   "source": [
    "# Removal\n",
    "\n",
    "s = {10, 30, 20, 40}\n",
    "\n",
    "s.discard(30)\n",
    "\n",
    "print(s)\n",
    "\n",
    "s.remove(20)\n",
    "\n",
    "print(s)\n",
    "\n",
    "s.clear() # only clears..set is present\n",
    "\n",
    "print(s)\n",
    "\n",
    "del s   # deletes it\n",
    "\n",
    "s"
   ]
  },
  {
   "cell_type": "code",
   "execution_count": 6,
   "metadata": {},
   "outputs": [
    {
     "name": "stdout",
     "output_type": "stream",
     "text": [
      "union  {2, 3, 4, 6, 8, 9}\n",
      "{2, 3, 4, 6, 8, 9}\n",
      "intersecton {6}\n",
      "{6}\n",
      "present in s1, but not present in s2 {8, 2, 4}\n",
      "{8, 2, 4}\n",
      "symmetric differences, not present in both {2, 3, 4, 8, 9}\n"
     ]
    }
   ],
   "source": [
    "s1 = {2, 4, 6, 8}\n",
    "\n",
    "s2 = {3, 6, 9}\n",
    "\n",
    "print('union ', s1 | s2)\n",
    "print(s1.union(s2))\n",
    "\n",
    "print('intersecton', s1 & s2)\n",
    "print(s1.intersection(s2))\n",
    "\n",
    "print('present in s1, but not present in s2', s1 - s2)\n",
    "print(s1.difference(s2))\n",
    "\n",
    "print('symmetric differences, not present in both', s1 ^ s2)"
   ]
  },
  {
   "cell_type": "code",
   "execution_count": 7,
   "metadata": {},
   "outputs": [
    {
     "name": "stdout",
     "output_type": "stream",
     "text": [
      "disjoint sets: False\n",
      "isSubset: False\n",
      "False\n",
      "proper set: False\n",
      "s1 is superset of s2: True\n",
      "True\n",
      "s1 is proper superset of s2: True\n"
     ]
    }
   ],
   "source": [
    "s1 = {2, 4, 6, 8}\n",
    "s2 = {4, 8}\n",
    "\n",
    "print('disjoint sets:', s1.isdisjoint(s2))\n",
    "\n",
    "print('isSubset:', s1 <= s2)\n",
    "print(s1.issubset(s2))\n",
    "\n",
    "print('proper set:', s1 < s2)\n",
    "\n",
    "print('s1 is superset of s2:', s1 >= s2)\n",
    "print(s1.issuperset(s2))\n",
    "\n",
    "print('s1 is proper superset of s2:', s1 > s2)"
   ]
  },
  {
   "cell_type": "code",
   "execution_count": null,
   "metadata": {},
   "outputs": [],
   "source": []
  },
  {
   "cell_type": "code",
   "execution_count": 10,
   "metadata": {},
   "outputs": [
    {
     "name": "stdout",
     "output_type": "stream",
     "text": [
      "xyz\n",
      "None\n",
      "NA\n",
      "NA\n"
     ]
    }
   ],
   "source": [
    "#\n",
    "d = {110: 'abc', 101: 'xyz', 105: 'pqr'}\n",
    "\n",
    "print(d.get(101))\n",
    "\n",
    "print(d.get(125))\n",
    "\n",
    "print(d.get(125, \"NA\"))\n",
    "\n",
    "if 125 in d:\n",
    "    print(d[125])\n",
    "else:\n",
    "    print(\"NA\")"
   ]
  },
  {
   "cell_type": "code",
   "execution_count": 18,
   "metadata": {},
   "outputs": [
    {
     "name": "stdout",
     "output_type": "stream",
     "text": [
      "4\n",
      "{110: 'abc', 101: 'wxy', 105: 'pqr', 106: 'bcd'}\n",
      "returning and removing 105 pqr\n",
      "after removing 105 {110: 'abc', 101: 'wxy', 106: 'bcd'}\n",
      "{110: 'abc', 101: 'wxy'}\n",
      "{110: 'abc', 101: 'abc', 108: 'cde'}\n",
      "returning and removing last inserted (108, 'cde')\n"
     ]
    }
   ],
   "source": [
    "d = {110: 'abc', 101: 'xyz', 105: 'pqr', 106: 'bcd'}\n",
    "\n",
    "d[101] = 'wxy'\n",
    "\n",
    "print(len(d))\n",
    "\n",
    "print(d)\n",
    "\n",
    "print('returning and removing 105', d.pop(105))\n",
    "\n",
    "print('after removing 105', d)\n",
    "\n",
    "del d[106]\n",
    "\n",
    "print(d)\n",
    "\n",
    "d[108] = 'cde'\n",
    "d[101] = 'abc'\n",
    "print(d)\n",
    "\n",
    "print('returning and removing last inserted', d.popitem()) # removes last inserted item"
   ]
  },
  {
   "cell_type": "code",
   "execution_count": 20,
   "metadata": {},
   "outputs": [
    {
     "name": "stdout",
     "output_type": "stream",
     "text": [
      "3\n"
     ]
    }
   ],
   "source": [
    "# Count distinct\n",
    "l = [10,20,10,30,30,20]\n",
    "\n",
    "def cDistinct2(l):\n",
    "    return len(set(l))\n",
    "\n",
    "print(cDistinct2(l))"
   ]
  },
  {
   "cell_type": "code",
   "execution_count": null,
   "metadata": {},
   "outputs": [],
   "source": []
  }
 ],
 "metadata": {
  "kernelspec": {
   "display_name": "Python 3",
   "language": "python",
   "name": "python3"
  },
  "language_info": {
   "codemirror_mode": {
    "name": "ipython",
    "version": 3
   },
   "file_extension": ".py",
   "mimetype": "text/x-python",
   "name": "python",
   "nbconvert_exporter": "python",
   "pygments_lexer": "ipython3",
   "version": "3.11.3"
  },
  "orig_nbformat": 4
 },
 "nbformat": 4,
 "nbformat_minor": 2
}
