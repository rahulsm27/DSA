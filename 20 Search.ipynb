{
 "cells": [
  {
   "cell_type": "code",
   "execution_count": null,
   "metadata": {},
   "outputs": [],
   "source": [
    "# SEARCH IN INFINITE SORTED ARRRAY\n",
    "\n",
    "# HERE ITS INFINITE...NORMAL SIZE BINARY SEARCH would do as we can set high to last..\n",
    "# so we first initial i and keep it on doubling to find high \n",
    "\n",
    "def search(arr,x):\n",
    "    if arr[0] == x:\n",
    "        return 0\n",
    "    i = 1\n",
    "    while arr[i] < x:\n",
    "        i = i*2\n",
    "    if arr[i] == x:\n",
    "        return i\n",
    "    else:\n",
    "        return bsearch (high = i-1 , low = i//2+1)\n"
   ]
  },
  {
   "cell_type": "markdown",
   "metadata": {},
   "source": []
  },
  {
   "cell_type": "code",
   "execution_count": null,
   "metadata": {},
   "outputs": [],
   "source": [
    "# Sorted and rotated array\n",
    "# initialize mid..one half of array will always be sorted...find that half..check if the element is in that half or not..if not go to other half.."
   ]
  },
  {
   "cell_type": "code",
   "execution_count": 9,
   "metadata": {},
   "outputs": [
    {
     "data": {
      "text/plain": [
       "3"
      ]
     },
     "execution_count": 9,
     "metadata": {},
     "output_type": "execute_result"
    }
   ],
   "source": [
    "\n",
    "l = [100,200,500,1000,2000,10,20,30]\n",
    "x = 1000\n",
    "\n",
    "def bsearchrotate(l,x):\n",
    "\n",
    "    low = 0\n",
    "    high = len(l) - 1\n",
    "\n",
    "    while low<= high:\n",
    "        mid = (low+high) // 2\n",
    "        if l[mid] == x:\n",
    "            return mid\n",
    "        \n",
    "        elif l[mid] >= l[low] :             # left half sorted\n",
    "            if l[low] <= x and l[mid] > x:   # check if element would be in left half or not\n",
    "                high = mid -1\n",
    "            else:\n",
    "                low = mid +1\n",
    "        else:                               # right half sorted\n",
    "            if l[mid] < x and l[high] >= x:  # check if elemnt would be in right half or not\n",
    "                low = mid  + 1\n",
    "            else:\n",
    "                high = mid - 1\n",
    "\n",
    "    else:\n",
    "        return -1\n",
    "    \n",
    "bsearchrotate(l,x)    \n",
    "\n",
    "\n",
    "\n"
   ]
  },
  {
   "cell_type": "markdown",
   "metadata": {},
   "source": [
    "![Alt text](image-179.png)"
   ]
  },
  {
   "cell_type": "code",
   "execution_count": null,
   "metadata": {},
   "outputs": [],
   "source": []
  },
  {
   "cell_type": "code",
   "execution_count": null,
   "metadata": {},
   "outputs": [],
   "source": [
    "# Peak element in array\n",
    "# number which is greate than previous and after\n"
   ]
  },
  {
   "cell_type": "markdown",
   "metadata": {},
   "source": [
    "![Alt text](image-180.png)"
   ]
  },
  {
   "cell_type": "code",
   "execution_count": 12,
   "metadata": {},
   "outputs": [
    {
     "data": {
      "text/plain": [
       "4"
      ]
     },
     "execution_count": 12,
     "metadata": {},
     "output_type": "execute_result"
    }
   ],
   "source": [
    "def peakelement(l):\n",
    "    low = 0\n",
    "    high = len(l)-1\n",
    "\n",
    "    while (low<=high):\n",
    "        mid = (low+high) // 2\n",
    "        if mid == 0  or mid == len(l) -1 :\n",
    "            return mid\n",
    "        elif l[mid-1] <= l[mid] and l[mid] >= l[high]:\n",
    "            return mid\n",
    "        elif l[mid-1] >= l[mid]:\n",
    "            high = mid -1\n",
    "        else:\n",
    "            low = mid +1\n",
    "    \n",
    "peakelement([10,20,30,40,100,50,60])\n",
    "\n"
   ]
  },
  {
   "cell_type": "code",
   "execution_count": null,
   "metadata": {},
   "outputs": [],
   "source": []
  },
  {
   "cell_type": "code",
   "execution_count": null,
   "metadata": {},
   "outputs": [],
   "source": [
    "# Two pointer approach"
   ]
  },
  {
   "cell_type": "markdown",
   "metadata": {},
   "source": [
    "![Alt text](image-182.png)"
   ]
  },
  {
   "cell_type": "markdown",
   "metadata": {},
   "source": [
    "![Alt text](image-183.png)"
   ]
  },
  {
   "cell_type": "markdown",
   "metadata": {},
   "source": [
    "![Alt text](image-184.png)"
   ]
  },
  {
   "cell_type": "code",
   "execution_count": null,
   "metadata": {},
   "outputs": [],
   "source": []
  },
  {
   "cell_type": "code",
   "execution_count": null,
   "metadata": {},
   "outputs": [],
   "source": [
    "# TRIPLET IN A SORTED ARRAY"
   ]
  },
  {
   "cell_type": "markdown",
   "metadata": {},
   "source": [
    "![Alt text](image-185.png)"
   ]
  },
  {
   "cell_type": "markdown",
   "metadata": {},
   "source": [
    "  ![Alt text](image-186.png)"
   ]
  },
  {
   "cell_type": "markdown",
   "metadata": {},
   "source": [
    "![Alt text](image-187.png) "
   ]
  },
  {
   "cell_type": "code",
   "execution_count": null,
   "metadata": {},
   "outputs": [],
   "source": []
  },
  {
   "cell_type": "code",
   "execution_count": null,
   "metadata": {},
   "outputs": [],
   "source": []
  },
  {
   "cell_type": "code",
   "execution_count": null,
   "metadata": {},
   "outputs": [],
   "source": []
  },
  {
   "cell_type": "code",
   "execution_count": null,
   "metadata": {},
   "outputs": [],
   "source": []
  },
  {
   "cell_type": "code",
   "execution_count": null,
   "metadata": {},
   "outputs": [],
   "source": []
  },
  {
   "cell_type": "code",
   "execution_count": null,
   "metadata": {},
   "outputs": [],
   "source": []
  },
  {
   "cell_type": "code",
   "execution_count": null,
   "metadata": {},
   "outputs": [],
   "source": []
  },
  {
   "cell_type": "code",
   "execution_count": null,
   "metadata": {},
   "outputs": [],
   "source": []
  },
  {
   "cell_type": "markdown",
   "metadata": {},
   "source": []
  }
 ],
 "metadata": {
  "kernelspec": {
   "display_name": "Python 3",
   "language": "python",
   "name": "python3"
  },
  "language_info": {
   "codemirror_mode": {
    "name": "ipython",
    "version": 3
   },
   "file_extension": ".py",
   "mimetype": "text/x-python",
   "name": "python",
   "nbconvert_exporter": "python",
   "pygments_lexer": "ipython3",
   "version": "3.11.3"
  },
  "orig_nbformat": 4
 },
 "nbformat": 4,
 "nbformat_minor": 2
}
