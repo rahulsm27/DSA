{
 "cells": [
  {
   "cell_type": "code",
   "execution_count": null,
   "metadata": {},
   "outputs": [],
   "source": [
    "# SEARCH IN INFINITE SORTED ARRRAY\n",
    "\n",
    "# HERE ITS INFINITE...NORMAL SIZE BINARY SEARCH would do as we can set high to last..\n",
    "# so we first initial i and keep it on doubling to find high \n",
    "\n",
    "def search(arr,x):\n",
    "    if arr[0] == x:\n",
    "        return 0\n",
    "    i = 1\n",
    "    while arr[i] < x:\n",
    "        i = i*2\n",
    "    if arr[i] == x:\n",
    "        return i\n",
    "    else:\n",
    "        return bsearch (high = i-1 , low = i//2+1)\n"
   ]
  },
  {
   "cell_type": "code",
   "execution_count": null,
   "metadata": {},
   "outputs": [],
   "source": [
    "# Similar type of question find first 1..in infinite array"
   ]
  },
  {
   "cell_type": "code",
   "execution_count": null,
   "metadata": {},
   "outputs": [],
   "source": [
    "# Python 3 implementation to find the\n",
    "# index of first 1 in an infinite\n",
    "# sorted array of 0's and 1's\n",
    "\n",
    "# function to find the index of first\n",
    "# '1' binary search technique is applied\n",
    "def indexOfFirstOne(arr, low, high) :\n",
    "\t\n",
    "\twhile (low <= high) :\n",
    "\t\tmid = (low + high) // 2\n",
    "\n",
    "\t\t# if true, then 'mid' is the index\n",
    "\t\t# of first '1'\n",
    "\t\tif (arr[mid] == 1 and (mid == 0 or\n",
    "\t\t\t\t\tarr[mid - 1] == 0)) :\n",
    "\t\t\tbreak\n",
    "\n",
    "\t\t# first '1' lies to the left of 'mid'\n",
    "\t\telif (arr[mid] == 1) :\n",
    "\t\t\thigh = mid - 1\n",
    "\n",
    "\t\t# first '1' lies to the right of 'mid'\n",
    "\t\telse :\n",
    "\t\t\tlow = mid + 1\n",
    "\t\n",
    "\t# required index\n",
    "\treturn mid\n",
    "\t\n",
    "# function to find the index of first\n",
    "# 1 in an infinite sorted array of 0's\n",
    "# and 1's\n",
    "def posOfFirstOne(arr) :\n",
    "\n",
    "\t# find the upper and lower bounds between\n",
    "\t# which the first '1' would be present\n",
    "\tl = 0\n",
    "\th = 1\n",
    "\n",
    "\t# as the array is being considered infinite\n",
    "\t# therefore 'h' index will always exist in\n",
    "\t# the array\n",
    "\twhile (arr[h] == 0) :\n",
    "\t\n",
    "\t\t# lower bound\n",
    "\t\tl = h\n",
    "\n",
    "\t\t# upper bound\n",
    "\t\th = 2 * h\n",
    "\t\t\n",
    "\t# required index of first '1'\n",
    "\treturn indexOfFirstOne(arr, l, h)\n",
    "\t\n",
    "# Driver program\n",
    "arr = [ 0, 0, 1, 1, 1, 1 ]\n",
    "print( \"Index = \", posOfFirstOne(arr))\n"
   ]
  },
  {
   "cell_type": "code",
   "execution_count": null,
   "metadata": {},
   "outputs": [],
   "source": [
    "# Let p be the position of element to be searched. Number of steps for finding high index ‘h’ is O(Log p). The value of ‘h’ must be less than 2*p. The number of elements between h/2 and h must be O(p). Therefore, time complexity of Binary Search step is also O(Log p) and overall time complexity is 2*O(Log p) which is O(Log p).\n",
    "\n"
   ]
  },
  {
   "cell_type": "markdown",
   "metadata": {},
   "source": []
  },
  {
   "cell_type": "code",
   "execution_count": null,
   "metadata": {},
   "outputs": [],
   "source": [
    "# Sorted and rotated array\n",
    "# initialize mid..one half of array will always be sorted...find that half..check if the element is in that half or not..if not go to other half.."
   ]
  },
  {
   "cell_type": "code",
   "execution_count": 9,
   "metadata": {},
   "outputs": [
    {
     "data": {
      "text/plain": [
       "3"
      ]
     },
     "execution_count": 9,
     "metadata": {},
     "output_type": "execute_result"
    }
   ],
   "source": [
    "\n",
    "l = [100,200,500,1000,2000,10,20,30]\n",
    "x = 1000\n",
    "\n",
    "def bsearchrotate(l,x):\n",
    "\n",
    "    low = 0\n",
    "    high = len(l) - 1\n",
    "\n",
    "    while low<= high:\n",
    "        mid = (low+high) // 2\n",
    "        if l[mid] == x:\n",
    "            return mid\n",
    "        \n",
    "        elif l[mid] >= l[low] :             # left half sorted\n",
    "            if l[low] <= x and l[mid] > x:   # check if element would be in left half or not\n",
    "                high = mid -1\n",
    "            else:\n",
    "                low = mid +1\n",
    "        else:                               # right half sorted\n",
    "            if l[mid] < x and l[high] >= x:  # check if elemnt would be in right half or not\n",
    "                low = mid  + 1\n",
    "            else:\n",
    "                high = mid - 1\n",
    "\n",
    "    else:\n",
    "        return -1\n",
    "    \n",
    "bsearchrotate(l,x)    \n",
    "\n",
    "\n",
    "\n"
   ]
  },
  {
   "cell_type": "markdown",
   "metadata": {},
   "source": [
    "![Alt text](image-179.png)"
   ]
  },
  {
   "cell_type": "code",
   "execution_count": null,
   "metadata": {},
   "outputs": [],
   "source": []
  },
  {
   "cell_type": "code",
   "execution_count": null,
   "metadata": {},
   "outputs": [],
   "source": [
    "# Peak element in array\n",
    "# number which is greate than previous and after\n"
   ]
  },
  {
   "cell_type": "markdown",
   "metadata": {},
   "source": [
    "![Alt text](image-180.png)"
   ]
  },
  {
   "cell_type": "code",
   "execution_count": 12,
   "metadata": {},
   "outputs": [
    {
     "data": {
      "text/plain": [
       "4"
      ]
     },
     "execution_count": 12,
     "metadata": {},
     "output_type": "execute_result"
    }
   ],
   "source": [
    "def peakelement(l):\n",
    "    low = 0\n",
    "    high = len(l)-1\n",
    "\n",
    "    while (low<=high):\n",
    "        mid = (low+high) // 2\n",
    "        if mid == 0  or mid == len(l) -1 :\n",
    "            return mid\n",
    "        elif l[mid-1] <= l[mid] and l[mid] >= l[high]:\n",
    "            return mid\n",
    "        elif l[mid-1] >= l[mid]:\n",
    "            high = mid -1\n",
    "        else:\n",
    "            low = mid +1\n",
    "    \n",
    "peakelement([10,20,30,40,100,50,60])\n",
    "\n"
   ]
  },
  {
   "cell_type": "code",
   "execution_count": null,
   "metadata": {},
   "outputs": [],
   "source": []
  },
  {
   "cell_type": "code",
   "execution_count": null,
   "metadata": {},
   "outputs": [],
   "source": [
    "# Two pointer approach"
   ]
  },
  {
   "cell_type": "markdown",
   "metadata": {},
   "source": [
    "![Alt text](image-182.png)"
   ]
  },
  {
   "cell_type": "markdown",
   "metadata": {},
   "source": [
    "![Alt text](image-183.png)"
   ]
  },
  {
   "cell_type": "markdown",
   "metadata": {},
   "source": [
    "![Alt text](image-184.png)"
   ]
  },
  {
   "cell_type": "code",
   "execution_count": null,
   "metadata": {},
   "outputs": [],
   "source": []
  },
  {
   "cell_type": "code",
   "execution_count": null,
   "metadata": {},
   "outputs": [],
   "source": [
    "# TRIPLET IN A SORTED ARRAY"
   ]
  },
  {
   "cell_type": "markdown",
   "metadata": {},
   "source": [
    "![Alt text](image-185.png)"
   ]
  },
  {
   "cell_type": "markdown",
   "metadata": {},
   "source": [
    "  ![Alt text](image-186.png)"
   ]
  },
  {
   "cell_type": "markdown",
   "metadata": {},
   "source": [
    "![Alt text](image-187.png) "
   ]
  },
  {
   "cell_type": "code",
   "execution_count": null,
   "metadata": {},
   "outputs": [],
   "source": []
  },
  {
   "cell_type": "code",
   "execution_count": null,
   "metadata": {},
   "outputs": [],
   "source": [
    "# Median of two sorted arrays"
   ]
  },
  {
   "cell_type": "markdown",
   "metadata": {},
   "source": [
    "![Alt text](image-188.png)"
   ]
  },
  {
   "cell_type": "markdown",
   "metadata": {},
   "source": [
    "![Alt text](image-189.png)"
   ]
  },
  {
   "cell_type": "markdown",
   "metadata": {},
   "source": [
    "![Alt text](image-190.png)"
   ]
  },
  {
   "cell_type": "code",
   "execution_count": null,
   "metadata": {},
   "outputs": [],
   "source": [
    "# # Solution\n",
    "# divide a1 and a2 such that \n",
    "#left a1 <righta2 and left a2 <righta1\n",
    "#and len(lefta1+lefta2 ) = len(right a1 + right a2)\n",
    "# # take care of extreme cases where index overflows \n",
    "# [1,2,3]\n",
    "# [4,5,6]\n",
    "\n",
    "# # then the median is \n",
    "#             if (n1+n2) % 2 == 0:\n",
    "#                 return (max(lefta1,lefta2) + min(righta1,righta2))/2\n",
    "#             else:\n",
    "#                 return max(lefta1,lefta2)"
   ]
  },
  {
   "cell_type": "code",
   "execution_count": null,
   "metadata": {},
   "outputs": [],
   "source": [
    "# Follow the steps below to solve the problem:\n",
    "\n",
    "# If we would have merged the two arrays, the median is the point that will divide the sorted merged array into two equal parts. So the actual median point in the merged array would have been (M+N+1)/2;\n",
    "# We divide A[] and B[] into two parts. We will find the mid value and divide the first array A[] into two parts and simultaneously choose only those elements from left of B[] array such that the sum of the count of elements in the left part of both A[] and B[] will result in the left part of the merged array. \n",
    "#  Now we have 4 variables indicating four values two from array A[] and two from array B[].\n",
    "# leftA -> Rightmost element in left part of A.\n",
    "# leftb -> Rightmost element in left part of B\n",
    "# rightA -> Leftmost element in right part of A\n",
    "# rightB -> Leftmost element in right part of B\n",
    "# Hence to confirm that the partition was correct we have to check if leftA<=rightB and leftB<=rightA. This is the case when the sum of two parts of A and B results in the left part of the merged array.\n",
    "#  If the condition fails we have to find another midpoint in A and then left part in B[]. \n",
    "# If we find leftA > rightB. means we have to decrease the size of A’s partition and shift to lesser value in A[]. \n",
    "# So update the right pointer of to mid-1 else we will increase the left pointer to mid+1. \n",
    "# Repeat the above steps with new partitions till we get the answers.\n",
    "# If leftA ≤ rightB and leftB ≤ rightA, then we get the correct partition and our answer depends on the total size of the merged array (i.e. M+N). If (M+N) is even we take max(leftA, leftB) and min(rightA, rightB), add them and divide by 2 to get our answer, else we will just return the maximum of leftA and leftB.\n"
   ]
  },
  {
   "cell_type": "code",
   "execution_count": 14,
   "metadata": {},
   "outputs": [],
   "source": [
    "def median(a1,a2):\n",
    "    # a1 < a2\n",
    "\n",
    "    start = 0\n",
    "    end = len(a1)-1\n",
    "\n",
    "    n1 = len(a1)\n",
    "    n2 = len(a2)\n",
    "\n",
    "    while True:\n",
    "        i1 = (start+end)//2\n",
    "        i2 = (n1+n2+1)//2 - i1\n",
    "\n",
    "        lefta1 = a1[i1-1] if i1-1 >= 0 else -float('inf')\n",
    "        righta1 = a1[i1] if i1<n1 else float('inf')\n",
    "          \n",
    "        lefta2 = a2[i2-1] if i2-1 >= 0 else -float('inf')\n",
    "        righta2 = a2[i2] if i2 < n2 else float('inf')\n",
    "\n",
    "        if lefta1 <= righta2 and righta1 >= lefta2:\n",
    "            if (n1+n2) % 2 == 0:\n",
    "                return (max(lefta1,lefta2) + min(righta1,righta2))/2\n",
    "            else:\n",
    "                return max(lefta1,lefta2)\n",
    "        elif (lefta1>righta2):\n",
    "            end = i1-1\n",
    "        else:\n",
    "            start = i1+1\n",
    "               \n",
    "\n",
    "\n",
    "               \n",
    "        \n",
    "\n",
    "    \n",
    "\n",
    "\n",
    "\n",
    "\n",
    "\n",
    "\n",
    "\n",
    "\n",
    "\n",
    "\n",
    "\n"
   ]
  },
  {
   "cell_type": "code",
   "execution_count": 15,
   "metadata": {},
   "outputs": [
    {
     "name": "stdout",
     "output_type": "stream",
     "text": [
      "Median of the two arrays is\n",
      "3\n"
     ]
    }
   ],
   "source": [
    "# Driver code\n",
    "\n",
    "arr1 = [-5, 3, 6, 12, 15]\n",
    "arr2 = [-12, -10, -6, -3, 4, 10]\n",
    "print(\"Median of the two arrays is\")\n",
    "print(median(arr1, arr2))"
   ]
  },
  {
   "cell_type": "code",
   "execution_count": 16,
   "metadata": {},
   "outputs": [
    {
     "name": "stdout",
     "output_type": "stream",
     "text": [
      "Median of the two arrays is\n",
      "-2\n"
     ]
    }
   ],
   "source": [
    "arr1 = [1, 3, 6, 12, 15]\n",
    "arr2 = [-12, -10, -6, -3, -1, -2]\n",
    "print(\"Median of the two arrays is\")\n",
    "print(median(arr1, arr2))"
   ]
  },
  {
   "cell_type": "code",
   "execution_count": null,
   "metadata": {},
   "outputs": [],
   "source": []
  },
  {
   "cell_type": "code",
   "execution_count": null,
   "metadata": {},
   "outputs": [],
   "source": [
    "# Repeating element\n",
    "# all elements from 0 to max(arr) present\n",
    "# one element repeats ANY number of times\n",
    "# o <= max(arr) <= n-2\n",
    "# [0,2,1,3,2,2]\n",
    "# we need to find repeating element 2 in  O(n) time and O(1) aux space"
   ]
  },
  {
   "cell_type": "markdown",
   "metadata": {},
   "source": [
    "![Alt text](image-191.png)"
   ]
  },
  {
   "cell_type": "code",
   "execution_count": 7,
   "metadata": {},
   "outputs": [
    {
     "data": {
      "text/plain": [
       "3.0"
      ]
     },
     "execution_count": 7,
     "metadata": {},
     "output_type": "execute_result"
    }
   ],
   "source": [
    "l = [0,1,2,3,3,4,5,3,3]\n",
    "def repeat(l):\n",
    "    sum = 0\n",
    "    max = -float('inf')\n",
    "    for i in l:\n",
    "        if i > max:\n",
    "            max = i\n",
    "        sum = sum + i\n",
    "\n",
    "    total_sum_expected = (max*(max+1))/2\n",
    "    len_arr = len(l) - 1\n",
    "    diff = len_arr - max\n",
    "    \n",
    "    repeating = (sum-total_sum_expected)/diff\n",
    "\n",
    "    return repeating\n",
    "\n",
    "repeat(l)"
   ]
  },
  {
   "cell_type": "code",
   "execution_count": null,
   "metadata": {},
   "outputs": [],
   "source": [
    "# one more possible solution time 0(n) but aux O(n)"
   ]
  },
  {
   "cell_type": "markdown",
   "metadata": {},
   "source": [
    "![Alt text](image-192.png)"
   ]
  },
  {
   "cell_type": "code",
   "execution_count": null,
   "metadata": {},
   "outputs": [],
   "source": [
    "# Another solution ...NOT UNDERSTOOD"
   ]
  },
  {
   "cell_type": "markdown",
   "metadata": {},
   "source": [
    "![Alt text](image-193.png)"
   ]
  },
  {
   "cell_type": "markdown",
   "metadata": {},
   "source": []
  },
  {
   "cell_type": "code",
   "execution_count": null,
   "metadata": {},
   "outputs": [],
   "source": [
    "# Allocate Minimum No of Pages"
   ]
  },
  {
   "cell_type": "code",
   "execution_count": null,
   "metadata": {},
   "outputs": [],
   "source": [
    "# Given a number of pages in N different books and M students. The books are arranged in ascending order of the number of pages. Every student is assigned to read some consecutive books. The task is to assign books in such a way that the maximum number of pages assigned to a student is minimum. \n",
    "\n",
    "# Example : \n",
    "\n",
    "# Input : pages[] = {12, 34, 67, 90} , m = 2\n",
    "# Output : 113\n",
    "# Explanation: There are 2 number of students. Books can be distributed in following fashion : \n",
    "# 1) [12] and [34, 67, 90]\n",
    "# Max number of pages is allocated to student ‘2’ with 34 + 67 + 90 = 191 pages\n",
    "# 2) [12, 34] and [67, 90] Max number of pages is allocated to student ‘2’ with 67 + 90 = 157 pages \n",
    "# 3) [12, 34, 67] and [90] Max number of pages is allocated to student ‘1’ with 12 + 34 + 67 = 113 pages\n",
    "\n",
    "# Of the 3 cases, Option 3 has the minimum pages = 113."
   ]
  },
  {
   "cell_type": "markdown",
   "metadata": {},
   "source": [
    "![Alt text](image-194.png)"
   ]
  },
  {
   "cell_type": "code",
   "execution_count": null,
   "metadata": {},
   "outputs": [],
   "source": [
    "# naive rescursive solution"
   ]
  },
  {
   "cell_type": "code",
   "execution_count": null,
   "metadata": {},
   "outputs": [],
   "source": [
    "def minpages(arr,n,k):\n",
    "    if k == 1:\n",
    "        return sum(arr[0:n])\n",
    "    if n == 1:  ## one page..we assume k == 1  since k < n\n",
    "        return arr[0]\n",
    "    res = float('inf')\n",
    "    for i in range(1,n):\n",
    "        res = min(res,max(minpages(arr,i,k-1),sum(arr[i:n])))\n",
    "    return res"
   ]
  },
  {
   "cell_type": "markdown",
   "metadata": {},
   "source": [
    "![Alt text](image-195.png)"
   ]
  },
  {
   "cell_type": "code",
   "execution_count": 8,
   "metadata": {},
   "outputs": [],
   "source": [
    "# Dynamic based solution in dynamic section"
   ]
  },
  {
   "cell_type": "code",
   "execution_count": null,
   "metadata": {},
   "outputs": [],
   "source": []
  },
  {
   "cell_type": "code",
   "execution_count": null,
   "metadata": {},
   "outputs": [],
   "source": []
  },
  {
   "cell_type": "code",
   "execution_count": 9,
   "metadata": {},
   "outputs": [],
   "source": [
    "# Binary solution\n",
    "# Answer will be in range of (maximumvlaue,sum)\n",
    "#do binary search between maximum value and sum...check if its feasibble\n",
    "\n",
    "# O(n*log(sum-max))  binary serach for (sum-max)..in each saerch we do n loops."
   ]
  },
  {
   "cell_type": "code",
   "execution_count": null,
   "metadata": {},
   "outputs": [],
   "source": [
    "# Case 1: When no valid answer exists.\n",
    "\n",
    "# If the number of students is greater than the number of books (i.e, M > N), In this case at least 1 student will be left to which no book has been assigned.\n",
    "\n",
    "# Case 2: When a valid answer exists.\n",
    "\n",
    "# The maximum possible answer could be when there is only one student. So, all the book will be assigned to him and the result would be the sum of pages of all the books.\n",
    "\n",
    "# The minimum possible answer could be when number of student is equal to the number of book (i.e, M == N) , In this case all the strudent will get at most one book. So, the result would be the maximum number of pages among them (i.e, minimum(pages[])).\n",
    "\n",
    "# Hence, we can apply binary search in this given range and each time we can consider the mid value as the maximum limit of pages one can get. And check for the limit if answer is valid then update the limit accordingly.\n",
    "\n",
    "# Below is the implementation of the above idea:\n",
    "\n",
    "# Initialise the start to minimum(pages[]) and end = sum of pages[],\n",
    "# Do while start <= end\n",
    "# Calculate the mid and check if mid number of pages can assign any student by satisfying the given condition such that all students will get at least one book. Follow the steps to check for validity.\n",
    "# Initialise the studentsRequired = 1 and curr_sum = 0 for sum of consecutive pages of book\n",
    "# Iterate over all books or say pages[]\n",
    "# Add the pages to curr_sum and check curr_sum > curr_min then increment the count of studentRequired by 1.\n",
    "# Check if the studentRequired > M, return false.\n",
    "# Return true.\n",
    "# If mid is valid then, update the result and move the end = mid – 1\n",
    "# Otherwise, move the start = mid + 1\n",
    "# Finally, return the result."
   ]
  },
  {
   "cell_type": "markdown",
   "metadata": {},
   "source": [
    "![Alt text](image-198.png)"
   ]
  },
  {
   "cell_type": "markdown",
   "metadata": {},
   "source": [
    "![Alt text](image-197.png)"
   ]
  },
  {
   "cell_type": "code",
   "execution_count": null,
   "metadata": {},
   "outputs": [],
   "source": []
  }
 ],
 "metadata": {
  "kernelspec": {
   "display_name": "Python 3",
   "language": "python",
   "name": "python3"
  },
  "language_info": {
   "codemirror_mode": {
    "name": "ipython",
    "version": 3
   },
   "file_extension": ".py",
   "mimetype": "text/x-python",
   "name": "python",
   "nbconvert_exporter": "python",
   "pygments_lexer": "ipython3",
   "version": "3.11.3"
  },
  "orig_nbformat": 4
 },
 "nbformat": 4,
 "nbformat_minor": 2
}
