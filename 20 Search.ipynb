{
 "cells": [
  {
   "cell_type": "code",
   "execution_count": null,
   "metadata": {},
   "outputs": [],
   "source": [
    "# SEARCH IN INFINITE SORTED ARRRAY\n",
    "\n",
    "# HERE ITS INFINITE...NORMAL SIZE BINARY SEARCH would do as we can set high to last..\n",
    "# so we first initial i and keep it on doubling to find high \n",
    "\n",
    "def search(arr,x):\n",
    "    if arr[0] == x:\n",
    "        return 0\n",
    "    i = 1\n",
    "    while arr[i] < x:\n",
    "        i = i*2\n",
    "    if arr[i] == x:\n",
    "        return i\n",
    "    else:\n",
    "        return bsearch (high = i-1 , low = i//2+1)\n"
   ]
  },
  {
   "cell_type": "markdown",
   "metadata": {},
   "source": []
  },
  {
   "cell_type": "code",
   "execution_count": null,
   "metadata": {},
   "outputs": [],
   "source": [
    "# Sorted and rotated array\n",
    "# initialize mid..one half of array will always be sorted...find that half..check if the element is in that half or not..if not go to other half.."
   ]
  },
  {
   "cell_type": "code",
   "execution_count": 9,
   "metadata": {},
   "outputs": [
    {
     "data": {
      "text/plain": [
       "3"
      ]
     },
     "execution_count": 9,
     "metadata": {},
     "output_type": "execute_result"
    }
   ],
   "source": [
    "\n",
    "l = [100,200,500,1000,2000,10,20,30]\n",
    "x = 1000\n",
    "\n",
    "def bsearchrotate(l,x):\n",
    "\n",
    "    low = 0\n",
    "    high = len(l) - 1\n",
    "\n",
    "    while low<= high:\n",
    "        mid = (low+high) // 2\n",
    "        if l[mid] == x:\n",
    "            return mid\n",
    "        \n",
    "        elif l[mid] >= l[low] :             # left half sorted\n",
    "            if l[low] <= x and l[mid] > x:   # check if element would be in left half or not\n",
    "                high = mid -1\n",
    "            else:\n",
    "                low = mid +1\n",
    "        else:                               # right half sorted\n",
    "            if l[mid] < x and l[high] >= x:  # check if elemnt would be in right half or not\n",
    "                low = mid  + 1\n",
    "            else:\n",
    "                high = mid - 1\n",
    "\n",
    "    else:\n",
    "        return -1\n",
    "    \n",
    "bsearchrotate(l,x)    \n",
    "\n",
    "\n",
    "\n"
   ]
  },
  {
   "cell_type": "markdown",
   "metadata": {},
   "source": [
    "![Alt text](image-179.png)"
   ]
  },
  {
   "cell_type": "code",
   "execution_count": null,
   "metadata": {},
   "outputs": [],
   "source": []
  },
  {
   "cell_type": "code",
   "execution_count": null,
   "metadata": {},
   "outputs": [],
   "source": [
    "# Peak element in array\n",
    "# number which is greate than previous and after\n"
   ]
  },
  {
   "cell_type": "markdown",
   "metadata": {},
   "source": [
    "![Alt text](image-180.png)"
   ]
  },
  {
   "cell_type": "code",
   "execution_count": 12,
   "metadata": {},
   "outputs": [
    {
     "data": {
      "text/plain": [
       "4"
      ]
     },
     "execution_count": 12,
     "metadata": {},
     "output_type": "execute_result"
    }
   ],
   "source": [
    "def peakelement(l):\n",
    "    low = 0\n",
    "    high = len(l)-1\n",
    "\n",
    "    while (low<=high):\n",
    "        mid = (low+high) // 2\n",
    "        if mid == 0  or mid == len(l) -1 :\n",
    "            return mid\n",
    "        elif l[mid-1] <= l[mid] and l[mid] >= l[high]:\n",
    "            return mid\n",
    "        elif l[mid-1] >= l[mid]:\n",
    "            high = mid -1\n",
    "        else:\n",
    "            low = mid +1\n",
    "    \n",
    "peakelement([10,20,30,40,100,50,60])\n",
    "\n"
   ]
  },
  {
   "cell_type": "code",
   "execution_count": null,
   "metadata": {},
   "outputs": [],
   "source": []
  },
  {
   "cell_type": "code",
   "execution_count": null,
   "metadata": {},
   "outputs": [],
   "source": [
    "# Two pointer approach"
   ]
  },
  {
   "cell_type": "markdown",
   "metadata": {},
   "source": [
    "![Alt text](image-182.png)"
   ]
  },
  {
   "cell_type": "markdown",
   "metadata": {},
   "source": [
    "![Alt text](image-183.png)"
   ]
  },
  {
   "cell_type": "markdown",
   "metadata": {},
   "source": [
    "![Alt text](image-184.png)"
   ]
  },
  {
   "cell_type": "code",
   "execution_count": null,
   "metadata": {},
   "outputs": [],
   "source": []
  },
  {
   "cell_type": "code",
   "execution_count": null,
   "metadata": {},
   "outputs": [],
   "source": [
    "# TRIPLET IN A SORTED ARRAY"
   ]
  },
  {
   "cell_type": "markdown",
   "metadata": {},
   "source": [
    "![Alt text](image-185.png)"
   ]
  },
  {
   "cell_type": "markdown",
   "metadata": {},
   "source": [
    "  ![Alt text](image-186.png)"
   ]
  },
  {
   "cell_type": "markdown",
   "metadata": {},
   "source": [
    "![Alt text](image-187.png) "
   ]
  },
  {
   "cell_type": "code",
   "execution_count": null,
   "metadata": {},
   "outputs": [],
   "source": []
  },
  {
   "cell_type": "code",
   "execution_count": null,
   "metadata": {},
   "outputs": [],
   "source": [
    "# Median of two sorted arrays"
   ]
  },
  {
   "cell_type": "markdown",
   "metadata": {},
   "source": [
    "![Alt text](image-188.png)"
   ]
  },
  {
   "cell_type": "markdown",
   "metadata": {},
   "source": [
    "![Alt text](image-189.png)"
   ]
  },
  {
   "cell_type": "markdown",
   "metadata": {},
   "source": [
    "![Alt text](image-190.png)"
   ]
  },
  {
   "cell_type": "code",
   "execution_count": null,
   "metadata": {},
   "outputs": [],
   "source": [
    "# # Solution\n",
    "# divide a1 and a2 such that \n",
    "#left a1 <righta2 and left a2 <righta1\n",
    "#and len(lefta1+lefta2 ) = len(right a1 + right a2)\n",
    "# # take care of extreme cases where index overflows \n",
    "# [1,2,3]\n",
    "# [4,5,6]\n",
    "\n",
    "# # then the median is \n",
    "#             if (n1+n2) % 2 == 0:\n",
    "#                 return (max(lefta1,lefta2) + min(righta1,righta2))/2\n",
    "#             else:\n",
    "#                 return max(lefta1,lefta2)"
   ]
  },
  {
   "cell_type": "code",
   "execution_count": null,
   "metadata": {},
   "outputs": [],
   "source": [
    "# Follow the steps below to solve the problem:\n",
    "\n",
    "# If we would have merged the two arrays, the median is the point that will divide the sorted merged array into two equal parts. So the actual median point in the merged array would have been (M+N+1)/2;\n",
    "# We divide A[] and B[] into two parts. We will find the mid value and divide the first array A[] into two parts and simultaneously choose only those elements from left of B[] array such that the sum of the count of elements in the left part of both A[] and B[] will result in the left part of the merged array. \n",
    "#  Now we have 4 variables indicating four values two from array A[] and two from array B[].\n",
    "# leftA -> Rightmost element in left part of A.\n",
    "# leftb -> Rightmost element in left part of B\n",
    "# rightA -> Leftmost element in right part of A\n",
    "# rightB -> Leftmost element in right part of B\n",
    "# Hence to confirm that the partition was correct we have to check if leftA<=rightB and leftB<=rightA. This is the case when the sum of two parts of A and B results in the left part of the merged array.\n",
    "#  If the condition fails we have to find another midpoint in A and then left part in B[]. \n",
    "# If we find leftA > rightB. means we have to decrease the size of A’s partition and shift to lesser value in A[]. \n",
    "# So update the right pointer of to mid-1 else we will increase the left pointer to mid+1. \n",
    "# Repeat the above steps with new partitions till we get the answers.\n",
    "# If leftA ≤ rightB and leftB ≤ rightA, then we get the correct partition and our answer depends on the total size of the merged array (i.e. M+N). If (M+N) is even we take max(leftA, leftB) and min(rightA, rightB), add them and divide by 2 to get our answer, else we will just return the maximum of leftA and leftB.\n"
   ]
  },
  {
   "cell_type": "code",
   "execution_count": 14,
   "metadata": {},
   "outputs": [],
   "source": [
    "def median(a1,a2):\n",
    "    # a1 < a2\n",
    "\n",
    "    start = 0\n",
    "    end = len(a1)-1\n",
    "\n",
    "    n1 = len(a1)\n",
    "    n2 = len(a2)\n",
    "\n",
    "    while True:\n",
    "        i1 = (start+end)//2\n",
    "        i2 = (n1+n2+1)//2 - i1\n",
    "\n",
    "        lefta1 = a1[i1-1] if i1-1 >= 0 else -float('inf')\n",
    "        righta1 = a1[i1] if i1<n1 else float('inf')\n",
    "          \n",
    "        lefta2 = a2[i2-1] if i2-1 >= 0 else -float('inf')\n",
    "        righta2 = a2[i2] if i2 < n2 else float('inf')\n",
    "\n",
    "        if lefta1 <= righta2 and righta1 >= lefta2:\n",
    "            if (n1+n2) % 2 == 0:\n",
    "                return (max(lefta1,lefta2) + min(righta1,righta2))/2\n",
    "            else:\n",
    "                return max(lefta1,lefta2)\n",
    "        elif (lefta1>righta2):\n",
    "            end = i1-1\n",
    "        else:\n",
    "            start = i1+1\n",
    "               \n",
    "\n",
    "\n",
    "               \n",
    "        \n",
    "\n",
    "    \n",
    "\n",
    "\n",
    "\n",
    "\n",
    "\n",
    "\n",
    "\n",
    "\n",
    "\n",
    "\n",
    "\n"
   ]
  },
  {
   "cell_type": "code",
   "execution_count": 15,
   "metadata": {},
   "outputs": [
    {
     "name": "stdout",
     "output_type": "stream",
     "text": [
      "Median of the two arrays is\n",
      "3\n"
     ]
    }
   ],
   "source": [
    "# Driver code\n",
    "\n",
    "arr1 = [-5, 3, 6, 12, 15]\n",
    "arr2 = [-12, -10, -6, -3, 4, 10]\n",
    "print(\"Median of the two arrays is\")\n",
    "print(median(arr1, arr2))"
   ]
  },
  {
   "cell_type": "code",
   "execution_count": 16,
   "metadata": {},
   "outputs": [
    {
     "name": "stdout",
     "output_type": "stream",
     "text": [
      "Median of the two arrays is\n",
      "-2\n"
     ]
    }
   ],
   "source": [
    "arr1 = [1, 3, 6, 12, 15]\n",
    "arr2 = [-12, -10, -6, -3, -1, -2]\n",
    "print(\"Median of the two arrays is\")\n",
    "print(median(arr1, arr2))"
   ]
  },
  {
   "cell_type": "code",
   "execution_count": null,
   "metadata": {},
   "outputs": [],
   "source": []
  },
  {
   "cell_type": "code",
   "execution_count": null,
   "metadata": {},
   "outputs": [],
   "source": []
  },
  {
   "cell_type": "code",
   "execution_count": null,
   "metadata": {},
   "outputs": [],
   "source": []
  },
  {
   "cell_type": "code",
   "execution_count": null,
   "metadata": {},
   "outputs": [],
   "source": []
  },
  {
   "cell_type": "markdown",
   "metadata": {},
   "source": []
  }
 ],
 "metadata": {
  "kernelspec": {
   "display_name": "Python 3",
   "language": "python",
   "name": "python3"
  },
  "language_info": {
   "codemirror_mode": {
    "name": "ipython",
    "version": 3
   },
   "file_extension": ".py",
   "mimetype": "text/x-python",
   "name": "python",
   "nbconvert_exporter": "python",
   "pygments_lexer": "ipython3",
   "version": "3.11.3"
  },
  "orig_nbformat": 4
 },
 "nbformat": 4,
 "nbformat_minor": 2
}
