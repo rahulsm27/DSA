{
 "cells": [
  {
   "cell_type": "code",
   "execution_count": 18,
   "metadata": {},
   "outputs": [
    {
     "name": "stdout",
     "output_type": "stream",
     "text": [
      " ABC\n",
      " AB\n",
      " AC\n",
      " A\n",
      " BC\n",
      " B\n",
      " C\n",
      " \n"
     ]
    }
   ],
   "source": [
    "\n",
    "\n",
    "def substring(str,ind,k):\n",
    "    if k == 3 :\n",
    "        print(ind)\n",
    "\n",
    "    else:\n",
    "        substring(str,ind+str[k],k+1)\n",
    "        substring(str,ind,k+1)\n",
    "\n",
    "substring(\"ABC\",\" \",0)\n"
   ]
  },
  {
   "cell_type": "markdown",
   "metadata": {},
   "source": []
  },
  {
   "cell_type": "code",
   "execution_count": null,
   "metadata": {},
   "outputs": [],
   "source": [
    "# # 1 CONCEPT OF BACKGRACKING\n",
    "# What is Backtracking Algorithm?\n",
    "# Backtracking is an algorithmic technique for solving problems recursively by trying to build a solution incrementally, one piece at a time, removing those solutions that fail to satisfy the constraints of the problem at any point of time (by time, here, is referred to the time elapsed till reaching any level of the search tree).\n",
    "\n",
    "# Types of Backtracking Algorithm\n",
    "# There are three types of problems in backtracking –  \n",
    "\n",
    "# Decision Problem – In this, we search for a feasible solution.\n",
    "# Optimization Problem – In this, we search for the best solution.\n",
    "# Enumeration Problem – In this, we find all feasible solutions."
   ]
  },
  {
   "cell_type": "code",
   "execution_count": 31,
   "metadata": {},
   "outputs": [
    {
     "name": "stdout",
     "output_type": "stream",
     "text": [
      " ACBD\n",
      " ACDB\n",
      " ADBC\n",
      " ADCB\n",
      " BACD\n",
      " BADC\n",
      " BCAD\n",
      " BCDA\n",
      " BDAC\n",
      " BDCA\n",
      " CADB\n",
      " CBAD\n",
      " CBDA\n",
      " CDBA\n",
      " DACB\n",
      " DBAC\n",
      " DBCA\n",
      " DCBA\n"
     ]
    }
   ],
   "source": [
    "# string = \"ABC\"\n",
    "\n",
    "# print which does not conatin \"AB\" as a substring\n",
    "# ACB,BAC,BCA,CBA\n",
    "def permute(str,ind,k):\n",
    "    if len(ind)> 1 and ind[-1] == 'B' and ind[-2] == 'A':\n",
    "         return\n",
    "    elif k == 0:\n",
    "         print(ind)\n",
    "       \n",
    "    else:\n",
    "        for i in range(0,len(str)):\n",
    "                permute(str[:i]+str[i+1:],ind+str[i],k-1)\n",
    "        \n",
    "permute(\"ABCD\",\" \",4)"
   ]
  },
  {
   "cell_type": "code",
   "execution_count": null,
   "metadata": {},
   "outputs": [],
   "source": []
  },
  {
   "cell_type": "code",
   "execution_count": null,
   "metadata": {},
   "outputs": [],
   "source": [
    "# # 2 Rate in a maze\n",
    "# Let us discuss Rat in a Maze as another example problem that can be solved using Backtracking.\n",
    "\n",
    "# A Maze is given as N*N binary matrix of blocks where source block is the upper left most block i.e., maze[0][0] and destination block is lower rightmost block i.e., maze[N-1][N-1]. A rat starts from source and has to reach the destination. The rat can move only in two directions: forward and down. \n",
    "\n",
    "# In the maze matrix, 0 means the block is a dead end and 1 means the block can be used in the path from source to destination. Note that this is a simple version of the typical Maze problem. For example, a more complex version can be that the rat can move in 4 directions and a more complex version can be with a limited number of moves.\n",
    "\n"
   ]
  },
  {
   "cell_type": "code",
   "execution_count": null,
   "metadata": {},
   "outputs": [],
   "source": [
    "# Algorithm:  \n",
    "\n",
    "# Create a solution matrix, initially filled with 0’s.\n",
    "# Create a recursive function, which takes initial matrix, output matrix and position of rat (i, j).\n",
    "# if the position is out of the matrix or the position is not valid then return.\n",
    "# Mark the position output[i][j] as 1 and check if the current position is destination or not. If destination is reached print the output matrix and return.\n",
    "# Recursively call for position (i+1, j) and (i, j+1).\n",
    "# Unmark position (i, j), i.e output[i][j] = 0."
   ]
  },
  {
   "cell_type": "code",
   "execution_count": 61,
   "metadata": {},
   "outputs": [
    {
     "data": {
      "text/plain": [
       "[[1, 0, 0, 0], [1, 1, 0, 0], [0, 1, 0, 0], [0, 1, 1, 1]]"
      ]
     },
     "execution_count": 61,
     "metadata": {},
     "output_type": "execute_result"
    }
   ],
   "source": [
    "\n",
    "maze = [[1,0,0,0],[1,1,0,1],[0,1,0,0],[1,1,1,1]]\n",
    "x = 0\n",
    "y = 0\n",
    "ans = [[0 for i in range(len(maze))] for j in range(len(maze))]\n",
    "xy =[(1,0),(0,1)]\n",
    "\n",
    "def pathmaze(xy,maze,ans,x,y):\n",
    "    if x>=len(maze) or y >=len(maze):\n",
    "        return False\n",
    "    elif maze[x][y] == 0:\n",
    "        return False\n",
    "\n",
    "    elif (x == len(maze)-1) and (y == len(maze)-1):\n",
    "        ans[x][y] = 1\n",
    "  #      print (ans)\n",
    "        return ans\n",
    "    else:\n",
    "        ans[x][y] = 1\n",
    "        for i in range(len(xy)):\n",
    "            x = x +  xy[i][0]\n",
    "            y = y + xy[i][1]\n",
    "            if pathmaze(xy,maze,ans,x,y):\n",
    "                return ans\n",
    "            else: ## THis is back track # alternate check below..backtacking means removing the value if it does not satisfy\n",
    "                x = x -  xy[i][0]\n",
    "                y = y - xy[i][1]\n",
    "               \n",
    "\n",
    "\n",
    "\n",
    "pathmaze(xy,maze,ans,x,y)\n",
    "\n"
   ]
  },
  {
   "cell_type": "code",
   "execution_count": null,
   "metadata": {},
   "outputs": [],
   "source": [
    "# maze = [[1,0,0,0],[1,1,0,1],[0,1,0,0],[1,1,1,1]]\n",
    "# x = 0\n",
    "# y = 0\n",
    "# ans = [[0 for i in range(len(maze))] for j in range(len(maze))]\n",
    "# xy =[(1,0),(0,1)]\n",
    "\n",
    "# def pathmaze(xy,maze,ans,x,y):\n",
    "#     if x>=len(maze) or y >=len(maze):\n",
    "#         return\n",
    "#     elif maze[x][y] == 0:\n",
    "#         return\n",
    "\n",
    "#     elif (x == len(maze)-1) and (y == len(maze)-1):\n",
    "#         ans[x][y] = 1\n",
    "#         print (ans)\n",
    "#     else:\n",
    "#         ans[x][y] = 1\n",
    "#         for i in range(len(xy)):\n",
    "#             print(ans)\n",
    "#             pathmaze(xy,maze,ans,x+xy[i][0],y+xy[i][1])\n",
    "\n",
    "\n",
    "\n",
    "# pathmaze(xy,maze,ans,x,y)"
   ]
  },
  {
   "cell_type": "code",
   "execution_count": null,
   "metadata": {},
   "outputs": [],
   "source": []
  },
  {
   "cell_type": "code",
   "execution_count": null,
   "metadata": {},
   "outputs": [],
   "source": []
  },
  {
   "cell_type": "code",
   "execution_count": null,
   "metadata": {},
   "outputs": [],
   "source": [
    "# # 3 NQueen problem\n",
    "# Let us discuss N Queen as another example problem that can be solved using backtracking. \n",
    "# The N Queen is the problem of placing N chess queens on an N×N chessboard so that no two queens attack each other. For example, the following is a solution for the 4 Queen problem.\n",
    "\n"
   ]
  },
  {
   "cell_type": "code",
   "execution_count": 20,
   "metadata": {},
   "outputs": [
    {
     "name": "stdout",
     "output_type": "stream",
     "text": [
      "[[0, 1, 0, 0], [0, 0, 0, 1], [1, 0, 0, 0], [0, 0, 1, 0]]\n",
      "[[0, 0, 1, 0], [1, 0, 0, 0], [0, 0, 0, 1], [0, 1, 0, 0]]\n",
      "[[0, 0, 1, 0], [1, 0, 0, 0], [0, 0, 0, 1], [0, 1, 0, 0]]\n",
      "[[0, 1, 0, 0], [0, 0, 0, 1], [1, 0, 0, 0], [0, 0, 1, 0]]\n"
     ]
    }
   ],
   "source": [
    "# 3 N QUEEN PROBLEM\n",
    "\n",
    "n=4\n",
    "ans =[[0 for i in range(n)] for j in range(n)]\n",
    "ch=0\n",
    "check = [[0 for i in range(n)] for j in range(n)]\n",
    "#print(check)\n",
    "def updatecheck(check,i,j,n):\n",
    "    for s in range(n):\n",
    "        check[i][s] = 1\n",
    "    for v in range(n):\n",
    "        check[v][j] = 1\n",
    "\n",
    "    for d1 in range(1,n-i):\n",
    "        if j+d1 <n:\n",
    "            check[i+d1][j+d1] =  1 \n",
    "    \n",
    "    for d2 in range(1,n-i):\n",
    "        if j-d2 >-1:\n",
    "       #     print(i,d2,j)\n",
    "            check[i+d2][j-d2] =  1 \n",
    "    \n",
    "    for d3 in range(1,i+1):\n",
    "        if j+d3 <n:\n",
    "            check[i-d3][j+d3] =  1 \n",
    "    \n",
    "    for d4 in range(1,i+1):\n",
    "        if j-d4 > -1:\n",
    "            check[i-d4][j-d4] =  1 \n",
    "    \n",
    "    return check\n",
    "\n",
    "def primary(n,ans,check,ch):\n",
    "\n",
    "    for i in range(n):\n",
    "        \n",
    "        for j in range(n):\n",
    "                check = [[0 for i in range(n)] for j in range(n)]\n",
    "                ans = [[0 for i in range(n)] for j in range(n)]\n",
    "                ans[i][j] = 1\n",
    "             #   print(ans)\n",
    "                check = updatecheck(check,i,j,n)\n",
    "            #    print(check)\n",
    "                nqueen (n,ans,check,ch+1)\n",
    "\n",
    "\n",
    "\n",
    "def nqueen(n,ans,check,ch):\n",
    "    if ch == n:\n",
    "        print (ans)\n",
    "    else:\n",
    "        for i in range(n):\n",
    "            for j in range(n):\n",
    "         \n",
    "                if check[i][j] == 0:\n",
    "                    ans[i][j] = 1\n",
    "                    check = updatecheck(check,i,j,n)\n",
    "                    nqueen(n,ans,check,ch+1)\n",
    "\n",
    "\n",
    "\n",
    "primary(n,ans,check,ch)\n",
    "\n",
    "\n"
   ]
  },
  {
   "cell_type": "code",
   "execution_count": 43,
   "metadata": {},
   "outputs": [
    {
     "name": "stdout",
     "output_type": "stream",
     "text": [
      "[[0, 1, 0, 0], [0, 0, 0, 1], [1, 0, 0, 0], [0, 0, 1, 0]]\n",
      "[[0, 0, 1, 0], [1, 0, 0, 0], [0, 0, 0, 1], [0, 1, 0, 0]]\n",
      "[[0, 0, 1, 0], [1, 0, 0, 0], [0, 0, 0, 1], [0, 1, 0, 0]]\n",
      "[[0, 1, 0, 0], [0, 0, 0, 1], [1, 0, 0, 0], [0, 0, 1, 0]]\n"
     ]
    }
   ],
   "source": [
    "# 3 N QUEEN PROBLEM\n",
    "\n",
    "n=4\n",
    "ans =[[0 for i in range(n)] for j in range(n)]\n",
    "ch=0\n",
    "check = [[0 for i in range(n)] for j in range(n)]\n",
    "#print(check)\n",
    "def updatecheck(check,i,j,n):\n",
    "    for s in range(n):\n",
    "        check[i][s] = 1\n",
    "    for v in range(n):\n",
    "        check[v][j] = 1\n",
    "\n",
    "    for d1 in range(1,n-i):\n",
    "        if j+d1 <n:\n",
    "            check[i+d1][j+d1] =  1 \n",
    "    \n",
    "    for d2 in range(1,n-i):\n",
    "        if j-d2 >-1:\n",
    "       #     print(i,d2,j)\n",
    "            check[i+d2][j-d2] =  1 \n",
    "    \n",
    "    for d3 in range(1,i+1):\n",
    "        if j+d3 <n:\n",
    "            check[i-d3][j+d3] =  1 \n",
    "    \n",
    "    for d4 in range(1,i+1):\n",
    "        if j-d4 > -1:\n",
    "            check[i-d4][j-d4] =  1 \n",
    "    \n",
    "    return check\n",
    "\n",
    "\n",
    "\n",
    "def nqueen(n,ans,check,ch):\n",
    "    if ch == n:\n",
    "        print(ans)\n",
    "    else:\n",
    "        for i in range(n):\n",
    "            for j in range(n):\n",
    "                if ch == 0:\n",
    "                    check = [[0 for i in range(n)] for j in range(n)]\n",
    "                    ans = [[0 for i in range(n)] for j in range(n)]\n",
    "                    ans[i][j] = 1\n",
    "                    check = updatecheck(check,i,j,n)\n",
    "                    nqueen(n,ans,check,ch+1)\n",
    "                    \n",
    "                else:\n",
    "                    if check[i][j] == 0:\n",
    "                        ans[i][j] = 1\n",
    "                        check = updatecheck(check,i,j,n)\n",
    "                        nqueen(n,ans,check,ch+1)\n",
    "                        \n",
    "\n",
    "\n",
    "nqueen(n,ans,check,ch)\n",
    "\n"
   ]
  },
  {
   "cell_type": "code",
   "execution_count": 92,
   "metadata": {},
   "outputs": [
    {
     "data": {
      "text/plain": [
       "[[0, 1, 0, 0], [0, 0, 0, 1], [1, 0, 0, 0], [0, 0, 1, 0]]"
      ]
     },
     "execution_count": 92,
     "metadata": {},
     "output_type": "execute_result"
    }
   ],
   "source": [
    "# 3 N QUEEN PROBLEM\n",
    "\n",
    "n=4\n",
    "ans =[[0 for i in range(n)] for j in range(n)]\n",
    "ch=0\n",
    "check = [[0 for i in range(n)] for j in range(n)]\n",
    "#print(check)\n",
    "def updatecheck(check,i,j,n, hw):\n",
    "    for s in range(n):\n",
    "        check[i][s] += hw\n",
    "    for v in range(n):\n",
    "        if v != i:\n",
    "            check[v][j] += hw\n",
    "\n",
    "    for d1 in range(1,n-i):\n",
    "        if j+d1 <n:\n",
    "            check[i+d1][j+d1] +=  hw \n",
    "    \n",
    "    for d2 in range(1,n-i):\n",
    "        if j-d2 >-1:\n",
    "       #     print(i,d2,j)\n",
    "            check[i+d2][j-d2] +=  hw \n",
    "    \n",
    "    for d3 in range(1,i+1):\n",
    "        if j+d3 <n:\n",
    "            check[i-d3][j+d3] +=  hw \n",
    "    \n",
    "    for d4 in range(1,i+1):\n",
    "        if j-d4 > -1:\n",
    "            check[i-d4][j-d4] +=  hw \n",
    "    \n",
    "    return check\n",
    "\n",
    "\n",
    "\n",
    "def nqueen(n,ans,check,ch):\n",
    " #   print(ans)\n",
    "    if ch == n:\n",
    "        return True\n",
    "    else:\n",
    "        for i in range(n):\n",
    "            for j in range(n):\n",
    "                if check[i][j] == 0:\n",
    "                    ans[i][j] = 1\n",
    "                    check = updatecheck(check,i,j,n,1)\n",
    "                    if nqueen(n,ans,check,ch+1):\n",
    "                        return ans\n",
    "                    else:\n",
    "                        ans[i][j] = 0 # back tracking  this gives only one first solution\n",
    "                        check = updatecheck(check,i,j,n,-1)\n",
    "          #              return False\n",
    "        else:\n",
    "            return False\n",
    "\n",
    "\n",
    "                        \n",
    "\n",
    "\n",
    "nqueen(n,ans,check,ch)\n",
    "\n"
   ]
  },
  {
   "cell_type": "code",
   "execution_count": null,
   "metadata": {},
   "outputs": [],
   "source": []
  },
  {
   "cell_type": "code",
   "execution_count": 62,
   "metadata": {},
   "outputs": [],
   "source": [
    "# 4 Sudoku problem"
   ]
  },
  {
   "cell_type": "code",
   "execution_count": 84,
   "metadata": {},
   "outputs": [],
   "source": [
    "def allowed(prob,i,j,k,n):\n",
    "\n",
    "    hs = int(n**.5) \n",
    "\n",
    "    for s in range(n):\n",
    "        if prob[i][s] == k:\n",
    "            return False\n",
    "    for v in range(n):\n",
    "        if prob[v][j] == k:\n",
    "            return False\n",
    "        \n",
    "    q1= i // hs + 1\n",
    "    q2 = j// hs + 1\n",
    "\n",
    "    for t in range(1,hs ):\n",
    "        for u in range(1,hs ):\n",
    "            if prob[q1+t][q2+u] == k:\n",
    "                return False\n",
    "    return True\n",
    "\n",
    "def solved(prob):\n",
    "    for i in range(len(prob)):\n",
    "        for j in range(len(prob)):\n",
    "            if prob[i][j] == 0:\n",
    "                return False\n",
    "            \n",
    "    return True\n",
    "\n",
    "\n",
    "\n",
    "\n",
    "\n",
    "def sudoku(prob,n):\n",
    "    if solved(prob):\n",
    "        return True\n",
    "    else:\n",
    "\n",
    "        for i in range(n):\n",
    "            for j in range(n):\n",
    "                if prob[i][j] == 0:\n",
    "                    for k in range(1,n+1):\n",
    "                        if allowed(prob,i,j,k,n):\n",
    "                           # print(prob)\n",
    "                            prob[i][j] = k\n",
    "                            if sudoku(prob,n):\n",
    "                                return prob\n",
    "                            else:\n",
    "                                prob[i][j] = 0\n",
    "\n",
    "        \n",
    "\n",
    "\n",
    "\n"
   ]
  },
  {
   "cell_type": "code",
   "execution_count": 85,
   "metadata": {},
   "outputs": [
    {
     "data": {
      "text/plain": [
       "[[1, 2, 3, 4], [4, 3, 2, 1], [3, 1, 4, 2], [2, 4, 1, 3]]"
      ]
     },
     "execution_count": 85,
     "metadata": {},
     "output_type": "execute_result"
    }
   ],
   "source": [
    "problem = [[1,0,3,0],[0,0,2,1],[0,1,0,2],[2,4,0,0]]\n",
    "n  = len(problem)\n",
    "sudoku(problem,n)"
   ]
  },
  {
   "cell_type": "code",
   "execution_count": 115,
   "metadata": {},
   "outputs": [],
   "source": [
    "\n",
    "class Solution:\n",
    "    \n",
    "    #Function to find a solved Sudoku. \n",
    "    def SolveSudoku(self,prob):\n",
    "        \n",
    "        \n",
    "        def solve(prob,n,row,col):\n",
    "            \n",
    "            if row == n-1 and col == n:\n",
    "                return True\n",
    "                \n",
    "            if col == n:\n",
    "                col = 0\n",
    "                row = row +1\n",
    "                \n",
    "            if prob[row][col] != 0:\n",
    "                return solve(prob,n,row,col+1)\n",
    "\n",
    "            for k in range(1,n+1):\n",
    "                if self.allowed(prob,row,col,k,n):\n",
    "                   # print(prob)\n",
    "                    prob[row][col] = k\n",
    "                    if solve(prob,n,row,col+1):\n",
    "                        return True\n",
    "                    else:\n",
    "                        prob[row][col] = 0        \n",
    "            else:\n",
    "                return False\n",
    "        \n",
    "        row =0 \n",
    "        col =0\n",
    "        n = len(prob)\n",
    "        return solve(prob,n,row,col)\n",
    "\n",
    "        \n",
    "    #Function to print grids of the Sudoku.    \n",
    "    def printGrid(self,arr):\n",
    "        for i in range(len(arr)):\n",
    "            for j in range(len(arr)):\n",
    "                print(arr[i][j],end=\" \")\n",
    "        \n",
    "        # Your code here\n",
    "    def allowed(self,prob,i,j,k,n):\n",
    "    \n",
    "        hs = int(n**.5) \n",
    "    \n",
    "        for s in range(n):\n",
    "            if prob[i][s] == k:\n",
    "                return False\n",
    "        for v in range(n):\n",
    "            if prob[v][j] == k:\n",
    "                return False\n",
    "            \n",
    "        startRow = i - i % hs\n",
    "        startCol = j - j % hs\n",
    "        for z in range(hs):\n",
    "            for y in range(hs):\n",
    "                if prob[z + startRow][y + startCol] == k:\n",
    "                    return False\n",
    "        return True"
   ]
  },
  {
   "cell_type": "code",
   "execution_count": 117,
   "metadata": {},
   "outputs": [
    {
     "name": "stdout",
     "output_type": "stream",
     "text": [
      "3 1 6 5 7 8 4 9 2 5 2 9 1 3 4 7 6 8 4 8 7 6 2 9 5 3 1 2 6 3 4 1 5 9 8 7 9 7 4 8 6 3 1 2 5 8 5 1 7 9 2 6 4 3 1 3 8 9 4 7 2 5 6 6 9 2 3 5 1 8 7 4 7 4 5 2 8 6 3 1 9 "
     ]
    }
   ],
   "source": [
    "problem = [[3, 0, 6, 5, 0, 8, 4, 0, 0],[5, 2, 0, 0, 0, 0, 0, 0, 0],[0, 8 ,7, 0, 0, 0, 0, 3, 1 ],[0, 0, 3, 0, 1, 0, 0, 8, 0],[9, 0, 0, 8, 6, 3, 0, 0, 5],[0, 5, 0, 0, 9, 0, 6, 0, 0],[1, 3, 0, 0, 0, 0, 2, 5, 0],[0, 0, 0, 0, 0, 0, 0, 7, 4],[0, 0, 5, 2, 0, 6, 3, 0, 0]]\n",
    "problem1 = [[1,0,3,0],[0,0,2,1],[0,1,0,2],[2,4,0,0]]\n",
    "\n",
    "\n",
    "s = Solution()\n",
    "if s.SolveSudoku(problem) == True:\n",
    "    s.printGrid(problem)\n",
    "else:\n",
    "    print(\" No solution\")"
   ]
  },
  {
   "cell_type": "code",
   "execution_count": null,
   "metadata": {},
   "outputs": [],
   "source": []
  },
  {
   "cell_type": "code",
   "execution_count": null,
   "metadata": {},
   "outputs": [],
   "source": []
  },
  {
   "cell_type": "code",
   "execution_count": null,
   "metadata": {},
   "outputs": [],
   "source": []
  },
  {
   "cell_type": "code",
   "execution_count": null,
   "metadata": {},
   "outputs": [],
   "source": []
  },
  {
   "cell_type": "code",
   "execution_count": null,
   "metadata": {},
   "outputs": [],
   "source": []
  },
  {
   "cell_type": "code",
   "execution_count": null,
   "metadata": {},
   "outputs": [],
   "source": []
  },
  {
   "cell_type": "markdown",
   "metadata": {},
   "source": [
    "![Alt text](image-254.png)"
   ]
  },
  {
   "cell_type": "code",
   "execution_count": 27,
   "metadata": {},
   "outputs": [
    {
     "data": {
      "text/plain": [
       "'7654321'"
      ]
     },
     "execution_count": 27,
     "metadata": {},
     "output_type": "execute_result"
    }
   ],
   "source": [
    "def findMaximumNum(s,k):\n",
    "    def findMax(s,k,n,max_s):\n",
    "        if n > k:\n",
    "         #   print(int(\"\".join(s)))\n",
    "            max_s = max(int(\"\".join(s)),max_s)\n",
    "            return max_s\n",
    "        else:\n",
    "            for i in range(n,len(s)-1):\n",
    "               # max_s = findMax(s,k,n+1,max_s)\n",
    "            \n",
    "                s[n] , s[i+1] = s[i+1],s[n]\n",
    "               # print(s)\n",
    "                max_s = max(findMax(s,k,n+1,max_s),max_s)\n",
    "               # print(max_s)\n",
    "                s[n] , s[i+1] = s[i+1],s[n]\n",
    "            return max_s\n",
    "\n",
    "    \n",
    "    sl = [i for i in s]\n",
    "    max_s = int(\"\".join(s))\n",
    "    return str(findMax(sl,k,0,max_s))\n",
    "    \n",
    "findMaximumNum('4551711527',3)"
   ]
  },
  {
   "cell_type": "code",
   "execution_count": null,
   "metadata": {},
   "outputs": [],
   "source": []
  },
  {
   "cell_type": "code",
   "execution_count": 28,
   "metadata": {},
   "outputs": [],
   "source": [
    "# Chess"
   ]
  },
  {
   "cell_type": "code",
   "execution_count": 75,
   "metadata": {},
   "outputs": [],
   "source": [
    "def numOfWays(M, N):\n",
    "    \n",
    "    chess = [[0 for i in range(M)] for j in range(N)]\n",
    "    \n",
    "    moves = [(1,2),(1,-2),(-1,2),(-1,-2),(2,1),(2,-1),(-2,1),(-2,-1)]\n",
    "    \n",
    "    def updatewhite(chess,N,M,i,j,moves):\n",
    "        for s,v in moves:\n",
    "            if ((i+s) < N) and ((j+v) < M) and ((i+s) > -1) and ((j+v) > -1):\n",
    "             #   print(i+s,i+v)\n",
    "                chess[i+s][j+v] = 2\n",
    "\n",
    "      #  print(chess)\n",
    "    def validblack(chess,N,M,i,j,moves):\n",
    "        for s,v in moves:\n",
    "            if ((i+s) < N) and ((j+v) < M) and ((i+s) > -1 )and ((j+v) > -1) and (chess[i+s][j+v] == 1):\n",
    "                return False\n",
    "        else:\n",
    "            return True\n",
    "        \n",
    "\n",
    "            \n",
    "    def findblackmoves(chess,N,M,moves,count):\n",
    "        for i in range(N):\n",
    "            for j in range(M):\n",
    "                if chess[i][j] == 0 and validblack(chess,N,M,i,j,moves):\n",
    "                    count = count + 1\n",
    "                    \n",
    "        return count\n",
    "                    \n",
    "    count = 0\n",
    "    \n",
    "    for i in range(N):\n",
    "        for j in range(M):\n",
    "            chess[i][j] = 1\n",
    "            updatewhite(chess,N,M,i,j,moves)\n",
    "            count =   findblackmoves(chess,N,M,moves,count)\n",
    "            chess = [[0 for z in range(M)] for y in range(N)]\n",
    "    return count % (1000000007)"
   ]
  },
  {
   "cell_type": "code",
   "execution_count": 77,
   "metadata": {},
   "outputs": [
    {
     "data": {
      "text/plain": [
       "254"
      ]
     },
     "execution_count": 77,
     "metadata": {},
     "output_type": "execute_result"
    }
   ],
   "source": [
    "numOfWays(6, 3)"
   ]
  },
  {
   "cell_type": "code",
   "execution_count": null,
   "metadata": {},
   "outputs": [],
   "source": [
    "# Optimized"
   ]
  },
  {
   "cell_type": "code",
   "execution_count": 80,
   "metadata": {},
   "outputs": [],
   "source": [
    "def numOfWays(M, N):\n",
    "    \n",
    "    chess = [[0 for i in range(M)] for j in range(N)]\n",
    "    \n",
    "    moves = [(1,2),(1,-2),(-1,2),(-1,-2),(2,1),(2,-1),(-2,1),(-2,-1)]\n",
    "    \n",
    "    def updatewhite(chess,N,M,i,j,moves):\n",
    "        count_white = 1\n",
    "        for s,v in moves:\n",
    "            if ((i+s) < N) and ((j+v) < M) and ((i+s) > -1) and ((j+v) > -1):\n",
    "             #   print(i+s,i+v)\n",
    "                count_white +=  1\n",
    "\n",
    "        return count_white\n",
    "\n",
    "      #  print(chess)\n",
    "    # def validblack(chess,N,M,i,j,moves):\n",
    "    #     for s,v in moves:\n",
    "    #         if ((i+s) < N) and ((j+v) < M) and ((i+s) > -1 )and ((j+v) > -1) and (chess[i+s][j+v] == 1):\n",
    "    #             return False\n",
    "    #     else:\n",
    "    #         return True\n",
    "        \n",
    "\n",
    "            \n",
    "    # def findblackmoves(chess,N,M,moves,count):\n",
    "    #     for i in range(N):\n",
    "    #         for j in range(M):\n",
    "    #             if chess[i][j] == 0 :#and validblack(chess,N,M,i,j,moves):\n",
    "    #                 count = count + 1\n",
    "                    \n",
    "    #     return count\n",
    "                    \n",
    "    count = 0\n",
    "    total_count = N*M\n",
    "    \n",
    "    for i in range(N):\n",
    "        for j in range(M):\n",
    "        #    chess[i][j] = 1\n",
    "            count_white = updatewhite(chess,N,M,i,j,moves)\n",
    "            count +=  N*M - count_white\n",
    "          #  chess = [[0 for z in range(M)] for y in range(N)]\n",
    "    return count % (1000000007)"
   ]
  },
  {
   "cell_type": "code",
   "execution_count": 82,
   "metadata": {},
   "outputs": [
    {
     "data": {
      "text/plain": [
       "1100"
      ]
     },
     "execution_count": 82,
     "metadata": {},
     "output_type": "execute_result"
    }
   ],
   "source": [
    "numOfWays(6, 6)"
   ]
  },
  {
   "cell_type": "code",
   "execution_count": null,
   "metadata": {},
   "outputs": [],
   "source": []
  }
 ],
 "metadata": {
  "kernelspec": {
   "display_name": "Python 3",
   "language": "python",
   "name": "python3"
  },
  "language_info": {
   "codemirror_mode": {
    "name": "ipython",
    "version": 3
   },
   "file_extension": ".py",
   "mimetype": "text/x-python",
   "name": "python",
   "nbconvert_exporter": "python",
   "pygments_lexer": "ipython3",
   "version": "3.11.3"
  },
  "orig_nbformat": 4
 },
 "nbformat": 4,
 "nbformat_minor": 2
}
