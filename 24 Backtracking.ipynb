{
 "cells": [
  {
   "cell_type": "code",
   "execution_count": 18,
   "metadata": {},
   "outputs": [
    {
     "name": "stdout",
     "output_type": "stream",
     "text": [
      " ABC\n",
      " AB\n",
      " AC\n",
      " A\n",
      " BC\n",
      " B\n",
      " C\n",
      " \n"
     ]
    }
   ],
   "source": [
    "\n",
    "\n",
    "def substring(str,ind,k):\n",
    "    if k == 3 :\n",
    "        print(ind)\n",
    "\n",
    "    else:\n",
    "        substring(str,ind+str[k],k+1)\n",
    "        substring(str,ind,k+1)\n",
    "\n",
    "substring(\"ABC\",\" \",0)\n"
   ]
  },
  {
   "cell_type": "markdown",
   "metadata": {},
   "source": []
  },
  {
   "cell_type": "code",
   "execution_count": null,
   "metadata": {},
   "outputs": [],
   "source": [
    "# # 1 CONCEPT OF BACKGRACKING\n",
    "# What is Backtracking Algorithm?\n",
    "# Backtracking is an algorithmic technique for solving problems recursively by trying to build a solution incrementally, one piece at a time, removing those solutions that fail to satisfy the constraints of the problem at any point of time (by time, here, is referred to the time elapsed till reaching any level of the search tree).\n",
    "\n",
    "# Types of Backtracking Algorithm\n",
    "# There are three types of problems in backtracking –  \n",
    "\n",
    "# Decision Problem – In this, we search for a feasible solution.\n",
    "# Optimization Problem – In this, we search for the best solution.\n",
    "# Enumeration Problem – In this, we find all feasible solutions."
   ]
  },
  {
   "cell_type": "code",
   "execution_count": 31,
   "metadata": {},
   "outputs": [
    {
     "name": "stdout",
     "output_type": "stream",
     "text": [
      " ACBD\n",
      " ACDB\n",
      " ADBC\n",
      " ADCB\n",
      " BACD\n",
      " BADC\n",
      " BCAD\n",
      " BCDA\n",
      " BDAC\n",
      " BDCA\n",
      " CADB\n",
      " CBAD\n",
      " CBDA\n",
      " CDBA\n",
      " DACB\n",
      " DBAC\n",
      " DBCA\n",
      " DCBA\n"
     ]
    }
   ],
   "source": [
    "# string = \"ABC\"\n",
    "\n",
    "# print which does not conatin \"AB\" as a substring\n",
    "# ACB,BAC,BCA,CBA\n",
    "def permute(str,ind,k):\n",
    "    if len(ind)> 1 and ind[-1] == 'B' and ind[-2] == 'A':\n",
    "         return\n",
    "    elif k == 0:\n",
    "         print(ind)\n",
    "       \n",
    "    else:\n",
    "        for i in range(0,len(str)):\n",
    "                permute(str[:i]+str[i+1:],ind+str[i],k-1)\n",
    "        \n",
    "permute(\"ABCD\",\" \",4)"
   ]
  },
  {
   "cell_type": "code",
   "execution_count": null,
   "metadata": {},
   "outputs": [],
   "source": []
  },
  {
   "cell_type": "code",
   "execution_count": null,
   "metadata": {},
   "outputs": [],
   "source": [
    "# # 2 Rate in a maze\n",
    "# Let us discuss Rat in a Maze as another example problem that can be solved using Backtracking.\n",
    "\n",
    "# A Maze is given as N*N binary matrix of blocks where source block is the upper left most block i.e., maze[0][0] and destination block is lower rightmost block i.e., maze[N-1][N-1]. A rat starts from source and has to reach the destination. The rat can move only in two directions: forward and down. \n",
    "\n",
    "# In the maze matrix, 0 means the block is a dead end and 1 means the block can be used in the path from source to destination. Note that this is a simple version of the typical Maze problem. For example, a more complex version can be that the rat can move in 4 directions and a more complex version can be with a limited number of moves.\n",
    "\n"
   ]
  },
  {
   "cell_type": "code",
   "execution_count": null,
   "metadata": {},
   "outputs": [],
   "source": [
    "# Algorithm:  \n",
    "\n",
    "# Create a solution matrix, initially filled with 0’s.\n",
    "# Create a recursive function, which takes initial matrix, output matrix and position of rat (i, j).\n",
    "# if the position is out of the matrix or the position is not valid then return.\n",
    "# Mark the position output[i][j] as 1 and check if the current position is destination or not. If destination is reached print the output matrix and return.\n",
    "# Recursively call for position (i+1, j) and (i, j+1).\n",
    "# Unmark position (i, j), i.e output[i][j] = 0."
   ]
  },
  {
   "cell_type": "code",
   "execution_count": 61,
   "metadata": {},
   "outputs": [
    {
     "data": {
      "text/plain": [
       "[[1, 0, 0, 0], [1, 1, 0, 0], [0, 1, 0, 0], [0, 1, 1, 1]]"
      ]
     },
     "execution_count": 61,
     "metadata": {},
     "output_type": "execute_result"
    }
   ],
   "source": [
    "\n",
    "maze = [[1,0,0,0],[1,1,0,1],[0,1,0,0],[1,1,1,1]]\n",
    "x = 0\n",
    "y = 0\n",
    "ans = [[0 for i in range(len(maze))] for j in range(len(maze))]\n",
    "xy =[(1,0),(0,1)]\n",
    "\n",
    "def pathmaze(xy,maze,ans,x,y):\n",
    "    if x>=len(maze) or y >=len(maze):\n",
    "        return False\n",
    "    elif maze[x][y] == 0:\n",
    "        return False\n",
    "\n",
    "    elif (x == len(maze)-1) and (y == len(maze)-1):\n",
    "        ans[x][y] = 1\n",
    "  #      print (ans)\n",
    "        return ans\n",
    "    else:\n",
    "        ans[x][y] = 1\n",
    "        for i in range(len(xy)):\n",
    "            x = x +  xy[i][0]\n",
    "            y = y + xy[i][1]\n",
    "            if pathmaze(xy,maze,ans,x,y):\n",
    "                return ans\n",
    "            else: ## THis is back track # alternate check below..backtacking means removing the value if it does not satisfy\n",
    "                x = x -  xy[i][0]\n",
    "                y = y - xy[i][1]\n",
    "               \n",
    "\n",
    "\n",
    "\n",
    "pathmaze(xy,maze,ans,x,y)\n",
    "\n"
   ]
  },
  {
   "cell_type": "code",
   "execution_count": null,
   "metadata": {},
   "outputs": [],
   "source": [
    "# maze = [[1,0,0,0],[1,1,0,1],[0,1,0,0],[1,1,1,1]]\n",
    "# x = 0\n",
    "# y = 0\n",
    "# ans = [[0 for i in range(len(maze))] for j in range(len(maze))]\n",
    "# xy =[(1,0),(0,1)]\n",
    "\n",
    "# def pathmaze(xy,maze,ans,x,y):\n",
    "#     if x>=len(maze) or y >=len(maze):\n",
    "#         return\n",
    "#     elif maze[x][y] == 0:\n",
    "#         return\n",
    "\n",
    "#     elif (x == len(maze)-1) and (y == len(maze)-1):\n",
    "#         ans[x][y] = 1\n",
    "#         print (ans)\n",
    "#     else:\n",
    "#         ans[x][y] = 1\n",
    "#         for i in range(len(xy)):\n",
    "#             print(ans)\n",
    "#             pathmaze(xy,maze,ans,x+xy[i][0],y+xy[i][1])\n",
    "\n",
    "\n",
    "\n",
    "# pathmaze(xy,maze,ans,x,y)"
   ]
  },
  {
   "cell_type": "code",
   "execution_count": 20,
   "metadata": {},
   "outputs": [
    {
     "name": "stdout",
     "output_type": "stream",
     "text": [
      "[[0, 1, 0, 0], [0, 0, 0, 1], [1, 0, 0, 0], [0, 0, 1, 0]]\n",
      "[[0, 0, 1, 0], [1, 0, 0, 0], [0, 0, 0, 1], [0, 1, 0, 0]]\n",
      "[[0, 0, 1, 0], [1, 0, 0, 0], [0, 0, 0, 1], [0, 1, 0, 0]]\n",
      "[[0, 1, 0, 0], [0, 0, 0, 1], [1, 0, 0, 0], [0, 0, 1, 0]]\n"
     ]
    }
   ],
   "source": [
    "# 3 N QUEEN PROBLEM\n",
    "\n",
    "n=4\n",
    "ans =[[0 for i in range(n)] for j in range(n)]\n",
    "ch=0\n",
    "check = [[0 for i in range(n)] for j in range(n)]\n",
    "#print(check)\n",
    "def updatecheck(check,i,j,n):\n",
    "    for s in range(n):\n",
    "        check[i][s] = 1\n",
    "    for v in range(n):\n",
    "        check[v][j] = 1\n",
    "\n",
    "    for d1 in range(1,n-i):\n",
    "        if j+d1 <n:\n",
    "            check[i+d1][j+d1] =  1 \n",
    "    \n",
    "    for d2 in range(1,n-i):\n",
    "        if j-d2 >-1:\n",
    "       #     print(i,d2,j)\n",
    "            check[i+d2][j-d2] =  1 \n",
    "    \n",
    "    for d3 in range(1,i+1):\n",
    "        if j+d3 <n:\n",
    "            check[i-d3][j+d3] =  1 \n",
    "    \n",
    "    for d4 in range(1,i+1):\n",
    "        if j-d4 > -1:\n",
    "            check[i-d4][j-d4] =  1 \n",
    "    \n",
    "    return check\n",
    "\n",
    "def primary(n,ans,check,ch):\n",
    "\n",
    "    for i in range(n):\n",
    "        \n",
    "        for j in range(n):\n",
    "                check = [[0 for i in range(n)] for j in range(n)]\n",
    "                ans = [[0 for i in range(n)] for j in range(n)]\n",
    "                ans[i][j] = 1\n",
    "             #   print(ans)\n",
    "                check = updatecheck(check,i,j,n)\n",
    "            #    print(check)\n",
    "                nqueen (n,ans,check,ch+1)\n",
    "\n",
    "\n",
    "\n",
    "def nqueen(n,ans,check,ch):\n",
    "    if ch == n:\n",
    "        print (ans)\n",
    "    else:\n",
    "        for i in range(n):\n",
    "            for j in range(n):\n",
    "         \n",
    "                if check[i][j] == 0:\n",
    "                    ans[i][j] = 1\n",
    "                    check = updatecheck(check,i,j,n)\n",
    "                    nqueen(n,ans,check,ch+1)\n",
    "\n",
    "\n",
    "\n",
    "primary(n,ans,check,ch)\n",
    "\n",
    "\n"
   ]
  },
  {
   "cell_type": "code",
   "execution_count": 43,
   "metadata": {},
   "outputs": [
    {
     "name": "stdout",
     "output_type": "stream",
     "text": [
      "[[0, 1, 0, 0], [0, 0, 0, 1], [1, 0, 0, 0], [0, 0, 1, 0]]\n",
      "[[0, 0, 1, 0], [1, 0, 0, 0], [0, 0, 0, 1], [0, 1, 0, 0]]\n",
      "[[0, 0, 1, 0], [1, 0, 0, 0], [0, 0, 0, 1], [0, 1, 0, 0]]\n",
      "[[0, 1, 0, 0], [0, 0, 0, 1], [1, 0, 0, 0], [0, 0, 1, 0]]\n"
     ]
    }
   ],
   "source": [
    "# 3 N QUEEN PROBLEM\n",
    "\n",
    "n=4\n",
    "ans =[[0 for i in range(n)] for j in range(n)]\n",
    "ch=0\n",
    "check = [[0 for i in range(n)] for j in range(n)]\n",
    "#print(check)\n",
    "def updatecheck(check,i,j,n):\n",
    "    for s in range(n):\n",
    "        check[i][s] = 1\n",
    "    for v in range(n):\n",
    "        check[v][j] = 1\n",
    "\n",
    "    for d1 in range(1,n-i):\n",
    "        if j+d1 <n:\n",
    "            check[i+d1][j+d1] =  1 \n",
    "    \n",
    "    for d2 in range(1,n-i):\n",
    "        if j-d2 >-1:\n",
    "       #     print(i,d2,j)\n",
    "            check[i+d2][j-d2] =  1 \n",
    "    \n",
    "    for d3 in range(1,i+1):\n",
    "        if j+d3 <n:\n",
    "            check[i-d3][j+d3] =  1 \n",
    "    \n",
    "    for d4 in range(1,i+1):\n",
    "        if j-d4 > -1:\n",
    "            check[i-d4][j-d4] =  1 \n",
    "    \n",
    "    return check\n",
    "\n",
    "\n",
    "\n",
    "def nqueen(n,ans,check,ch):\n",
    "    if ch == n:\n",
    "        print(ans)\n",
    "    else:\n",
    "        for i in range(n):\n",
    "            for j in range(n):\n",
    "                if ch == 0:\n",
    "                    check = [[0 for i in range(n)] for j in range(n)]\n",
    "                    ans = [[0 for i in range(n)] for j in range(n)]\n",
    "                    ans[i][j] = 1\n",
    "                    check = updatecheck(check,i,j,n)\n",
    "                    nqueen(n,ans,check,ch+1)\n",
    "                    \n",
    "                else:\n",
    "                    if check[i][j] == 0:\n",
    "                        ans[i][j] = 1\n",
    "                        check = updatecheck(check,i,j,n)\n",
    "                        nqueen(n,ans,check,ch+1)\n",
    "                        \n",
    "\n",
    "\n",
    "nqueen(n,ans,check,ch)\n",
    "\n"
   ]
  },
  {
   "cell_type": "code",
   "execution_count": 56,
   "metadata": {},
   "outputs": [
    {
     "data": {
      "text/plain": [
       "[[0, 1, 0, 0], [0, 0, 0, 1], [1, 0, 0, 0], [0, 0, 1, 0]]"
      ]
     },
     "execution_count": 56,
     "metadata": {},
     "output_type": "execute_result"
    }
   ],
   "source": [
    "# 3 N QUEEN PROBLEM\n",
    "\n",
    "n=4\n",
    "ans =[[0 for i in range(n)] for j in range(n)]\n",
    "ch=0\n",
    "check = [[0 for i in range(n)] for j in range(n)]\n",
    "#print(check)\n",
    "def updatecheck(check,i,j,n, hw):\n",
    "    for s in range(n):\n",
    "        check[i][s] += hw\n",
    "    for v in range(n):\n",
    "        if v != i:\n",
    "            check[v][j] += hw\n",
    "\n",
    "    for d1 in range(1,n-i):\n",
    "        if j+d1 <n:\n",
    "            check[i+d1][j+d1] +=  hw \n",
    "    \n",
    "    for d2 in range(1,n-i):\n",
    "        if j-d2 >-1:\n",
    "       #     print(i,d2,j)\n",
    "            check[i+d2][j-d2] +=  hw \n",
    "    \n",
    "    for d3 in range(1,i+1):\n",
    "        if j+d3 <n:\n",
    "            check[i-d3][j+d3] +=  hw \n",
    "    \n",
    "    for d4 in range(1,i+1):\n",
    "        if j-d4 > -1:\n",
    "            check[i-d4][j-d4] +=  hw \n",
    "    \n",
    "    return check\n",
    "\n",
    "\n",
    "\n",
    "def nqueen(n,ans,check,ch):\n",
    " #   print(ans)\n",
    "    if ch == n:\n",
    "        return True\n",
    "    else:\n",
    "        for i in range(n):\n",
    "            for j in range(n):\n",
    "                if check[i][j] == 0:\n",
    "                    ans[i][j] = 1\n",
    "                    check = updatecheck(check,i,j,n,1)\n",
    "                    if nqueen(n,ans,check,ch+1):\n",
    "                        return ans\n",
    "                    else:\n",
    "                        ans[i][j] = 0 # back tracking  this gives only one first solution\n",
    "                        check = updatecheck(check,i,j,n,-1)\n",
    "          #              return False\n",
    "                # else:\n",
    "                #     return False\n",
    "\n",
    "\n",
    "                        \n",
    "\n",
    "\n",
    "nqueen(n,ans,check,ch)\n",
    "\n"
   ]
  },
  {
   "cell_type": "code",
   "execution_count": null,
   "metadata": {},
   "outputs": [],
   "source": []
  },
  {
   "cell_type": "code",
   "execution_count": null,
   "metadata": {},
   "outputs": [],
   "source": []
  }
 ],
 "metadata": {
  "kernelspec": {
   "display_name": "Python 3",
   "language": "python",
   "name": "python3"
  },
  "language_info": {
   "codemirror_mode": {
    "name": "ipython",
    "version": 3
   },
   "file_extension": ".py",
   "mimetype": "text/x-python",
   "name": "python",
   "nbconvert_exporter": "python",
   "pygments_lexer": "ipython3",
   "version": "3.11.3"
  },
  "orig_nbformat": 4
 },
 "nbformat": 4,
 "nbformat_minor": 2
}
