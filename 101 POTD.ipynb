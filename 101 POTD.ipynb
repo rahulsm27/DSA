{
 "cells": [
  {
   "cell_type": "code",
   "execution_count": 51,
   "metadata": {},
   "outputs": [],
   "source": [
    "class Solution:\n",
    "    def knapSack(self, N, W, val, wt):\n",
    "        \n",
    "        Wt_n = []\n",
    "        Total_w = 0\n",
    "        for i in range(len(wt)):\n",
    "            j = W//wt[i]\n",
    "            Wt_n.append(j)\n",
    "            Total_w += wt[i]*j\n",
    "\n",
    "        prof = 0\n",
    "        max_prof = 0\n",
    "    #    print(Wt_n)\n",
    "     #   print(Total_w)\n",
    "        def maxprof(W,val,wt,Wt_n,Total_w,prof,n,max_prof):\n",
    "            print(prof)\n",
    "            if Total_w == 0:\n",
    "          #      print(max_prof,prof)\n",
    "                return max(max_prof,prof)\n",
    "            \n",
    "            if W == 0:\n",
    "         #       print(max_prof,prof)\n",
    "                return max(max_prof,prof)\n",
    "                \n",
    "            if W < 0:\n",
    "        #        print(max_prof,prof)\n",
    "                return max(max_prof,prof - val[n])\n",
    "                \n",
    "            if Total_w>0:\n",
    "                for j in range(len(Wt_n)):\n",
    "                    print(Wt_n)\n",
    "                    if Wt_n[j] >0:\n",
    "                        Wt_n[j] -= 1\n",
    "       #                 print(max_prof)\n",
    "                        return max(maxprof(W-wt[j],val,wt,Wt_n,Total_w - wt[j],prof+val[j],j,max_prof),maxprof(W,val,wt,Wt_n,Total_w-wt[j],prof,j,max_prof))\n",
    "        #                return max(prof,prof1)\n",
    "                else:\n",
    "                    return prof\n",
    "            \n",
    "        return maxprof(W,val,wt,Wt_n,Total_w,prof,0,max_prof)    \n",
    "      #  return max_prof    "
   ]
  },
  {
   "cell_type": "code",
   "execution_count": 69,
   "metadata": {},
   "outputs": [],
   "source": [
    "class Solution:\n",
    "    def knapSack(self, N, W, val, wt):\n",
    "        \n",
    "        Wt_n = []\n",
    "        Total_w = 0\n",
    "        for i in range(len(wt)):\n",
    "            j = W//wt[i]\n",
    "            Wt_n.extend([wt[i]]*j)\n",
    "            Total_w += wt[i]*j\n",
    "\n",
    "        prof = 0\n",
    "        max_prof = 0\n",
    "        def maxprof(W,val,Wt_n,Total_w,prof,max_prof):\n",
    "            print(prof)\n",
    "            if Total_w == 0:\n",
    "                return max(max_prof,prof)\n",
    "            \n",
    "            if W == 0:\n",
    "                return max(max_prof,prof)\n",
    "                \n",
    "                \n",
    "            if Total_w>0:\n",
    "                for j in range(len(Wt_n)):\n",
    "                    if (W-Wt_n[j]) >-1 :\n",
    "                        print(Wt_n)\n",
    "                        return max(maxprof(W-Wt_n[j],val,Wt_n[:j]+Wt_n[j+1:],Total_w - wt[j],prof+val[j],max_prof),maxprof(W,val,Wt_n[:j]+Wt_n[j+1:],Total_w ,prof,max_prof))\n",
    "                                   #maxprof(W,val,wt,Wt_n,Total_w-wt[j],prof,j,max_prof))\n",
    "        #                return max(prof,prof1)\n",
    "                else:\n",
    "                    return max(max_prof,prof)\n",
    "            \n",
    "        return maxprof(W,val,Wt_n,Total_w,prof,max_prof)    \n",
    "      #  return max_prof    "
   ]
  },
  {
   "cell_type": "code",
   "execution_count": 70,
   "metadata": {},
   "outputs": [
    {
     "name": "stdout",
     "output_type": "stream",
     "text": [
      "0\n",
      "[2, 1, 1, 1]\n",
      "1\n",
      "[1, 1, 1]\n",
      "2\n",
      "1\n",
      "[1, 1]\n",
      "2\n",
      "1\n",
      "[1]\n",
      "2\n",
      "1\n",
      "0\n",
      "[1, 1, 1]\n",
      "1\n",
      "[1, 1]\n",
      "2\n",
      "[1]\n",
      "3\n",
      "2\n",
      "1\n",
      "[1]\n",
      "2\n",
      "1\n",
      "0\n",
      "[1, 1]\n",
      "1\n",
      "[1]\n",
      "2\n",
      "1\n",
      "0\n",
      "[1]\n",
      "1\n",
      "0\n"
     ]
    },
    {
     "data": {
      "text/plain": [
       "3"
      ]
     },
     "execution_count": 70,
     "metadata": {},
     "output_type": "execute_result"
    }
   ],
   "source": [
    "s = Solution()\n",
    "N = 2\n",
    "W = 3\n",
    "val = [1, 1]\n",
    "wt = [2, 1]\n",
    "s.knapSack(N,W,val,wt)"
   ]
  },
  {
   "cell_type": "code",
   "execution_count": 68,
   "metadata": {},
   "outputs": [
    {
     "data": {
      "text/plain": [
       "''"
      ]
     },
     "execution_count": 68,
     "metadata": {},
     "output_type": "execute_result"
    }
   ],
   "source": [
    "s='ABC'\n",
    "s[:0]"
   ]
  },
  {
   "cell_type": "code",
   "execution_count": null,
   "metadata": {},
   "outputs": [],
   "source": []
  }
 ],
 "metadata": {
  "kernelspec": {
   "display_name": "Python 3",
   "language": "python",
   "name": "python3"
  },
  "language_info": {
   "codemirror_mode": {
    "name": "ipython",
    "version": 3
   },
   "file_extension": ".py",
   "mimetype": "text/x-python",
   "name": "python",
   "nbconvert_exporter": "python",
   "pygments_lexer": "ipython3",
   "version": "3.11.3"
  },
  "orig_nbformat": 4
 },
 "nbformat": 4,
 "nbformat_minor": 2
}
