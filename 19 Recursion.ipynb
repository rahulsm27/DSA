{
 "cells": [
  {
   "cell_type": "code",
   "execution_count": null,
   "metadata": {},
   "outputs": [],
   "source": [
    "# Back tracking and modulo"
   ]
  },
  {
   "cell_type": "code",
   "execution_count": null,
   "metadata": {},
   "outputs": [],
   "source": [
    "# 1 Rope Cutting length"
   ]
  },
  {
   "cell_type": "markdown",
   "metadata": {},
   "source": [
    "![Alt text](image-150.png)"
   ]
  },
  {
   "cell_type": "markdown",
   "metadata": {},
   "source": [
    "![Alt text](image-151.png)"
   ]
  },
  {
   "cell_type": "code",
   "execution_count": 11,
   "metadata": {},
   "outputs": [],
   "source": [
    "def ropecut(n,a,b,c):\n",
    "    if n == 0:\n",
    "        return 0\n",
    "    elif n < 0 :\n",
    "        return -float('inf')\n",
    "    else:\n",
    "        return max(1 + ropecut(n-a,a,b,c),1 + ropecut(n-b,a,b,c),1+ropecut(n-c,a,b,c))\n"
   ]
  },
  {
   "cell_type": "code",
   "execution_count": 13,
   "metadata": {},
   "outputs": [
    {
     "data": {
      "text/plain": [
       "-inf"
      ]
     },
     "execution_count": 13,
     "metadata": {},
     "output_type": "execute_result"
    }
   ],
   "source": [
    "ropecut(23,11,9,13)"
   ]
  },
  {
   "cell_type": "markdown",
   "metadata": {},
   "source": [
    "![Alt text](image-152.png)"
   ]
  },
  {
   "cell_type": "code",
   "execution_count": null,
   "metadata": {},
   "outputs": [],
   "source": []
  },
  {
   "cell_type": "code",
   "execution_count": null,
   "metadata": {},
   "outputs": [],
   "source": [
    "# 2 Subset of a given string\n",
    "# Order is maintaind ba is not valid\n",
    "# Total 2*n"
   ]
  },
  {
   "cell_type": "markdown",
   "metadata": {},
   "source": [
    "![Alt text](image-155.png)"
   ]
  },
  {
   "cell_type": "code",
   "execution_count": 2,
   "metadata": {},
   "outputs": [],
   "source": [
    "#\n",
    "\n",
    "def subset(str_inp,curr,index):\n",
    "    if index == len(str_inp):\n",
    "        print(curr,end=\" \")\n",
    "        return\n",
    "\n",
    "    subset(str_inp,curr,index+1)\n",
    "    subset(str_inp,curr+str_inp[index],index+1)\n",
    "\n"
   ]
  },
  {
   "cell_type": "code",
   "execution_count": 3,
   "metadata": {},
   "outputs": [
    {
     "name": "stdout",
     "output_type": "stream",
     "text": [
      "   C  B  BC  A  AC  AB  ABC "
     ]
    }
   ],
   "source": [
    "subset('ABC',' ',0)"
   ]
  },
  {
   "cell_type": "code",
   "execution_count": 4,
   "metadata": {},
   "outputs": [
    {
     "name": "stdout",
     "output_type": "stream",
     "text": [
      "abcd abc abd ab acd ac ad a bcd bc bd b cd c d  "
     ]
    }
   ],
   "source": [
    "# Below is the implementation of the above approach\n",
    "def printSubsequence(input, output):\n",
    "\n",
    "\t# Base Case\n",
    "\t# if the input is empty print the output string\n",
    "\tif len(input) == 0:\n",
    "\t\tprint(output, end=' ')\n",
    "\t\treturn\n",
    "\n",
    "\t# output is passed with including the\n",
    "\t# 1st character of input string\n",
    "\tprintSubsequence(input[1:], output+input[0])\n",
    "\n",
    "\t# output is passed without including the\n",
    "\t# 1st character of input string\n",
    "\tprintSubsequence(input[1:], output)\n",
    "\n",
    "\n",
    "# Driver code\n",
    "# output is set to null before passing in\n",
    "# as a parameter\n",
    "output = \"\"\n",
    "input = \"abcd\"\n",
    "\n",
    "printSubsequence(input, output)\n"
   ]
  },
  {
   "cell_type": "code",
   "execution_count": null,
   "metadata": {},
   "outputs": [],
   "source": []
  },
  {
   "cell_type": "code",
   "execution_count": null,
   "metadata": {},
   "outputs": [],
   "source": [
    "#3 Tower of Hanoi in python"
   ]
  },
  {
   "cell_type": "markdown",
   "metadata": {},
   "source": [
    "![Alt text](image-156.png)"
   ]
  },
  {
   "cell_type": "markdown",
   "metadata": {},
   "source": [
    "![Alt text](image-157.png)"
   ]
  },
  {
   "cell_type": "code",
   "execution_count": null,
   "metadata": {},
   "outputs": [],
   "source": [
    "class Solution:\n",
    "    def toh(self, N, fromm, to, aux):\n",
    "        if N == 1:\n",
    "            print (f'move disk {N} from rod {fromm} to rod {to}')\n",
    "            return 1\n",
    "        else:\n",
    "            x1 = self.toh(N-1,fromm,aux,to)\n",
    "            print (f'move disk {N} from rod {fromm} to rod {to}')\n",
    "            x2 = self.toh(N-1,aux,to,fromm)\n",
    "            return x1+1+x2\n",
    "        # Your code here"
   ]
  },
  {
   "cell_type": "code",
   "execution_count": null,
   "metadata": {},
   "outputs": [],
   "source": []
  },
  {
   "cell_type": "code",
   "execution_count": null,
   "metadata": {},
   "outputs": [],
   "source": []
  },
  {
   "cell_type": "code",
   "execution_count": null,
   "metadata": {},
   "outputs": [],
   "source": [
    "# 4 Josephus problem"
   ]
  },
  {
   "cell_type": "code",
   "execution_count": null,
   "metadata": {},
   "outputs": [],
   "source": [
    "# kill k th person..start fom 0..person is counted..next round pistol starts with after the killed person..the person is counted.."
   ]
  },
  {
   "cell_type": "markdown",
   "metadata": {},
   "source": [
    "![Alt text](image-153.png)"
   ]
  },
  {
   "cell_type": "code",
   "execution_count": 58,
   "metadata": {},
   "outputs": [],
   "source": [
    "# Josephus Problem\n",
    "\n",
    "def jose(arr,k):\n",
    "    \n",
    "    if len(arr) == 1:\n",
    "        return arr[0]\n",
    "    else:\n",
    "        arr.pop((k-1)%len(arr))\n",
    "        return jose(arr[k-1:]+arr[:k-1],k)\n",
    "\n",
    "\n"
   ]
  },
  {
   "cell_type": "code",
   "execution_count": 60,
   "metadata": {},
   "outputs": [
    {
     "data": {
      "text/plain": [
       "0"
      ]
     },
     "execution_count": 60,
     "metadata": {},
     "output_type": "execute_result"
    }
   ],
   "source": [
    "jose([0,1,2,3,4,5,6],5)"
   ]
  },
  {
   "cell_type": "markdown",
   "metadata": {},
   "source": [
    "![Alt text](image-154.png)"
   ]
  },
  {
   "cell_type": "code",
   "execution_count": null,
   "metadata": {},
   "outputs": [],
   "source": [
    "\n",
    "def josephus(n, k):\n",
    "\n",
    "\tif (n == 1):\n",
    "\t\treturn 1\n",
    "\telse:\n",
    "\n",
    "\t\t# The position returned by\n",
    "\t\t# josephus(n - 1, k) is adjusted\n",
    "\t\t# because the recursive call\n",
    "\t\t# josephus(n - 1, k) considers\n",
    "\t\t# the original position\n",
    "\t\t# k%n + 1 as position 1\n",
    "\t\treturn (josephus(n - 1, k) + k-1) % n + 1\n",
    "\n",
    "# Driver Program to test above function\n",
    "\n",
    "\n",
    "n = 14\n",
    "k = 2\n",
    "\n",
    "print(\"The chosen place is \", josephus(n, k))"
   ]
  },
  {
   "cell_type": "code",
   "execution_count": null,
   "metadata": {},
   "outputs": [],
   "source": []
  },
  {
   "cell_type": "code",
   "execution_count": null,
   "metadata": {},
   "outputs": [],
   "source": []
  },
  {
   "cell_type": "markdown",
   "metadata": {},
   "source": [
    "![Alt text](image-160.png)"
   ]
  },
  {
   "cell_type": "code",
   "execution_count": null,
   "metadata": {},
   "outputs": [],
   "source": []
  },
  {
   "cell_type": "code",
   "execution_count": null,
   "metadata": {},
   "outputs": [],
   "source": []
  },
  {
   "cell_type": "code",
   "execution_count": null,
   "metadata": {},
   "outputs": [],
   "source": [
    "# 5 SUbset sum problem"
   ]
  },
  {
   "cell_type": "markdown",
   "metadata": {},
   "source": [
    "![Alt text](image-159.png)"
   ]
  },
  {
   "cell_type": "code",
   "execution_count": null,
   "metadata": {},
   "outputs": [],
   "source": []
  },
  {
   "cell_type": "code",
   "execution_count": null,
   "metadata": {},
   "outputs": [],
   "source": []
  },
  {
   "cell_type": "code",
   "execution_count": null,
   "metadata": {},
   "outputs": [],
   "source": []
  },
  {
   "cell_type": "markdown",
   "metadata": {},
   "source": []
  },
  {
   "cell_type": "code",
   "execution_count": null,
   "metadata": {},
   "outputs": [],
   "source": [
    "# 6 Permutaion of string\n",
    "\n"
   ]
  },
  {
   "cell_type": "markdown",
   "metadata": {},
   "source": [
    "![Alt text](image-158.png)"
   ]
  },
  {
   "cell_type": "code",
   "execution_count": 7,
   "metadata": {},
   "outputs": [
    {
     "name": "stdout",
     "output_type": "stream",
     "text": [
      "ABC\n",
      "ACB\n",
      "BAC\n",
      "BCA\n",
      "CBA\n",
      "CAB\n"
     ]
    }
   ],
   "source": [
    "# Python program to print all permutations with\n",
    "# duplicates allowed\n",
    "\n",
    "def toString(List):\n",
    "\treturn ''.join(List)\n",
    "\n",
    "# Function to print permutations of string\n",
    "# This function takes three parameters:\n",
    "# 1. String\n",
    "# 2. Starting index of the string\n",
    "# 3. Ending index of the string.\n",
    "def permute(a, l, r):\n",
    "\tif l==r:\n",
    "\t\tprint (toString(a))\n",
    "\telse:\n",
    "\t\tfor i in range(l,r):\n",
    "\t\t\ta[l], a[i] = a[i], a[l]\n",
    "\t\t\tpermute(a, l+1, r)\n",
    "\t\t\ta[l], a[i] = a[i], a[l] # backtrack\n",
    "\n",
    "# Driver program to test the above function\n",
    "string = \"ABC\"\n",
    "n = len(string)\n",
    "a = list(string)\n",
    "permute(a, 0, n)"
   ]
  },
  {
   "cell_type": "code",
   "execution_count": 6,
   "metadata": {},
   "outputs": [
    {
     "name": "stdout",
     "output_type": "stream",
     "text": [
      "All possible strings are : \n",
      "abc acb bac bca cab cba "
     ]
    }
   ],
   "source": [
    "def permute(s, answer):\n",
    "\tif (len(s) == 0):\n",
    "\t\tprint(answer, end = \" \")\n",
    "\t\treturn\n",
    "\t\n",
    "\tfor i in range(len(s)):\n",
    "\t\tch = s[i]\n",
    "\t\tleft_substr = s[0:i]\n",
    "\t\tright_substr = s[i + 1:]\n",
    "\t\trest = left_substr + right_substr\n",
    "\t\tpermute(rest, answer + ch)\n",
    "\n",
    "# Driver Code\n",
    "answer = \"\"\n",
    "\n",
    "s = 'abc'\n",
    "\n",
    "print(\"All possible strings are : \")\n",
    "permute(s, answer)"
   ]
  },
  {
   "cell_type": "code",
   "execution_count": null,
   "metadata": {},
   "outputs": [],
   "source": []
  },
  {
   "cell_type": "markdown",
   "metadata": {},
   "source": [
    "![Alt text](image-161.png)"
   ]
  },
  {
   "cell_type": "markdown",
   "metadata": {},
   "source": [
    "class Solution:\n",
    "    \n",
    "    #Function to find list of all words possible by pressing given numbers.\n",
    "    def possibleWords(self,a,N):\n",
    "        #Your code here\n",
    "        \n",
    "        \n",
    "        \n",
    "        \n",
    "        \n",
    "        d = {\n",
    "            2 : 'abc',\n",
    "            3 : 'def',\n",
    "            4 : 'ghi',\n",
    "            5 : 'jkl',\n",
    "            6 : 'mno',\n",
    "            7 : 'pqrs',\n",
    "            8 : 'tuv',\n",
    "            9 : 'wxyz'\n",
    "        }\n",
    "        \n",
    "            \n",
    "            \n",
    "        def subset(a,i,ans):\n",
    "            if i == N:\n",
    "                print (ans, end=\" \")\n",
    "            else:\n",
    "                for j in list(d[a[i]]):\n",
    "                    subset(a,i+1,str(ans)+str(j))\n",
    "                    \n",
    "        ans = ''\n",
    "        subset(a,0,ans)\n",
    "        \n",
    "        return ans"
   ]
  },
  {
   "cell_type": "code",
   "execution_count": null,
   "metadata": {},
   "outputs": [],
   "source": []
  },
  {
   "cell_type": "code",
   "execution_count": null,
   "metadata": {},
   "outputs": [],
   "source": [
    "# Here we are using the concept the modular arithmetic (a * b) % M = ((a % M) * (b % M)) % M, we can take advantage of this property by breaking down the exponent R into smaller subproblems using the divide-and-conquer approach. It recursively computes power(N, R/2) to calculate the power of N raised to R/2."
   ]
  },
  {
   "cell_type": "markdown",
   "metadata": {},
   "source": [
    "![Alt text](image-162.png)"
   ]
  },
  {
   "cell_type": "markdown",
   "metadata": {},
   "source": []
  }
 ],
 "metadata": {
  "kernelspec": {
   "display_name": "Python 3",
   "language": "python",
   "name": "python3"
  },
  "language_info": {
   "codemirror_mode": {
    "name": "ipython",
    "version": 3
   },
   "file_extension": ".py",
   "mimetype": "text/x-python",
   "name": "python",
   "nbconvert_exporter": "python",
   "pygments_lexer": "ipython3",
   "version": "3.11.3"
  },
  "orig_nbformat": 4
 },
 "nbformat": 4,
 "nbformat_minor": 2
}
