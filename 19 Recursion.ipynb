{
 "cells": [
  {
   "cell_type": "code",
   "execution_count": null,
   "metadata": {},
   "outputs": [],
   "source": [
    "# Rope length"
   ]
  },
  {
   "cell_type": "markdown",
   "metadata": {},
   "source": [
    "![Alt text](image-150.png)"
   ]
  },
  {
   "cell_type": "markdown",
   "metadata": {},
   "source": [
    "![Alt text](image-151.png)"
   ]
  },
  {
   "cell_type": "code",
   "execution_count": 11,
   "metadata": {},
   "outputs": [],
   "source": [
    "def ropecut(n,a,b,c):\n",
    "    if n == 0:\n",
    "        return 0\n",
    "    elif n < 0 :\n",
    "        return -float('inf')\n",
    "    else:\n",
    "        return max(1 + ropecut(n-a,a,b,c),1 + ropecut(n-b,a,b,c),1+ropecut(n-c,a,b,c))\n"
   ]
  },
  {
   "cell_type": "code",
   "execution_count": 13,
   "metadata": {},
   "outputs": [
    {
     "data": {
      "text/plain": [
       "-inf"
      ]
     },
     "execution_count": 13,
     "metadata": {},
     "output_type": "execute_result"
    }
   ],
   "source": [
    "ropecut(23,11,9,13)"
   ]
  },
  {
   "cell_type": "markdown",
   "metadata": {},
   "source": [
    "![Alt text](image-152.png)"
   ]
  },
  {
   "cell_type": "code",
   "execution_count": null,
   "metadata": {},
   "outputs": [],
   "source": []
  },
  {
   "cell_type": "code",
   "execution_count": 19,
   "metadata": {},
   "outputs": [],
   "source": [
    "# Subset of a given string\n",
    "\n",
    "def subset(str_inp,curr,index):\n",
    "    if index == len(str_inp):\n",
    "        print(curr,end=\" \")\n",
    "        return\n",
    "\n",
    "    subset(str_inp,curr,index+1)\n",
    "    subset(str_inp,curr+str_inp[index],index+1)\n",
    "\n"
   ]
  },
  {
   "cell_type": "code",
   "execution_count": 20,
   "metadata": {},
   "outputs": [
    {
     "name": "stdout",
     "output_type": "stream",
     "text": [
      "   C  B  BC  A  AC  AB  ABC "
     ]
    }
   ],
   "source": [
    "subset('ABC',' ',0)"
   ]
  },
  {
   "cell_type": "code",
   "execution_count": null,
   "metadata": {},
   "outputs": [],
   "source": []
  },
  {
   "cell_type": "code",
   "execution_count": null,
   "metadata": {},
   "outputs": [],
   "source": []
  },
  {
   "cell_type": "code",
   "execution_count": 24,
   "metadata": {},
   "outputs": [
    {
     "name": "stdout",
     "output_type": "stream",
     "text": [
      "ABCD\n",
      "ABDD\n",
      "ACCD\n",
      "ACDD\n",
      "ADCD\n",
      "ADDD\n",
      "BBCD\n",
      "BBDD\n",
      "BCCD\n",
      "BCDD\n",
      "BDCD\n",
      "BDDD\n",
      "CBCD\n",
      "CBDD\n",
      "CCCD\n",
      "CCDD\n",
      "CDCD\n",
      "CDDD\n",
      "DBCD\n",
      "DBDD\n",
      "DCCD\n",
      "DCDD\n",
      "DDCD\n",
      "DDDD\n"
     ]
    }
   ],
   "source": [
    "# Permutaion of string\n",
    "\n",
    "def permut(string,curr,index):\n",
    "    if index == len(string):\n",
    "        print(curr)\n",
    "\n",
    "    for i in range(index,len(string)):\n",
    "\n",
    "        permut(string,curr+string[i],index+1)\n",
    "\n",
    "permut('ABCD','',0)"
   ]
  },
  {
   "cell_type": "code",
   "execution_count": null,
   "metadata": {},
   "outputs": [],
   "source": []
  },
  {
   "cell_type": "code",
   "execution_count": null,
   "metadata": {},
   "outputs": [],
   "source": []
  },
  {
   "cell_type": "code",
   "execution_count": null,
   "metadata": {},
   "outputs": [],
   "source": []
  },
  {
   "cell_type": "code",
   "execution_count": null,
   "metadata": {},
   "outputs": [],
   "source": [
    "# kill k th person..start fom 0..person is counted..next round pistol starts with after the killed person..the person is counted.."
   ]
  },
  {
   "cell_type": "markdown",
   "metadata": {},
   "source": [
    "![Alt text](image-153.png)"
   ]
  },
  {
   "cell_type": "code",
   "execution_count": 58,
   "metadata": {},
   "outputs": [],
   "source": [
    "# Josephus Problem\n",
    "\n",
    "def jose(arr,k):\n",
    "    \n",
    "    if len(arr) == 1:\n",
    "        return arr[0]\n",
    "    else:\n",
    "        arr.pop((k-1)%len(arr))\n",
    "        return jose(arr[k-1:]+arr[:k-1],k)\n",
    "\n",
    "\n"
   ]
  },
  {
   "cell_type": "code",
   "execution_count": 60,
   "metadata": {},
   "outputs": [
    {
     "data": {
      "text/plain": [
       "0"
      ]
     },
     "execution_count": 60,
     "metadata": {},
     "output_type": "execute_result"
    }
   ],
   "source": [
    "jose([0,1,2,3,4,5,6],5)"
   ]
  },
  {
   "cell_type": "markdown",
   "metadata": {},
   "source": [
    "![Alt text](image-154.png)"
   ]
  },
  {
   "cell_type": "code",
   "execution_count": null,
   "metadata": {},
   "outputs": [],
   "source": []
  }
 ],
 "metadata": {
  "kernelspec": {
   "display_name": "Python 3",
   "language": "python",
   "name": "python3"
  },
  "language_info": {
   "codemirror_mode": {
    "name": "ipython",
    "version": 3
   },
   "file_extension": ".py",
   "mimetype": "text/x-python",
   "name": "python",
   "nbconvert_exporter": "python",
   "pygments_lexer": "ipython3",
   "version": "3.11.3"
  },
  "orig_nbformat": 4
 },
 "nbformat": 4,
 "nbformat_minor": 2
}
