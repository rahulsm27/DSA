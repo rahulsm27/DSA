{
 "cells": [
  {
   "cell_type": "code",
   "execution_count": 1,
   "metadata": {},
   "outputs": [],
   "source": [
    "# # 1 Tree data structure\n",
    "\n",
    "# A tree is non-linear and a hierarchical data structure consisting of a collection of nodes such that each node of the tree stores a value and a list of references to other nodes (the “children”).\n",
    "\n",
    "# Parent Node: The node which is a predecessor of a node is called the parent node of that node. {2} is the parent node of {6, 7}.\n",
    "# Child Node: The node which is the immediate successor of a node is called the child node of that node. Examples: {6, 7} are the child nodes of {2}.\n",
    "# Root Node: The topmost node of a tree or the node which does not have any parent node is called the root node. {1} is the root node of the tree. A non-empty tree must contain exactly one root node and exactly one path from the root to all other nodes of the tree.\n",
    "# Leaf Node or External Node: The nodes which do not have any child nodes are called leaf nodes. {6, 14, 8, 9, 15, 16, 4, 11, 12, 17, 18, 19} are the leaf nodes of the tree.\n",
    "# Ancestor of a Node: Any predecessor nodes on the path of the root to that node are called Ancestors of that node. {1, 2} are the ancestor nodes of the node {7}\n",
    "# Descendant: Any successor node on the path from the leaf node to that node. {7, 14} are the descendants of the node. {2}.\n",
    "# Sibling: Children of the same parent node are called siblings. {8, 9, 10} are called siblings.\n",
    "# Level of a node: The count of edges on the path from the root node to that node. The root node has level 0.\n",
    "# Internal node: A node with at least one child is called Internal Node.\n",
    "# Neighbour of a Node: Parent or child nodes of that node are called neighbors of that node.\n",
    "# Subtree: Any node of the tree along with its descendant"
   ]
  },
  {
   "cell_type": "code",
   "execution_count": null,
   "metadata": {},
   "outputs": [],
   "source": [
    "# Types of Tree data structures\n",
    "# The different types of tree data structures are as follows:\n",
    "\n",
    "# 1. General tree\n",
    "\n",
    "# A general tree data structure has no restriction on the number of nodes. It means that a parent node can have any number of child nodes\n",
    "\n",
    "# 2. Binary tree  \n",
    "\n",
    "# A node of a binary tree can have a maximum of two child nodes. In the given tree diagram, node B, D, and F are left children, while E, C, and G are the right children.  \n",
    "\n",
    "# 3. Balanced tree\n",
    "\n",
    "# If the height of the left sub-tree and the right sub-tree is equal or differs at most by 1, the tree is known as a balanced tree.  "
   ]
  },
  {
   "cell_type": "code",
   "execution_count": null,
   "metadata": {},
   "outputs": [],
   "source": []
  },
  {
   "cell_type": "code",
   "execution_count": null,
   "metadata": {},
   "outputs": [],
   "source": [
    "# 2 Applications of Tree data structure:\n"
   ]
  },
  {
   "cell_type": "markdown",
   "metadata": {},
   "source": [
    "![Alt text](image.png)"
   ]
  },
  {
   "cell_type": "code",
   "execution_count": null,
   "metadata": {},
   "outputs": [],
   "source": [
    "# The applications of tree data structures are as follows:\n",
    "\n",
    "# 1. Spanning trees: It is the shortest path tree used in the routers to direct the packets to the destination.  \n",
    "\n",
    "# 2. Binary Search Tree: It is a type of tree data structure that helps in maintaining a sorted stream of data.  \n",
    "\n",
    "# Full Binary tree\n",
    "# Complete Binary tree\n",
    "# Skewed Binary tree\n",
    "# Strictly Binary tree\n",
    "# Extended Binary tree\n",
    "# 3. Storing hierarchical data: Tree data structures are used to store the hierarchical data, which means data is arranged in the form of order.  \n",
    "\n",
    "# 4. Syntax tree: The syntax tree represents the structure of the program’s source code, which is used in compilers.  \n",
    "\n",
    "# 5. Trie: It is a fast and efficient way for dynamic spell checking. It is also used for locating specific keys from within a set.  \n",
    "\n",
    "# 6. Heap: It is also a tree data structure that can be represented in a form of an array. It is used to implement priority queues.  "
   ]
  },
  {
   "cell_type": "code",
   "execution_count": null,
   "metadata": {},
   "outputs": [],
   "source": []
  },
  {
   "cell_type": "code",
   "execution_count": null,
   "metadata": {},
   "outputs": [],
   "source": [
    "# 3 BINARY TREE IN PYTHON\n",
    "# Linked representation of tree as shown below\n",
    "# Array representation also possible..heap data structure."
   ]
  },
  {
   "cell_type": "markdown",
   "metadata": {},
   "source": [
    "![Alt text](image-1.png)"
   ]
  },
  {
   "cell_type": "code",
   "execution_count": 2,
   "metadata": {},
   "outputs": [],
   "source": [
    "# Python program to introduce Binary Tree\n",
    "\n",
    "# A class that represents an individual node\n",
    "# in a Binary Tree\n",
    "class Node:\n",
    "\tdef __init__(self, key):\n",
    "\t\tself.left = None\n",
    "\t\tself.right = None\n",
    "\t\tself.val = key\n",
    "\n",
    "\n",
    "if __name__ == '__main__':\n",
    "\t# Create root\n",
    "\troot = Node(1)\n",
    "\t''' following is the tree after above statement\n",
    "\t\t1\n",
    "\t   / \\\n",
    "\tNone None'''\n",
    "\t\n",
    "\troot.left = Node(2)\n",
    "\troot.right = Node(3)\n",
    "\t''' 2 and 3 become left and right children of 1\n",
    "\t\t 1\n",
    "\t\t/ \\\n",
    "\t\t2\t 3\n",
    "\t   / \\ / \\\n",
    "\tNone None None None'''\n",
    "\t\n",
    "\troot.left.left = Node(4)\n",
    "\t'''4 becomes left child of 2\n",
    "\t\t  1\n",
    "\t\t/\t \\\n",
    "\t\t2\t\t 3\n",
    "\t\t/ \\\t     / \\\n",
    "\t   4 None None None\n",
    "\t  / \\\n",
    "\tNone None'''"
   ]
  },
  {
   "cell_type": "code",
   "execution_count": null,
   "metadata": {},
   "outputs": [],
   "source": []
  },
  {
   "cell_type": "code",
   "execution_count": 3,
   "metadata": {},
   "outputs": [],
   "source": [
    "#4 Tree Traversal\n",
    "# Breadth first to be discussed latter"
   ]
  },
  {
   "cell_type": "markdown",
   "metadata": {},
   "source": [
    "![Alt text](image-2.png)"
   ]
  },
  {
   "cell_type": "code",
   "execution_count": 4,
   "metadata": {},
   "outputs": [],
   "source": [
    "# 3! combination possible\n",
    "# out of this 3 combination most popular"
   ]
  },
  {
   "cell_type": "markdown",
   "metadata": {},
   "source": [
    "![Alt text](image-3.png)"
   ]
  },
  {
   "cell_type": "markdown",
   "metadata": {},
   "source": [
    "![Alt text](image-4.png)"
   ]
  },
  {
   "cell_type": "markdown",
   "metadata": {},
   "source": [
    "![Alt text](image-5.png)"
   ]
  },
  {
   "cell_type": "code",
   "execution_count": 3,
   "metadata": {},
   "outputs": [
    {
     "name": "stdout",
     "output_type": "stream",
     "text": [
      "4\n",
      "2\n",
      "5\n",
      "1\n",
      "3\n"
     ]
    }
   ],
   "source": [
    "class Node:\n",
    "\tdef __init__(self, key):\n",
    "\t\tself.left = None\n",
    "\t\tself.right = None\n",
    "\t\tself.val = key\n",
    "\n",
    "\n",
    "# A function to do inorder tree traversal\n",
    "def printInorder(root):\n",
    "\n",
    "\tif root:\n",
    "\n",
    "\t\t# First recur on left child\n",
    "\t\tprintInorder(root.left)\n",
    "\n",
    "\t\t# then print the data of node\n",
    "\t\tprint(root.val),\n",
    "\n",
    "\t\t# now recur on right child\n",
    "\t\tprintInorder(root.right)\n",
    "\n",
    "root = Node(1)\n",
    "root.left = Node(2)\n",
    "root.right = Node(3)\n",
    "root.left.left = Node(4)\n",
    "root.left.right = Node(5)\n",
    "\n",
    "\n",
    "\n",
    "printInorder(root)"
   ]
  },
  {
   "cell_type": "code",
   "execution_count": 4,
   "metadata": {},
   "outputs": [],
   "source": [
    "\n",
    "# A function to do postorder tree traversal\n",
    "def printPostorder(root):\n",
    "\n",
    "\tif root:\n",
    "\n",
    "\t\t# First recur on left child\n",
    "\t\tprintPostorder(root.left)\n",
    "\n",
    "\t\t# the recur on right child\n",
    "\t\tprintPostorder(root.right)\n",
    "\n",
    "\t\t# now print the data of node\n",
    "\t\tprint(root.val)\n",
    "\t\t\n",
    "def printPreorder(root):\n",
    "\n",
    "\tif root:\n",
    "\n",
    "\t\t# First print the data of node\n",
    "\t\tprint(root.val),\n",
    "\n",
    "\t\t# Then recur on left child\n",
    "\t\tprintPreorder(root.left)\n",
    "\n",
    "\t\t# Finally recur on right child\n",
    "\t\tprintPreorder(root.right)\n",
    "\n"
   ]
  },
  {
   "cell_type": "code",
   "execution_count": null,
   "metadata": {},
   "outputs": [],
   "source": []
  }
 ],
 "metadata": {
  "kernelspec": {
   "display_name": "Python 3",
   "language": "python",
   "name": "python3"
  },
  "language_info": {
   "codemirror_mode": {
    "name": "ipython",
    "version": 3
   },
   "file_extension": ".py",
   "mimetype": "text/x-python",
   "name": "python",
   "nbconvert_exporter": "python",
   "pygments_lexer": "ipython3",
   "version": "3.11.3"
  },
  "orig_nbformat": 4
 },
 "nbformat": 4,
 "nbformat_minor": 2
}
