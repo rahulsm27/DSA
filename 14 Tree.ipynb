{
 "cells": [
  {
   "cell_type": "code",
   "execution_count": 1,
   "metadata": {},
   "outputs": [],
   "source": [
    "# # 1 Tree data structure\n",
    "\n",
    "# A tree is non-linear and a hierarchical data structure consisting of a collection of nodes such that each node of the tree stores a value and a list of references to other nodes (the “children”).\n",
    "\n",
    "# Parent Node: The node which is a predecessor of a node is called the parent node of that node. {2} is the parent node of {6, 7}.\n",
    "# Child Node: The node which is the immediate successor of a node is called the child node of that node. Examples: {6, 7} are the child nodes of {2}.\n",
    "# Root Node: The topmost node of a tree or the node which does not have any parent node is called the root node. {1} is the root node of the tree. A non-empty tree must contain exactly one root node and exactly one path from the root to all other nodes of the tree.\n",
    "# Leaf Node or External Node: The nodes which do not have any child nodes are called leaf nodes. {6, 14, 8, 9, 15, 16, 4, 11, 12, 17, 18, 19} are the leaf nodes of the tree.\n",
    "# Ancestor of a Node: Any predecessor nodes on the path of the root to that node are called Ancestors of that node. {1, 2} are the ancestor nodes of the node {7}\n",
    "# Descendant: Any successor node on the path from the leaf node to that node. {7, 14} are the descendants of the node. {2}.\n",
    "# Sibling: Children of the same parent node are called siblings. {8, 9, 10} are called siblings.\n",
    "# Level of a node: The count of edges on the path from the root node to that node. The root node has level 0.\n",
    "# Internal node: A node with at least one child is called Internal Node.\n",
    "# Neighbour of a Node: Parent or child nodes of that node are called neighbors of that node.\n",
    "# Subtree: Any node of the tree along with its descendant"
   ]
  },
  {
   "cell_type": "code",
   "execution_count": null,
   "metadata": {},
   "outputs": [],
   "source": [
    "# Types of Tree data structures\n",
    "# The different types of tree data structures are as follows:\n",
    "\n",
    "# 1. General tree\n",
    "\n",
    "# A general tree data structure has no restriction on the number of nodes. It means that a parent node can have any number of child nodes\n",
    "\n",
    "# 2. Binary tree  \n",
    "\n",
    "# A node of a binary tree can have a maximum of two child nodes. In the given tree diagram, node B, D, and F are left children, while E, C, and G are the right children.  \n",
    "\n",
    "# 3. Balanced tree\n",
    "\n",
    "# If the height of the left sub-tree and the right sub-tree is equal or differs at most by 1, the tree is known as a balanced tree.  "
   ]
  },
  {
   "cell_type": "code",
   "execution_count": null,
   "metadata": {},
   "outputs": [],
   "source": []
  },
  {
   "cell_type": "code",
   "execution_count": null,
   "metadata": {},
   "outputs": [],
   "source": [
    "# 2 Applications of Tree data structure:\n"
   ]
  },
  {
   "cell_type": "markdown",
   "metadata": {},
   "source": [
    "![Alt text](image.png)"
   ]
  },
  {
   "cell_type": "code",
   "execution_count": null,
   "metadata": {},
   "outputs": [],
   "source": [
    "# The applications of tree data structures are as follows:\n",
    "\n",
    "# 1. Spanning trees: It is the shortest path tree used in the routers to direct the packets to the destination.  \n",
    "\n",
    "# 2. Binary Search Tree: It is a type of tree data structure that helps in maintaining a sorted stream of data.  \n",
    "\n",
    "# Full Binary tree\n",
    "# Complete Binary tree\n",
    "# Skewed Binary tree\n",
    "# Strictly Binary tree\n",
    "# Extended Binary tree\n",
    "# 3. Storing hierarchical data: Tree data structures are used to store the hierarchical data, which means data is arranged in the form of order.  \n",
    "\n",
    "# 4. Syntax tree: The syntax tree represents the structure of the program’s source code, which is used in compilers.  \n",
    "\n",
    "# 5. Trie: It is a fast and efficient way for dynamic spell checking. It is also used for locating specific keys from within a set.  \n",
    "\n",
    "# 6. Heap: It is also a tree data structure that can be represented in a form of an array. It is used to implement priority queues.  "
   ]
  },
  {
   "cell_type": "code",
   "execution_count": null,
   "metadata": {},
   "outputs": [],
   "source": []
  },
  {
   "cell_type": "code",
   "execution_count": null,
   "metadata": {},
   "outputs": [],
   "source": [
    "# 3 BINARY TREE IN PYTHON\n",
    "# Linked representation of tree as shown below\n",
    "# Array representation also possible..heap data structure."
   ]
  },
  {
   "cell_type": "markdown",
   "metadata": {},
   "source": [
    "![Alt text](image-1.png)"
   ]
  },
  {
   "cell_type": "code",
   "execution_count": 2,
   "metadata": {},
   "outputs": [],
   "source": [
    "# Python program to introduce Binary Tree\n",
    "\n",
    "# A class that represents an individual node\n",
    "# in a Binary Tree\n",
    "class Node:\n",
    "\tdef __init__(self, key):\n",
    "\t\tself.left = None\n",
    "\t\tself.right = None\n",
    "\t\tself.val = key\n",
    "\n",
    "\n",
    "if __name__ == '__main__':\n",
    "\t# Create root\n",
    "\troot = Node(1)\n",
    "\t''' following is the tree after above statement\n",
    "\t\t1\n",
    "\t   / \\\n",
    "\tNone None'''\n",
    "\t\n",
    "\troot.left = Node(2)\n",
    "\troot.right = Node(3)\n",
    "\t''' 2 and 3 become left and right children of 1\n",
    "\t\t 1\n",
    "\t\t/ \\\n",
    "\t\t2\t 3\n",
    "\t   / \\ / \\\n",
    "\tNone None None None'''\n",
    "\t\n",
    "\troot.left.left = Node(4)\n",
    "\t'''4 becomes left child of 2\n",
    "\t\t  1\n",
    "\t\t/\t \\\n",
    "\t\t2\t\t 3\n",
    "\t\t/ \\\t     / \\\n",
    "\t   4 None None None\n",
    "\t  / \\\n",
    "\tNone None'''"
   ]
  },
  {
   "cell_type": "code",
   "execution_count": null,
   "metadata": {},
   "outputs": [],
   "source": []
  },
  {
   "cell_type": "code",
   "execution_count": 3,
   "metadata": {},
   "outputs": [],
   "source": [
    "#4 Tree Traversal\n",
    "# Breadth first to be discussed latter"
   ]
  },
  {
   "cell_type": "markdown",
   "metadata": {},
   "source": [
    "![Alt text](image-2.png)"
   ]
  },
  {
   "cell_type": "code",
   "execution_count": 4,
   "metadata": {},
   "outputs": [],
   "source": [
    "# 3! combination possible\n",
    "# out of this 3 combination most popular"
   ]
  },
  {
   "cell_type": "markdown",
   "metadata": {},
   "source": [
    "![Alt text](image-3.png)"
   ]
  },
  {
   "cell_type": "markdown",
   "metadata": {},
   "source": [
    "![Alt text](image-4.png)"
   ]
  },
  {
   "cell_type": "markdown",
   "metadata": {},
   "source": [
    "![Alt text](image-5.png)"
   ]
  },
  {
   "cell_type": "markdown",
   "metadata": {},
   "source": [
    "![Alt text](image-6.png)"
   ]
  },
  {
   "cell_type": "code",
   "execution_count": null,
   "metadata": {},
   "outputs": [],
   "source": []
  },
  {
   "cell_type": "code",
   "execution_count": 3,
   "metadata": {},
   "outputs": [
    {
     "name": "stdout",
     "output_type": "stream",
     "text": [
      "4\n",
      "2\n",
      "5\n",
      "1\n",
      "3\n"
     ]
    }
   ],
   "source": [
    "class Node:\n",
    "\tdef __init__(self, key):\n",
    "\t\tself.left = None\n",
    "\t\tself.right = None\n",
    "\t\tself.val = key\n",
    "\n",
    "\n",
    "# A function to do inorder tree traversal\n",
    "def printInorder(root):\n",
    "\n",
    "\tif root:\n",
    "\n",
    "\t\t# First recur on left child\n",
    "\t\tprintInorder(root.left)\n",
    "\n",
    "\t\t# then print the data of node\n",
    "\t\tprint(root.val),\n",
    "\n",
    "\t\t# now recur on right child\n",
    "\t\tprintInorder(root.right)\n",
    "\n",
    "root = Node(1)\n",
    "root.left = Node(2)\n",
    "root.right = Node(3)\n",
    "root.left.left = Node(4)\n",
    "root.left.right = Node(5)\n",
    "\n",
    "\n",
    "\n",
    "printInorder(root)"
   ]
  },
  {
   "cell_type": "code",
   "execution_count": 4,
   "metadata": {},
   "outputs": [],
   "source": [
    "\n",
    "# A function to do postorder tree traversal\n",
    "def printPostorder(root):\n",
    "\n",
    "\tif root:\n",
    "\n",
    "\t\t# First recur on left child\n",
    "\t\tprintPostorder(root.left)\n",
    "\n",
    "\t\t# the recur on right child\n",
    "\t\tprintPostorder(root.right)\n",
    "\n",
    "\t\t# now print the data of node\n",
    "\t\tprint(root.val)\n",
    "\t\t\n",
    "def printPreorder(root):\n",
    "\n",
    "\tif root:\n",
    "\n",
    "\t\t# First print the data of node\n",
    "\t\tprint(root.val),\n",
    "\n",
    "\t\t# Then recur on left child\n",
    "\t\tprintPreorder(root.left)\n",
    "\n",
    "\t\t# Finally recur on right child\n",
    "\t\tprintPreorder(root.right)\n",
    "\n"
   ]
  },
  {
   "cell_type": "code",
   "execution_count": null,
   "metadata": {},
   "outputs": [],
   "source": [
    "# Each node is going to get called once..so time complexity is o(n)\n",
    "# Time Complexity: O(N)\n",
    "# Auxiliary Space: If we don’t consider the size of the stack for function calls then O(1) otherwise O(h) where h is the height of the tree. \n",
    "\n",
    "# Note: The height of the skewed tree is n (no. of elements) so the worst space complexity is O(N) and the height is (Log N) for the balanced tree so the best space\n",
    "# complexity is O(Log N)"
   ]
  },
  {
   "cell_type": "code",
   "execution_count": null,
   "metadata": {},
   "outputs": [],
   "source": []
  },
  {
   "cell_type": "code",
   "execution_count": null,
   "metadata": {},
   "outputs": [],
   "source": [
    "#7 Height of Binary tree"
   ]
  },
  {
   "cell_type": "markdown",
   "metadata": {},
   "source": [
    "![Alt text](image-7.png)"
   ]
  },
  {
   "cell_type": "code",
   "execution_count": 10,
   "metadata": {},
   "outputs": [
    {
     "data": {
      "text/plain": [
       "3"
      ]
     },
     "execution_count": 10,
     "metadata": {},
     "output_type": "execute_result"
    }
   ],
   "source": [
    "#7 Height of Binary tree\n",
    "class Node:\n",
    "\tdef __init__(self, key):\n",
    "\t\tself.left = None\n",
    "\t\tself.right = None\n",
    "\t\tself.val = key\n",
    "\n",
    "\n",
    "# A function to do inorder tree traversal\n",
    "def height(root):\n",
    "\n",
    "\tif root:\n",
    "\t\tlh = height(root.left)\n",
    "\t\trh = height(root.right)\n",
    "\t\treturn max(lh,rh) + 1\n",
    "\telse:\n",
    "\t\treturn 0\n",
    "\n",
    "\n",
    "root = Node(1)\n",
    "root.left = Node(2)\n",
    "root.right = Node(3)\n",
    "root.left.left = Node(4)\n",
    "root.left.right = Node(5)\n",
    "\n",
    "\n",
    "\n",
    "height(root)\n",
    "\n"
   ]
  },
  {
   "cell_type": "markdown",
   "metadata": {},
   "source": [
    "![Alt text](image-8.png)"
   ]
  },
  {
   "cell_type": "code",
   "execution_count": null,
   "metadata": {},
   "outputs": [],
   "source": []
  },
  {
   "cell_type": "code",
   "execution_count": null,
   "metadata": {},
   "outputs": [],
   "source": []
  },
  {
   "cell_type": "code",
   "execution_count": null,
   "metadata": {},
   "outputs": [],
   "source": [
    "# 8 Print the nodes at distance K"
   ]
  },
  {
   "cell_type": "markdown",
   "metadata": {},
   "source": [
    "![Alt text](image-9.png)"
   ]
  },
  {
   "cell_type": "code",
   "execution_count": 11,
   "metadata": {},
   "outputs": [
    {
     "name": "stdout",
     "output_type": "stream",
     "text": [
      "4 5 8 "
     ]
    }
   ],
   "source": [
    "# Python program to find the nodes at k distance from root\n",
    "\n",
    "# A Binary tree node\n",
    "class Node:\n",
    "\t\n",
    "\t# Constructor to create a new node\n",
    "\tdef __init__(self, data):\n",
    "\t\tself.data = data\n",
    "\t\tself.left = None\n",
    "\t\tself.right = None\n",
    "\n",
    "def printKDistant(root, k):\n",
    "\t\n",
    "\tif root is None:\n",
    "\t\treturn\n",
    "\tif k == 0:\n",
    "\t\tprint (root.data,end=' ')\n",
    "\telse:\n",
    "\t\tprintKDistant(root.left, k-1)\n",
    "\t\tprintKDistant(root.right, k-1)\n",
    "\n",
    "# Driver program to test above function\n",
    "\"\"\"\n",
    "Constructed binary tree is\n",
    "\t\t\t1\n",
    "\t\t/ \\\n",
    "\t\t2\t 3\n",
    "\t/ \\ /\n",
    "\t4\t 5 8\n",
    "\"\"\"\n",
    "root = Node(1)\n",
    "root.left = Node(2)\n",
    "root.right = Node(3)\n",
    "root.left.left = Node(4)\n",
    "root.left.right = Node(5)\n",
    "root.right.left = Node(8)\n",
    "\n",
    "printKDistant(root, 2)\n",
    "\n",
    "\n"
   ]
  },
  {
   "cell_type": "code",
   "execution_count": null,
   "metadata": {},
   "outputs": [],
   "source": []
  },
  {
   "cell_type": "code",
   "execution_count": null,
   "metadata": {},
   "outputs": [],
   "source": []
  },
  {
   "cell_type": "code",
   "execution_count": 12,
   "metadata": {},
   "outputs": [],
   "source": [
    "#9 Level traversal of binary tree"
   ]
  },
  {
   "cell_type": "code",
   "execution_count": 13,
   "metadata": {},
   "outputs": [],
   "source": [
    "# Naive method"
   ]
  },
  {
   "cell_type": "markdown",
   "metadata": {},
   "source": [
    "![Alt text](image-10.png)"
   ]
  },
  {
   "cell_type": "code",
   "execution_count": 21,
   "metadata": {},
   "outputs": [
    {
     "name": "stdout",
     "output_type": "stream",
     "text": [
      "1\n",
      "2\n",
      "3\n",
      "4\n",
      "5\n",
      "8\n"
     ]
    }
   ],
   "source": [
    "# Using queue data structure\n",
    "# A Binary tree node\n",
    "class Node:\n",
    "\t\n",
    "\t# Constructor to create a new node\n",
    "\tdef __init__(self, data):\n",
    "\t\tself.data = data\n",
    "\t\tself.left = None\n",
    "\t\tself.right = None\n",
    "\n",
    "def leveltraversal(root):\n",
    "\tl = []\n",
    "\tl.append(root)\n",
    "\twhile l != []:\n",
    "\t\tx =l.pop(0)\n",
    "\t\tprint(x.data)\n",
    "\t\t\n",
    "\t\tif x.left != None:\n",
    "\t\t\tl.append(x.left)\n",
    "\t\tif x.right != None:\n",
    "\t\t\tl.append(x.right)\n",
    "\t\t\t\n",
    "\t\t\n",
    "\t\n",
    "\n",
    "\n",
    "# Driver program to test above function\n",
    "\"\"\"\n",
    "Constructed binary tree is\n",
    "\t\t\t1\n",
    "\t\t/ \\\n",
    "\t\t2\t 3\n",
    "\t/ \\ /\n",
    "\t4\t 5 8\n",
    "\"\"\"\n",
    "root = Node(1)\n",
    "root.left = Node(2)\n",
    "root.right = Node(3)\n",
    "root.left.left = Node(4)\n",
    "root.left.right = Node(5)\n",
    "root.right.left = Node(8)\n",
    "\n",
    "leveltraversal(root)\n",
    "\n",
    "\n"
   ]
  },
  {
   "cell_type": "markdown",
   "metadata": {},
   "source": [
    "![Alt text](image-11.png)"
   ]
  },
  {
   "cell_type": "code",
   "execution_count": null,
   "metadata": {},
   "outputs": [],
   "source": []
  },
  {
   "cell_type": "code",
   "execution_count": null,
   "metadata": {},
   "outputs": [],
   "source": [
    "# 9 Size of tree"
   ]
  },
  {
   "cell_type": "markdown",
   "metadata": {},
   "source": [
    "![Alt text](image-12.png)"
   ]
  },
  {
   "cell_type": "code",
   "execution_count": 22,
   "metadata": {},
   "outputs": [
    {
     "name": "stdout",
     "output_type": "stream",
     "text": [
      "Size of the tree is 5\n"
     ]
    }
   ],
   "source": [
    "# Python Program to find the size of binary tree\n",
    "\n",
    "# A binary tree node\n",
    "class Node:\n",
    "\n",
    "\t# Constructor to create a new node\n",
    "\tdef __init__(self, data):\n",
    "\t\tself.data = data\n",
    "\t\tself.left = None\n",
    "\t\tself.right = None\n",
    "\n",
    "# Computes the number of nodes in tree\n",
    "def size(node):\n",
    "\tif node is None:\n",
    "\t\treturn 0\n",
    "\telse:\n",
    "\t\treturn (size(node.left)+ 1 + size(node.right))\n",
    "\n",
    "\n",
    "# Driver program to test above function\n",
    "root = Node(1)\n",
    "root.left = Node(2)\n",
    "root.right = Node(3)\n",
    "root.left.left = Node(4)\n",
    "root.left.right = Node(5)\n",
    "\n",
    "print(\"Size of the tree is %d\" %(size(root)))\n"
   ]
  },
  {
   "cell_type": "code",
   "execution_count": null,
   "metadata": {},
   "outputs": [],
   "source": []
  },
  {
   "cell_type": "code",
   "execution_count": 27,
   "metadata": {},
   "outputs": [
    {
     "name": "stdout",
     "output_type": "stream",
     "text": [
      "Max of the tree is 32\n"
     ]
    }
   ],
   "source": [
    "# Python Program to find the size of binary tree\n",
    "\n",
    "# A binary tree node\n",
    "class Node:\n",
    "\n",
    "\t# Constructor to create a new node\n",
    "\tdef __init__(self, data):\n",
    "\t\tself.data = data\n",
    "\t\tself.left = None\n",
    "\t\tself.right = None\n",
    "\n",
    "# Computes the number of nodes in tree\n",
    "def maximum(node):\n",
    "\tif node is None:\n",
    "\t\treturn -float('inf')\n",
    "\telse:\n",
    "\t\treturn max(maximum(node.left), node.data, maximum(node.right))\n",
    "\n",
    "\n",
    "# Driver program to test above function\n",
    "root = Node(1)\n",
    "root.left = Node(2)\n",
    "root.right = Node(32)\n",
    "root.left.left = Node(4)\n",
    "root.left.right = Node(5)\n",
    "\n",
    "print(\"Max of the tree is %d\" %(maximum(root)))\n"
   ]
  },
  {
   "cell_type": "markdown",
   "metadata": {},
   "source": [
    "![Alt text](image-13.png)"
   ]
  },
  {
   "cell_type": "code",
   "execution_count": 23,
   "metadata": {},
   "outputs": [
    {
     "data": {
      "text/plain": [
       "3"
      ]
     },
     "execution_count": 23,
     "metadata": {},
     "output_type": "execute_result"
    }
   ],
   "source": [
    "max(1,2,3)"
   ]
  },
  {
   "cell_type": "code",
   "execution_count": null,
   "metadata": {},
   "outputs": [],
   "source": []
  },
  {
   "cell_type": "code",
   "execution_count": null,
   "metadata": {},
   "outputs": [],
   "source": [
    "## Problems\n",
    "#Function to return a list containing the preorder traversal of the tree.\n",
    "\n",
    "# use of nonlocal keyword\n",
    "# or otherwise pass arr as argument\n",
    "\n",
    "def preorder(root):\n",
    "    \n",
    "    def preorderList(root):\n",
    "        nonlocal arr\n",
    "            \n",
    "        if root == None:\n",
    "            return\n",
    "        else:\n",
    "            arr.append(root.data)\n",
    "            preorderList(root.left)\n",
    "            preorderList(root.right)\n",
    "    \n",
    "    arr = []\n",
    "    preorderList(root)\n",
    "    return arr"
   ]
  },
  {
   "cell_type": "code",
   "execution_count": null,
   "metadata": {},
   "outputs": [],
   "source": [
    "class Solution:\n",
    "    def InOrder(self,root):\n",
    "        \n",
    "        def inorderList(root,arr):\n",
    "\n",
    "            if root == None:\n",
    "                return\n",
    "            else:\n",
    "                inorderList(root.left,arr)\n",
    "                arr.append(root.data)\n",
    "                inorderList(root.right,arr)\n",
    "    \n",
    "        arr = []\n",
    "        inorderList(root,arr)\n",
    "        return arr"
   ]
  },
  {
   "cell_type": "code",
   "execution_count": null,
   "metadata": {},
   "outputs": [],
   "source": [
    "# IDENTICAL OR NOT\n",
    "\n",
    "# defining the structure for tree nodes\n",
    "class Node:\n",
    "    def __init__(self, val):\n",
    "        self.val = val\n",
    "        self.left = None\n",
    "        self.right = None\n",
    " \n",
    "# defining the Solution class to check if a binary tree is\n",
    "# balanced\n",
    "class Solution:\n",
    "    # helper function to determine if a binary tree is\n",
    "    # balanced\n",
    "    def isBalancedfast(self, root):\n",
    "        # base case: if root is None, the tree is balanced\n",
    "        # and has height 0\n",
    "        if root is None:\n",
    "            return True, 0\n",
    "        # recursively call isBalancedfast function on left\n",
    "        # and right subtrees\n",
    "        left = self.isBalancedfast(root.left)\n",
    "        right = self.isBalancedfast(root.right)\n",
    " \n",
    "        # retrieve whether left and right subtrees are\n",
    "        # balanced\n",
    "        leftAns = left[0]\n",
    "        rightAns = right[0]\n",
    " \n",
    "        # check the difference in heights of left and right\n",
    "        # subtrees\n",
    "        diff = abs(left[1] - right[1]) <= 1\n",
    " \n",
    "        # set the height of the current node\n",
    "        height = max(left[1], right[1]) + 1\n",
    "        # if both subtrees are balanced and their heights\n",
    "        # differ by at most 1, the tree is balanced\n",
    "        if leftAns and rightAns and diff:\n",
    "            return True, height\n",
    "        # otherwise, the tree is not balanced\n",
    "        else:\n",
    "            return False, height\n",
    " \n",
    "    # Function to check whether a binary tree is balanced\n",
    "    # or not.\n",
    "    def isBalanced(self, root):\n",
    "        return self.isBalancedfast(root)[0]\n",
    " \n",
    "# create a binary tree\n",
    "root = Node(1)\n",
    "root.left = Node(2)\n",
    "root.right = Node(3)\n",
    "root.left.left = Node(4)\n",
    "root.left.right = Node(5)\n",
    "root.left.left.left = Node(8)\n",
    " \n",
    "# create an object of the Solution class\n",
    "obj = Solution()\n",
    "# check if the binary tree is balanced using the\n",
    "# isBalanced function\n",
    "if obj.isBalanced(root):\n",
    "    print(\"The given binary tree is balanced.\")\n",
    "else:\n",
    "    print(\"The given binary tree is not balanced.\")"
   ]
  },
  {
   "cell_type": "code",
   "execution_count": null,
   "metadata": {},
   "outputs": [],
   "source": [
    "## VIMPORTANT -- TREE balanced or not\n",
    "\n",
    "# defining the structure for tree nodes\n",
    "class Node:\n",
    "    def __init__(self, val):\n",
    "        self.val = val\n",
    "        self.left = None\n",
    "        self.right = None\n",
    " \n",
    "# defining the Solution class to check if a binary tree is\n",
    "# balanced\n",
    "class Solution:\n",
    "    # helper function to determine if a binary tree is\n",
    "    # balanced\n",
    "    def isBalancedfast(self, root):\n",
    "        # base case: if root is None, the tree is balanced\n",
    "        # and has height 0\n",
    "        if root is None:\n",
    "            return True, 0\n",
    "        # recursively call isBalancedfast function on left\n",
    "        # and right subtrees\n",
    "        left = self.isBalancedfast(root.left)\n",
    "        right = self.isBalancedfast(root.right)\n",
    " \n",
    "        # retrieve whether left and right subtrees are\n",
    "        # balanced\n",
    "        leftAns = left[0]\n",
    "        rightAns = right[0]\n",
    " \n",
    "        # check the difference in heights of left and right\n",
    "        # subtrees\n",
    "        diff = abs(left[1] - right[1]) <= 1\n",
    " \n",
    "        # set the height of the current node\n",
    "        height = max(left[1], right[1]) + 1\n",
    "        # if both subtrees are balanced and their heights\n",
    "        # differ by at most 1, the tree is balanced\n",
    "        if leftAns and rightAns and diff:\n",
    "            return True, height\n",
    "        # otherwise, the tree is not balanced\n",
    "        else:\n",
    "            return False, height\n",
    " \n",
    "    # Function to check whether a binary tree is balanced\n",
    "    # or not.\n",
    "    def isBalanced(self, root):\n",
    "        return self.isBalancedfast(root)[0]\n",
    " \n",
    "# create a binary tree\n",
    "root = Node(1)\n",
    "root.left = Node(2)\n",
    "root.right = Node(3)\n",
    "root.left.left = Node(4)\n",
    "root.left.right = Node(5)\n",
    "root.left.left.left = Node(8)\n",
    " \n",
    "# create an object of the Solution class\n",
    "obj = Solution()\n",
    "# check if the binary tree is balanced using the\n",
    "# isBalanced function\n",
    "if obj.isBalanced(root):\n",
    "    print(\"The given binary tree is balanced.\")\n",
    "else:\n",
    "    print(\"The given binary tree is not balanced.\")"
   ]
  },
  {
   "cell_type": "code",
   "execution_count": null,
   "metadata": {},
   "outputs": [],
   "source": [
    "#Back-end complete function Template for Python 3\n",
    "\n",
    "class Solution:\n",
    "    #Function to check whether all nodes of a tree have the value \n",
    "    #equal to the sum of their child nodes.\n",
    "    def isSumProperty(self, root):\n",
    "    \n",
    "        #if node is null or both child nodes are null, we return true.\n",
    "        if root is None :\n",
    "            return 1\n",
    "        if root.left is None and root.right is None:\n",
    "            return 1\n",
    "        \n",
    "\n",
    "        val_root = root.data\n",
    "        val_left , val_right = 0,0\n",
    "    \n",
    "\n",
    "        #if left child is not null then we store its value.\n",
    "        if root.left is not None:\n",
    "            val_left = root.left.data\n",
    "\n",
    "        #if right child is not null then we store its value.\n",
    "        if root.right is not None:\n",
    "            val_right = root.right.data\n",
    "\n",
    "        #if sum of stored data of left and right child is equal to the current\n",
    "        #node data and recursively for the left and right subtree, parent data \n",
    "        #is equal to sum of child data then we return true else false.\n",
    "        if val_root != val_left + val_right:\n",
    "            return 0\n",
    "        return (self.isSumProperty(root.left) & self.isSumProperty(root.right))"
   ]
  }
 ],
 "metadata": {
  "kernelspec": {
   "display_name": "Python 3",
   "language": "python",
   "name": "python3"
  },
  "language_info": {
   "codemirror_mode": {
    "name": "ipython",
    "version": 3
   },
   "file_extension": ".py",
   "mimetype": "text/x-python",
   "name": "python",
   "nbconvert_exporter": "python",
   "pygments_lexer": "ipython3",
   "version": "3.11.3"
  },
  "orig_nbformat": 4
 },
 "nbformat": 4,
 "nbformat_minor": 2
}
