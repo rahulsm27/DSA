{
 "cells": [
  {
   "cell_type": "code",
   "execution_count": null,
   "metadata": {},
   "outputs": [],
   "source": [
    "# In computer science, a trie is also known as: Digital tree, Prefix tree, Radix tree. \n",
    "# A trie is a type of k-ary search tree that stores and manipulates associative arrays or dynamic sets. It's used to locate specific keys from within a set. The keys are most often strings, with links between nodes defined by individual characters. \n"
   ]
  },
  {
   "cell_type": "code",
   "execution_count": 1,
   "metadata": {},
   "outputs": [],
   "source": [
    "# # INTRODCTION - ALSO KNOW AS DIGITAL TEE\n",
    "# The Trie data structure is an efficient information re-trie-val data structure. The Trie data struture is used to efficiently search for a particular string key among a list of such keys. Using the trie, the lookup operation can be performed in time complexity of O(key_length).\n",
    "\n",
    "# Representation:\n",
    "# A trie is represented as a tree where each node contains 26 pointers which is equal to the number of characters in the English alphabets. In Trie basically, the common prefix of all strings are represented as a common path in the tree."
   ]
  },
  {
   "cell_type": "markdown",
   "metadata": {},
   "source": [
    "![Alt text](image-218.png)"
   ]
  },
  {
   "cell_type": "code",
   "execution_count": 2,
   "metadata": {},
   "outputs": [],
   "source": [
    "# Search O(word_len) in worst case vs O(word_len) on average"
   ]
  },
  {
   "cell_type": "markdown",
   "metadata": {},
   "source": [
    "![Alt text](image-219.png)"
   ]
  },
  {
   "cell_type": "markdown",
   "metadata": {},
   "source": [
    "![Alt text](image-221.png)"
   ]
  },
  {
   "cell_type": "code",
   "execution_count": null,
   "metadata": {},
   "outputs": [],
   "source": []
  },
  {
   "cell_type": "markdown",
   "metadata": {},
   "source": [
    "![Alt text](image-220.png)"
   ]
  },
  {
   "cell_type": "code",
   "execution_count": null,
   "metadata": {},
   "outputs": [],
   "source": [
    "# INSERT\n",
    "\n",
    "# TRAVERSE THROUGH KEYS\n",
    "# GET indes using ord(k) - ord(a)\n",
    "# check if child is present if not create a node\n",
    "# change node to node.child\n",
    "\n",
    "# at the end we would be at last key..mark is end of wod"
   ]
  },
  {
   "cell_type": "markdown",
   "metadata": {},
   "source": [
    "![Alt text](image-222.png)"
   ]
  },
  {
   "cell_type": "code",
   "execution_count": null,
   "metadata": {},
   "outputs": [],
   "source": [
    "\tdef insert(self,key):\n",
    "\t\t\n",
    "\t\t# If not present, inserts key into trie\n",
    "\t\t# If the key is prefix of trie node,\n",
    "\t\t# just marks leaf node\n",
    "\t\tpCrawl = self.root\n",
    "\t\tlength = len(key)\n",
    "\t\tfor level in range(length):\n",
    "\t\t\tindex = self._charToIndex(key[level])\n",
    "\n",
    "\t\t\t# if current character is not present\n",
    "\t\t\tif not pCrawl.children[index]:\n",
    "\t\t\t\tpCrawl.children[index] = self.getNode()\n",
    "\t\t\tpCrawl = pCrawl.children[index]\n",
    "\n",
    "\t\t# mark last node as leaf\n",
    "\t\tpCrawl.isEndOfWord = True"
   ]
  },
  {
   "cell_type": "code",
   "execution_count": 3,
   "metadata": {},
   "outputs": [],
   "source": [
    "# Search"
   ]
  },
  {
   "cell_type": "markdown",
   "metadata": {},
   "source": [
    "![Alt text](image-223.png)"
   ]
  },
  {
   "cell_type": "code",
   "execution_count": null,
   "metadata": {},
   "outputs": [],
   "source": [
    "# Delete"
   ]
  },
  {
   "cell_type": "markdown",
   "metadata": {},
   "source": [
    "![Alt text](image-224.png)"
   ]
  },
  {
   "cell_type": "markdown",
   "metadata": {},
   "source": [
    "![Alt text](image-225.png)"
   ]
  },
  {
   "cell_type": "markdown",
   "metadata": {},
   "source": []
  },
  {
   "cell_type": "code",
   "execution_count": 4,
   "metadata": {},
   "outputs": [],
   "source": [
    "# Count distinct rows in a bnary matrix"
   ]
  },
  {
   "cell_type": "markdown",
   "metadata": {},
   "source": [
    "![Alt text](image-226.png)"
   ]
  },
  {
   "cell_type": "markdown",
   "metadata": {},
   "source": [
    "![Alt text](image-227.png)"
   ]
  },
  {
   "cell_type": "markdown",
   "metadata": {},
   "source": [
    "![Alt text](image-228.png)"
   ]
  },
  {
   "cell_type": "markdown",
   "metadata": {},
   "source": [
    "![Alt text](image-229.png)"
   ]
  },
  {
   "cell_type": "markdown",
   "metadata": {},
   "source": []
  },
  {
   "cell_type": "code",
   "execution_count": null,
   "metadata": {},
   "outputs": [],
   "source": [
    "# AUTO COMPLETE Implementation using Trie\n",
    "\n",
    "\n",
    "# We can implement this Auto-Complete feature easily using a Trie data structure. We will have to first insert all of the strings initially in a Trie, and then fetch all matching strings based on the user's query.\n",
    "\n",
    "# Detailed Algorithm:\n",
    " \n",
    "\n",
    "# Insert all of the given strings in a Trie.\n",
    "# Search for the given query using standard Trie search algorithm.\n",
    "# If query prefix itself is not present, return -1 to indicate the same.\n",
    "# If the query is present and is the end of the word in Trie, print query. This can quickly be checked by seeing if the last matching node has the isEndWord flag set. We use this flag in Trie to mark the end of word nodes for the purpose of searching.\n",
    "# If the last matching node of the query has no children, return.\n",
    "# Else recursively print all nodes under a subtree of last matching node."
   ]
  },
  {
   "cell_type": "code",
   "execution_count": 5,
   "metadata": {},
   "outputs": [
    {
     "name": "stdout",
     "output_type": "stream",
     "text": [
      "hel\n",
      "hell\n",
      "hello\n",
      "help\n",
      "helps\n",
      "helping\n"
     ]
    }
   ],
   "source": [
    "class TrieNode():\n",
    "\tdef __init__(self):\n",
    "\t\t# Initialising one node for trie\n",
    "\t\tself.children = {}\n",
    "\t\tself.last = False\n",
    "\n",
    "\n",
    "class Trie():\n",
    "\tdef __init__(self):\n",
    "\n",
    "\t\t# Initialising the trie structure.\n",
    "\t\tself.root = TrieNode()\n",
    "\n",
    "\tdef formTrie(self, keys):\n",
    "\n",
    "\t\t# Forms a trie structure with the given set of strings\n",
    "\t\t# if it does not exists already else it merges the key\n",
    "\t\t# into it by extending the structure as required\n",
    "\t\tfor key in keys:\n",
    "\t\t\tself.insert(key) # inserting one key to the trie.\n",
    "\n",
    "\tdef insert(self, key):\n",
    "\n",
    "\t\t# Inserts a key into trie if it does not exist already.\n",
    "\t\t# And if the key is a prefix of the trie node, just\n",
    "\t\t# marks it as leaf node.\n",
    "\t\tnode = self.root\n",
    "\n",
    "\t\tfor a in key:\n",
    "\t\t\tif not node.children.get(a):\n",
    "\t\t\t\tnode.children[a] = TrieNode()\n",
    "\n",
    "\t\t\tnode = node.children[a]\n",
    "\n",
    "\t\tnode.last = True\n",
    "\n",
    "\tdef suggestionsRec(self, node, word):\n",
    "\n",
    "\t\t# Method to recursively traverse the trie\n",
    "\t\t# and return a whole word.\n",
    "\t\tif node.last:\n",
    "\t\t\tprint(word)\n",
    "\n",
    "\t\tfor a, n in node.children.items():\n",
    "\t\t\tself.suggestionsRec(n, word + a)\n",
    "\n",
    "\tdef printAutoSuggestions(self, key):\n",
    "\n",
    "\t\t# Returns all the words in the trie whose common\n",
    "\t\t# prefix is the given key thus listing out all\n",
    "\t\t# the suggestions for autocomplete.\n",
    "\t\tnode = self.root\n",
    "\n",
    "\t\tfor a in key:\n",
    "\t\t\t# no string in the Trie has this prefix\n",
    "\t\t\tif not node.children.get(a):\n",
    "\t\t\t\treturn 0\n",
    "\t\t\tnode = node.children[a]\n",
    "\n",
    "\t\t# If prefix is present as a word, but\n",
    "\t\t# there is no subtree below the last\n",
    "\t\t# matching node.\n",
    "\t\tif not node.children:\n",
    "\t\t\treturn -1\n",
    "\n",
    "\t\tself.suggestionsRec(node, key)\n",
    "\t\treturn 1\n",
    "\n",
    "\n",
    "# Driver Code\n",
    "keys = [\"hello\", \"dog\", \"hell\", \"cat\", \"a\",\n",
    "\t\t\"hel\", \"help\", \"helps\", \"helping\"] # keys to form the trie structure.\n",
    "key = \"h\" # key for autocomplete suggestions.\n",
    "\n",
    "# creating trie object\n",
    "t = Trie()\n",
    "\n",
    "# creating the trie structure with the\n",
    "# given set of strings.\n",
    "t.formTrie(keys)\n",
    "\n",
    "# autocompleting the given key using\n",
    "# our trie structure.\n",
    "comp = t.printAutoSuggestions(key)\n",
    "\n",
    "if comp == -1:\n",
    "\tprint(\"No other strings found with this prefix\\n\")\n",
    "elif comp == 0:\n",
    "\tprint(\"No string found with this prefix\\n\")\n"
   ]
  },
  {
   "cell_type": "code",
   "execution_count": null,
   "metadata": {},
   "outputs": [],
   "source": []
  }
 ],
 "metadata": {
  "kernelspec": {
   "display_name": "Python 3",
   "language": "python",
   "name": "python3"
  },
  "language_info": {
   "codemirror_mode": {
    "name": "ipython",
    "version": 3
   },
   "file_extension": ".py",
   "mimetype": "text/x-python",
   "name": "python",
   "nbconvert_exporter": "python",
   "pygments_lexer": "ipython3",
   "version": "3.11.3"
  },
  "orig_nbformat": 4
 },
 "nbformat": 4,
 "nbformat_minor": 2
}
